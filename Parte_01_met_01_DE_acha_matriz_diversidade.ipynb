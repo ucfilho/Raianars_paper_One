{
  "nbformat": 4,
  "nbformat_minor": 0,
  "metadata": {
    "colab": {
      "name": "Parte_01_met_01_DE_acha_matriz_diversidade.ipynb",
      "provenance": [],
      "collapsed_sections": [],
      "include_colab_link": true
    },
    "kernelspec": {
      "name": "python3",
      "display_name": "Python 3"
    },
    "language_info": {
      "codemirror_mode": {
        "name": "ipython",
        "version": 3
      },
      "file_extension": ".py",
      "mimetype": "text/x-python",
      "name": "python",
      "nbconvert_exporter": "python",
      "pygments_lexer": "ipython3",
      "version": "3.7.3"
    },
    "accelerator": "GPU"
  },
  "cells": [
    {
      "cell_type": "markdown",
      "metadata": {
        "id": "view-in-github",
        "colab_type": "text"
      },
      "source": [
        "<a href=\"https://colab.research.google.com/github/ucfilho/Raianars_paper_One/blob/master/Parte_01_met_01_DE_acha_matriz_diversidade.ipynb\" target=\"_parent\"><img src=\"https://colab.research.google.com/assets/colab-badge.svg\" alt=\"Open In Colab\"/></a>"
      ]
    },
    {
      "cell_type": "code",
      "metadata": {
        "colab_type": "code",
        "id": "VNDZTKWUBOge",
        "outputId": "9301a444-1ead-4d28-96e8-ded9d809b8aa",
        "colab": {
          "base_uri": "https://localhost:8080/",
          "height": 126
        }
      },
      "source": [
        "############################### Importar códigos\n",
        "\n",
        "!git clone https://github.com/ucfilho/Raianars_paper_One/ #clonar do Github"
      ],
      "execution_count": 1,
      "outputs": [
        {
          "output_type": "stream",
          "text": [
            "Cloning into 'Raianars_paper_One'...\n",
            "remote: Enumerating objects: 9, done.\u001b[K\n",
            "remote: Counting objects: 100% (9/9), done.\u001b[K\n",
            "remote: Compressing objects: 100% (7/7), done.\u001b[K\n",
            "remote: Total 9 (delta 1), reused 0 (delta 0), pack-reused 0\u001b[K\n",
            "Unpacking objects: 100% (9/9), done.\n"
          ],
          "name": "stdout"
        }
      ]
    },
    {
      "cell_type": "code",
      "metadata": {
        "colab_type": "code",
        "id": "btZL0H3XBPx-",
        "outputId": "15544b56-2518-4881-a56e-0cd0ed558630",
        "colab": {
          "base_uri": "https://localhost:8080/",
          "height": 54
        }
      },
      "source": [
        "%cd Raianars_paper_One\n",
        "!ls"
      ],
      "execution_count": 2,
      "outputs": [
        {
          "output_type": "stream",
          "text": [
            "/content/Raianars_paper_One\n",
            "de_bounds_matriz.py  de_soma_renewed.py  Function.py  Get_Index.py  README.md\n"
          ],
          "name": "stdout"
        }
      ]
    },
    {
      "cell_type": "code",
      "metadata": {
        "id": "B7iwhNIlDXv2",
        "colab_type": "code",
        "colab": {}
      },
      "source": [
        "############################### Importar bibliotecas e iniciar a contagem do tempo\n",
        "import time\n",
        "import matplotlib.pyplot as plt\n",
        "import numpy as np\n",
        "from random import randint\n",
        "from scipy import optimize\n",
        "import de_bounds_matriz\n",
        "import de_soma_renewed\n",
        "import Get_Index\n",
        "import pandas as pd\n",
        "###############################"
      ],
      "execution_count": 0,
      "outputs": []
    },
    {
      "cell_type": "code",
      "metadata": {
        "colab_type": "code",
        "id": "BDMwd41C5ahQ",
        "colab": {}
      },
      "source": [
        "def fobj_de(x):\n",
        "  global MAX,MIN, mut, crossp, NPAR, its,Fun,X,SOMA,TOTAL,ITE,PARTIC,BUSCA,Fc\n",
        "  popsize=len(PARTIC)\n",
        "  #x=PARTIC\n",
        "  #print(MAX);print(MIN)\n",
        "  ind_mut=ITE-1\n",
        "  ind_crossp=2*ITE-1\n",
        "  OTIMO=1e99\n",
        "  Xo=[]\n",
        "  Xo=np.copy(X)\n",
        "  DIo=1e99 # start process\n",
        "  DIr,DIo=Get_Index.Di_rel(X,DIo)\n",
        "  xp=np.copy(PARTIC)#  ???????\n",
        "\n",
        "  for j in range(popsize):\n",
        "    xp=PARTIC[j] # ???????\n",
        "    X=np.copy(Xo)\n",
        "    for k in range(ITE):\n",
        "      imut=ind_mut+k\n",
        "      icrossp=ind_crossp+k\n",
        "      #print(\"ind_mut\",ind_mut)\n",
        "      #print(\"ind_crossp\",ind_crossp)\n",
        "      #print(\"x\",x)\n",
        "      #print(\"k=\",k)\n",
        "      #print(xp)\n",
        "      NPAR=np.copy(int(xp[k]))\n",
        "      # NPAR=np.copy(int(xp))\n",
        "      #print(\"NPAR=\",NPAR)\n",
        "      Fo=np.copy(xp[imut])\n",
        "      CRo=np.copy(xp[icrossp])\n",
        "      y_cod_F=Fr;y_cod_CR=Cr;\n",
        "\n",
        "      DIr,DI=Get_Index.Di_rel(X,DIo)\n",
        "\n",
        "      mut,crossp=Get_Index.Adjust_F_CR(DIr,Fo,CRo,y_cod_F,y_cod_CR,Fc)\n",
        "\n",
        "      X,BEST,FOBEST,XY,BEST_XY,SOMA= de_soma_renewed.de(MAX,MIN, mut, crossp, \n",
        "                                                            NPAR, its,Fun,X,SOMA,\n",
        "                                                            TOTAL)\n",
        "      if(FOBEST<OTIMO):\n",
        "        OTIMO=FOBEST\n",
        "        PARTIC_best=xp\n",
        "        Xresp=BEST\n",
        "\n",
        "        \n",
        "      #print(\"=== ++++====+++++\")\n",
        "      #print(BEST)\n",
        "      #print(PARTIC)\n",
        "      \n",
        "    #print(X)\n",
        "    Nomes=['OTIMO','PARTIC_best','Xresp']\n",
        "    BUSCA=pd.Series([OTIMO,PARTIC_best,Xresp],index=Nomes )\n",
        "    #print(BUSCA[1])\n",
        "    \n",
        "  return FOBEST"
      ],
      "execution_count": 0,
      "outputs": []
    },
    {
      "cell_type": "code",
      "metadata": {
        "colab_type": "code",
        "id": "v1OxgXboBKoG",
        "colab": {}
      },
      "source": [
        "############################### DADOS DE ENTRADA \n",
        "RUNS=1 #NÚMERO DE RODADAS\n",
        "#mut=0.8\n",
        "#crossp=0.7\n",
        "  ############################### Função\n",
        "import Function\n",
        "\n",
        "'''\n",
        "Fun=Function.Rosenbrock\n",
        "dim=30\n",
        "MAX=np.repeat(10,dim)\n",
        "MIN=np.repeat(-10,dim)\n",
        "\n",
        "  #Global optimum: f(xi)= 0\n",
        "'''\n",
        "'''\n",
        "dim=30\n",
        "Fun=Function.Sphere\n",
        "MAX=np.repeat(5.12,dim)\n",
        "MIN=np.repeat(-5.12,dim)\n",
        "  # f(x)=0 x=(0,0) [-5.12,5.12]\n",
        "'''\n",
        "#'''\n",
        "dim=2\n",
        "Fun=Function.Schwefel\n",
        "MAX=np.repeat(500,dim)\n",
        "MIN=np.repeat(-500,dim)\n",
        "  #Global optimum: f(xi)= 0 for xi = 420.968746 for i=1,...,n  ;  xi in [-500,500]  \n",
        "#'''\n",
        "'''\n",
        "dim=30\n",
        "Fun=Function.Rastrigin\n",
        "MAX=np.repeat(5.12,dim)\n",
        "MIN=np.repeat(-5.12,dim)\n",
        "  # f(x)=0 x=(0,0) [-5.12,5.12]\n",
        "'''\n",
        "'''\n",
        "dim=30\n",
        "Fun=Function.Sum_of_different_powers\n",
        "MAX=np.repeat(1,dim)\n",
        "MIN=np.repeat(-1,dim)\n",
        "  # f(x)=0 x=(0,0)\n",
        "'''\n",
        "'''  \n",
        "dim=30\n",
        "Fun=Function.Ackley\n",
        "MAX=np.repeat(32,dim)\n",
        "MIN=np.repeat(-32,dim)\n",
        " # f(x)=0 x=(0,0) [-32, 32]\n",
        "'''\n",
        "'''  \n",
        "dim=30\n",
        "Fun=Function.Michalewicz\n",
        "MAX=np.repeat(np.pi,dim)\n",
        "MIN=np.repeat(0,dim)\n",
        " #fx=-9.66015 p/ d=10 [0,pi]\n",
        "'''\n",
        "'''  \n",
        "dim=30\n",
        "Fun=Function.\n",
        "MAX=np.repeat(1,dim)\n",
        "MIN=np.repeat(-1,dim)\n",
        "'''\n",
        "\n",
        "PAR=len(MAX) #NUM DE PARAMETROS A SER OTIMIZADOS\n"
      ],
      "execution_count": 0,
      "outputs": []
    },
    {
      "cell_type": "code",
      "metadata": {
        "id": "Mb3LmbSmj9v7",
        "colab_type": "code",
        "outputId": "f38f5a11-44dc-4b30-fb38-9e7db669dcc1",
        "colab": {
          "base_uri": "https://localhost:8080/",
          "height": 163
        }
      },
      "source": [
        "##################################### IMPORTAR MÓDULOS\n",
        "\n",
        "\n",
        "Fc=0.05 # usa para corrigir o CR e F quando sao negativos (valor minimo)\n",
        "NMAX=1000 # maximo tamanho da populacao\n",
        "\n",
        "dimensions=len(MAX)\n",
        "\n",
        "start_time = time.time() #INICIALIZA CONTAGEM DO TEMPO\n",
        "its=10 # quantas vezes vai usar o NPAR antes de alterar de novo\n",
        "ITE=10 # PONTOS quantas vezes vai alteral NPAR \n",
        "#PARTIC=[10,80,10,400,100,100,100,100,100,100]\n",
        "#ITE=50 # so para testar\n",
        "\n",
        "#TOTAL=7*dim*its*ITE\n",
        "TOTAL=10*dim*its*ITE\n",
        "\n",
        "maxiter=3\n",
        "popsize=5\n",
        "p=int(TOTAL/its/ITE) \n",
        "\n",
        "#PARTIC=np.zeros(ITE) # porque isto se eh redefinido mais em baixo e nao eh usado aqui\n",
        "MAX_P=np.zeros(ITE) # ATENCAO para variar F e Cr MAX_P passa a ser 3 vezes maior\n",
        "MIN_P=np.zeros(ITE) # ATENCAO para variar F e Cr  MIN_P passa a ser 3 vezes maior\n",
        "\n",
        "for i in range(dim):\n",
        "  MAX_P[i]=MAX[i] \n",
        "  MIN_P[i]=MIN[i]\n",
        "\n",
        "\n",
        "for i in range(RUNS):\n",
        "  SOMA=0\n",
        "  pop = np.random.rand(NMAX, dimensions)\n",
        "  diff=np.zeros(PAR)\n",
        "  for ii in range(PAR):\n",
        "    diff[ii] = MAX[ii]-MIN[ii]\n",
        "  X = MIN + pop * diff\n",
        "    \n",
        "  PONTOS=ITE # DIVISOES DA POPULACAO\n",
        " \n",
        " ############################################################\n",
        "  #bounds=[(5*dim, 15*dim)] * PONTOS # ITE\n",
        "  #bounds=[(3*dim, 12*dim)] * PONTOS # ITE\n",
        "  #bounds=[(4*dim, 16*dim)] * PONTOS\n",
        "  \n",
        "  # nao pode ser assim pq o bounds vale p o DE nao dos parametros\n",
        "  #p=int(TOTAL/its/ITE) \n",
        "  bounds=[(p, p)] * PONTOS\n",
        "  #bounds=[]\n",
        "  #for k in range(dim):\n",
        "  #  bounds.append((MIN[k], MAX[k]))\n",
        "  # print(\"=========bounds=\",bounds)\n",
        "    \n",
        "\n",
        "\n",
        "  #'''\n",
        "  #Geral\n",
        "  new_mut=(-1,1)\n",
        "  new_crossp=(-1,1)\n",
        "  #'''\n",
        "  '''\n",
        "  #Multimodal Separável \n",
        "  new_mut=(0.5,1)\n",
        "  new_crossp=(0,0.5)\n",
        "  '''\n",
        "  '''\n",
        "  #Multimodal Não Separável \n",
        "  new_mut=(0.5,1)\n",
        "  new_crossp=(0.5,1)\n",
        "  '''\n",
        "  '''\n",
        "  ##### Unimodal Separável\n",
        "  new_mut=(0,0.5)\n",
        "  new_crossp=(0,0.5)\n",
        "  '''\n",
        "  '''\n",
        "  ##### Unimodal Não Separável\n",
        "  new_mut=(0,0.5)\n",
        "  new_crossp=(0.5,1)\n",
        "  '''\n",
        " ############################################################ \n",
        "  # nao pode ser assim pq o bounds vale p o DE nao dos parametros\n",
        "  ''' '''\n",
        "  for j in range(PONTOS):\n",
        "    bounds.append(new_mut)\n",
        "    \n",
        "  for j in range(PONTOS):\n",
        "    bounds.append(new_crossp)\n",
        "\n",
        "  #print(\"=========bounds=\",bounds)\n",
        "\n",
        "  new_mut=(0.5,1)\n",
        "  new_crossp=(0,0.5)\n",
        "  Fr=np.zeros(its)\n",
        "  Cr=np.zeros(its)\n",
        "  #for i in range(its): # conferir se eh i mesmo ou deve ser k o indice\n",
        "  #  Cr[i]=new_mut[0]+(new_mut[1]-new_mut[0])*np.random.random()\n",
        "  #  Fr[i]=new_mut[0]+(new_mut[1]-new_mut[0])*np.random.random()\n",
        "  Cr=0;Fr=0;\n",
        "  PARTIC=np.zeros((popsize,its*3))\n",
        "\n",
        "  for k in range(popsize):\n",
        "    for i in range(its):\n",
        "      Cr=new_crossp[0]+(new_crossp[1]-new_crossp[0])*np.random.random()\n",
        "      Fr=new_mut[0]+(new_mut[1]-new_mut[0])*np.random.random()\n",
        "      PARTIC[k,i]=p\n",
        "      PARTIC[k,i+10]=Fr\n",
        "      PARTIC[k,i+20]=Cr\n",
        "  #print(\"=========PARTIC=\",PARTIC)\n",
        "  mut=0.5;  crossp=0.5;popsize=len(PARTIC);\n",
        "  X_resp,BEST,FOBEST,XY,BEST_XY= de_bounds_matriz.de(bounds, mut, \n",
        "                                                   crossp,popsize, maxiter,\n",
        "                                                   fobj_de,PARTIC)\n",
        "  #X,BEST,FOBEST,XY,BEST_XY,SOMA\n",
        "  #  global MAX,MIN, mut, crossp, NPAR, its,Fun,X,SOMA,TOTAL,ITE,PARTIC\n",
        "\n",
        "  print('OTIMIZAÇÃO DE_','maxiter=',maxiter,'_ popsize=', popsize,'_ bounds=',\n",
        "        bounds[0],'_F',new_mut,'_Cr',new_crossp,'_ TOTAL=',TOTAL,'_ Dim=', \n",
        "        PAR,\"_Min/Max=\",MIN[0],\"/\",MAX[0],'_',Fun.__name__)\n",
        "  print('otimo FOBEST=',FOBEST)\n",
        "  print(\"BEST=\",BEST)\n",
        "  print(\"Soma= \",SOMA) \n",
        "#print(\"GlobalParam e Solucao:\", BEST,\"Função=\",FOBEST)     \n"
      ],
      "execution_count": 6,
      "outputs": [
        {
          "output_type": "stream",
          "text": [
            "OTIMIZAÇÃO DE_ maxiter= 3 _ popsize= 5 _ bounds= (20, 20) _F (0.5, 1) _Cr (0, 0.5) _ TOTAL= 2000 _ Dim= 2 _Min/Max= -500 / 500 _ Schwefel\n",
            "otimo FOBEST= 123.23899700271045\n",
            "BEST= [20.         20.         20.         20.         20.         20.\n",
            " 20.         20.         20.         20.          0.52286375  0.51000749\n",
            "  0.93262869  0.98863637  0.55952597  0.50361308  0.75416815  0.72805166\n",
            "  0.56640645  0.88488028  0.03661295  0.34646504  0.05564271  0.23049439\n",
            "  0.38667503  0.164431    0.215616    0.10364315  0.11886357  0.15801904]\n",
            "Soma=  2001\n"
          ],
          "name": "stdout"
        }
      ]
    },
    {
      "cell_type": "code",
      "metadata": {
        "id": "RWK5ZD-gt5uK",
        "colab_type": "code",
        "outputId": "570c2620-2b89-4f7e-f394-13f84b4b588c",
        "colab": {
          "base_uri": "https://localhost:8080/",
          "height": 199
        }
      },
      "source": [
        "print(BUSCA)\n",
        "print(\"=== resultado da otimizacao NP,F,Cr======\")\n",
        "print(BUSCA[1])"
      ],
      "execution_count": 7,
      "outputs": [
        {
          "output_type": "stream",
          "text": [
            "OTIMO                                                    123.239\n",
            "PARTIC_best    [20.0, 20.0, 20.0, 20.0, 20.0, 20.0, 20.0, 20....\n",
            "Xresp                   [415.43754808990377, -305.2687878615559]\n",
            "dtype: object\n",
            "=== resultado da otimizacao NP,F,Cr======\n",
            "[20.         20.         20.         20.         20.         20.\n",
            " 20.         20.         20.         20.          0.52286375  0.51000749\n",
            "  0.93262869  0.98863637  0.55952597  0.50361308  0.75416815  0.72805166\n",
            "  0.56640645  0.88488028  0.03661295  0.34646504  0.05564271  0.23049439\n",
            "  0.38667503  0.164431    0.215616    0.10364315  0.11886357  0.15801904]\n"
          ],
          "name": "stdout"
        }
      ]
    },
    {
      "cell_type": "code",
      "metadata": {
        "id": "ccM1jx_Jg3bA",
        "colab_type": "code",
        "outputId": "a7f3b3ae-a606-40b7-85a1-3f7c53cee255",
        "colab": {
          "base_uri": "https://localhost:8080/",
          "height": 35
        }
      },
      "source": [
        "#print(PARTIC)\n",
        "x=PARTIC[0]\n",
        "print(x[10])"
      ],
      "execution_count": 8,
      "outputs": [
        {
          "output_type": "stream",
          "text": [
            "0.5228637480395335\n"
          ],
          "name": "stdout"
        }
      ]
    },
    {
      "cell_type": "code",
      "metadata": {
        "id": "QUaj8SGXaU_l",
        "colab_type": "code",
        "outputId": "409a7155-1627-491a-8a64-b3c82419f213",
        "colab": {
          "base_uri": "https://localhost:8080/",
          "height": 745
        }
      },
      "source": [
        "print(X_resp)"
      ],
      "execution_count": 9,
      "outputs": [
        {
          "output_type": "stream",
          "text": [
            "[[2.00000000e+01 2.00000000e+01 2.00000000e+01 2.00000000e+01\n",
            "  2.00000000e+01 2.00000000e+01 2.00000000e+01 2.00000000e+01\n",
            "  2.00000000e+01 2.00000000e+01 5.22863748e-01 5.10007492e-01\n",
            "  9.32628693e-01 9.88636365e-01 5.59525969e-01 5.03613078e-01\n",
            "  7.54168153e-01 7.28051658e-01 5.66406453e-01 8.84880285e-01\n",
            "  3.66129507e-02 3.46465044e-01 5.56427127e-02 2.30494395e-01\n",
            "  3.86675028e-01 1.64431003e-01 2.15615996e-01 1.03643150e-01\n",
            "  1.18863569e-01 1.58019044e-01]\n",
            " [2.00000000e+01 2.00000000e+01 2.00000000e+01 2.00000000e+01\n",
            "  2.00000000e+01 2.00000000e+01 2.00000000e+01 2.00000000e+01\n",
            "  2.00000000e+01 2.00000000e+01 9.82658072e-01 9.15203068e-01\n",
            "  5.70726627e-01 5.07642951e-01 8.82562293e-01 5.74338770e-01\n",
            "  6.36749809e-01 5.73700339e-01 6.53956995e-01 7.27496992e-01\n",
            "  9.88620913e-02 4.95553936e-01 1.73851895e-01 4.87608521e-01\n",
            "  4.04720650e-01 3.62361004e-01 1.78497621e-01 2.13037043e-01\n",
            "  2.54020524e-01 1.20411106e-01]\n",
            " [2.00000000e+01 2.00000000e+01 2.00000000e+01 2.00000000e+01\n",
            "  2.00000000e+01 2.00000000e+01 2.00000000e+01 2.00000000e+01\n",
            "  2.00000000e+01 2.00000000e+01 5.51879022e-01 9.01780002e-01\n",
            "  5.80496801e-01 9.77817557e-01 5.63534835e-01 7.49156618e-01\n",
            "  6.97553101e-01 6.68151094e-01 9.32396585e-01 9.58234051e-01\n",
            "  4.64450800e-01 1.91843160e-01 3.42406196e-01 1.35282042e-01\n",
            "  2.27684724e-02 3.23939689e-01 7.99748722e-02 1.02294228e-01\n",
            "  1.44136635e-01 2.10612907e-01]\n",
            " [2.00000000e+01 2.00000000e+01 2.00000000e+01 2.00000000e+01\n",
            "  2.00000000e+01 2.00000000e+01 2.00000000e+01 2.00000000e+01\n",
            "  2.00000000e+01 2.00000000e+01 5.87957481e-01 7.13603205e-01\n",
            "  6.82089301e-01 8.83785368e-01 6.53359394e-01 6.75593651e-01\n",
            "  7.61719162e-01 7.23792651e-01 7.82134663e-01 5.21426660e-01\n",
            "  1.47735192e-01 2.54780880e-01 1.37453307e-01 4.88786772e-01\n",
            "  1.92539619e-01 9.96731499e-02 4.34425532e-01 9.76430731e-02\n",
            "  3.65421959e-03 1.17404753e-01]\n",
            " [2.00000000e+01 2.00000000e+01 2.00000000e+01 2.00000000e+01\n",
            "  2.00000000e+01 2.00000000e+01 2.00000000e+01 2.00000000e+01\n",
            "  2.00000000e+01 2.00000000e+01 5.28761000e-01 9.24285371e-01\n",
            "  5.69773634e-01 7.67904017e-01 9.69627506e-01 8.86681639e-01\n",
            "  5.60600948e-01 7.05604150e-01 9.28577300e-01 6.48057017e-01\n",
            "  4.73265973e-01 3.90226874e-01 1.54908394e-01 8.96690495e-02\n",
            "  3.89214818e-01 3.18710433e-01 1.18417137e-01 2.52621202e-01\n",
            "  3.51027286e-01 1.96322268e-01]]\n"
          ],
          "name": "stdout"
        }
      ]
    },
    {
      "cell_type": "code",
      "metadata": {
        "id": "AbzYBQrAa8FN",
        "colab_type": "code",
        "outputId": "07539ae7-a9f3-4771-825f-e279b65b3fdf",
        "colab": {
          "base_uri": "https://localhost:8080/",
          "height": 163
        }
      },
      "source": [
        "print(BEST_XY)"
      ],
      "execution_count": 10,
      "outputs": [
        {
          "output_type": "stream",
          "text": [
            "[2.00000000e+01 2.00000000e+01 2.00000000e+01 2.00000000e+01\n",
            " 2.00000000e+01 2.00000000e+01 2.00000000e+01 2.00000000e+01\n",
            " 2.00000000e+01 2.00000000e+01 5.22863748e-01 5.10007492e-01\n",
            " 9.32628693e-01 9.88636365e-01 5.59525969e-01 5.03613078e-01\n",
            " 7.54168153e-01 7.28051658e-01 5.66406453e-01 8.84880285e-01\n",
            " 3.66129507e-02 3.46465044e-01 5.56427127e-02 2.30494395e-01\n",
            " 3.86675028e-01 1.64431003e-01 2.15615996e-01 1.03643150e-01\n",
            " 1.18863569e-01 1.58019044e-01 1.23238997e+02]\n"
          ],
          "name": "stdout"
        }
      ]
    },
    {
      "cell_type": "code",
      "metadata": {
        "id": "IM4Z1313Kcqh",
        "colab_type": "code",
        "outputId": "6e766636-c061-413e-de20-d67d597d279c",
        "colab": {
          "base_uri": "https://localhost:8080/",
          "height": 126
        }
      },
      "source": [
        "BEST"
      ],
      "execution_count": 11,
      "outputs": [
        {
          "output_type": "execute_result",
          "data": {
            "text/plain": [
              "array([20.        , 20.        , 20.        , 20.        , 20.        ,\n",
              "       20.        , 20.        , 20.        , 20.        , 20.        ,\n",
              "        0.52286375,  0.51000749,  0.93262869,  0.98863637,  0.55952597,\n",
              "        0.50361308,  0.75416815,  0.72805166,  0.56640645,  0.88488028,\n",
              "        0.03661295,  0.34646504,  0.05564271,  0.23049439,  0.38667503,\n",
              "        0.164431  ,  0.215616  ,  0.10364315,  0.11886357,  0.15801904])"
            ]
          },
          "metadata": {
            "tags": []
          },
          "execution_count": 11
        }
      ]
    },
    {
      "cell_type": "code",
      "metadata": {
        "id": "aPls7UosX4or",
        "colab_type": "code",
        "outputId": "900f8d7f-45a4-433d-83ed-29eb2ce2f94b",
        "colab": {
          "base_uri": "https://localhost:8080/",
          "height": 35
        }
      },
      "source": [
        "print(TOTAL)"
      ],
      "execution_count": 12,
      "outputs": [
        {
          "output_type": "stream",
          "text": [
            "2000\n"
          ],
          "name": "stdout"
        }
      ]
    },
    {
      "cell_type": "code",
      "metadata": {
        "id": "9k1MgL3u1q_B",
        "colab_type": "code",
        "outputId": "724c3321-b41d-4935-cb6e-84091bf65ab0",
        "colab": {
          "base_uri": "https://localhost:8080/",
          "height": 35
        }
      },
      "source": [
        "TIME = (time.time() - start_time)\n",
        "print(TIME/60,'minutos')"
      ],
      "execution_count": 13,
      "outputs": [
        {
          "output_type": "stream",
          "text": [
            "0.7210093379020691 minutos\n"
          ],
          "name": "stdout"
        }
      ]
    },
    {
      "cell_type": "code",
      "metadata": {
        "id": "IJV62yE7vl1K",
        "colab_type": "code",
        "outputId": "5a8dc60f-9ec0-4ef5-a294-41c9a4c41091",
        "colab": {
          "base_uri": "https://localhost:8080/",
          "height": 55
        }
      },
      "source": [
        "BEST=BEST.tolist()\n",
        "print('PARTIC=[',end = '')\n",
        "for i in range(len(BEST)):\n",
        "  if i<ITE:\n",
        "    print(int(BEST[i]),',',end = '')\n",
        "  else:\n",
        "    print(BEST[i],',',end = '')\n",
        "print(']',end = '')"
      ],
      "execution_count": 14,
      "outputs": [
        {
          "output_type": "stream",
          "text": [
            "PARTIC=[20 ,20 ,20 ,20 ,20 ,20 ,20 ,20 ,20 ,20 ,0.5228637480395335 ,0.5100074916312265 ,0.9326286929295545 ,0.9886363650861842 ,0.559525968840809 ,0.5036130781118799 ,0.7541681527301414 ,0.7280516584682872 ,0.5664064534622408 ,0.8848802847456025 ,0.03661295072426779 ,0.34646504449963245 ,0.055642712694610075 ,0.2304943945505461 ,0.38667502849030205 ,0.16443100272770111 ,0.21561599609187693 ,0.10364315036233773 ,0.11886356900507966 ,0.1580190437827534 ,]"
          ],
          "name": "stdout"
        }
      ]
    }
  ]
}