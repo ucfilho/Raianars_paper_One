{
  "nbformat": 4,
  "nbformat_minor": 0,
  "metadata": {
    "colab": {
      "name": "Benchmark_Test_UPDATE.ipynb",
      "provenance": [],
      "collapsed_sections": [],
      "include_colab_link": true
    },
    "kernelspec": {
      "name": "python3",
      "display_name": "Python 3"
    }
  },
  "cells": [
    {
      "cell_type": "markdown",
      "metadata": {
        "id": "view-in-github",
        "colab_type": "text"
      },
      "source": [
        "<a href=\"https://colab.research.google.com/github/ucfilho/Raianars_paper_One/blob/master/Benchmark_Test_UPDATE.ipynb\" target=\"_parent\"><img src=\"https://colab.research.google.com/assets/colab-badge.svg\" alt=\"Open In Colab\"/></a>"
      ]
    },
    {
      "cell_type": "code",
      "metadata": {
        "id": "jg1OTMlxsowQ",
        "colab_type": "code",
        "colab": {}
      },
      "source": [
        "import numpy as np\n",
        "from scipy.optimize import differential_evolution"
      ],
      "execution_count": 0,
      "outputs": []
    },
    {
      "cell_type": "code",
      "metadata": {
        "id": "ZLyL-wRdD7pl",
        "colab_type": "code",
        "colab": {}
      },
      "source": [
        "# Implemented functions:\n",
        "# Alpine N2                   : multi     :    non-convex   \n",
        "# Griewank Function           : UNIMODAL  :    non-convex \n",
        "# HappyCat function           : multi     :    non-convex \n",
        "# Periodic function           : multi     :    non-convex \n",
        "# Qing Function               : multi     :    non-convex \n",
        "# Ridge function              : UNIMODAL  :    non-convex \n",
        "# Salomon function            : multi     :    non-convex \n",
        "# Styblinskitank function     : multi     :    non-convex \n",
        "# Shubert function            : multi     :    non-convex \n",
        "# Shubert3 function           : multi     :    non-convex \n",
        "# Xin-She Yang N. 3 Function  : UNIMODAL  :    non-convex \n",
        "# Zakharov Function           : UNIMODAL  :    convex "
      ],
      "execution_count": 0,
      "outputs": []
    },
    {
      "cell_type": "code",
      "metadata": {
        "id": "v4RTVURptFCa",
        "colab_type": "code",
        "colab": {}
      },
      "source": [
        "# Alpine N2 function\n",
        "# Not convex and non-separable it is usually evaluated  xi =[(0,10),..(0,10)]\n",
        "# global maxima 2.808**n at x=(7.917,...,7.917)\n",
        "\n",
        "def alpinen2(x):\n",
        "  prod=1\n",
        "  for i in x:\n",
        "    prod=prod*(i**0.5*np.sin(i))\n",
        "  return prod*(-1)"
      ],
      "execution_count": 0,
      "outputs": []
    },
    {
      "cell_type": "code",
      "metadata": {
        "id": "ImcPgjvp5Cq5",
        "colab_type": "code",
        "colab": {}
      },
      "source": [
        "# Griewank Function\n",
        "# Global minimum 1  at x=(0,0,...,0) \n",
        "# Not convex it is usually evaluated  xi =[(-600,600),..(-600,600)]\n",
        "def Griewank(x):\n",
        "  prod_cosx_i05=1\n",
        "  sumx1=0\n",
        "  sumx2=0\n",
        "  i=0\n",
        "  for k in x:\n",
        "    i=i+1\n",
        "    sumx1=sumx1+k\n",
        "    sumx2=sumx2+k*k\n",
        "    prod_cosx_i05=prod_cosx_i05*np.cos(k/(i**0.5))\n",
        "  return 1+sumx2/4000 - prod_cosx_i05"
      ],
      "execution_count": 0,
      "outputs": []
    },
    {
      "cell_type": "code",
      "metadata": {
        "id": "DSzPOBeTi06r",
        "colab_type": "code",
        "colab": {}
      },
      "source": [
        "# HappyCat function\n",
        "# global mimima 0 at (-1,-1,...,-1)\n",
        "# Not convex and non separable it is usually evaluated at xi =[(-600,600),..(-600,600)]\n",
        "\n",
        "def HappyCat(x): \n",
        "    alpha=1. / 8\n",
        "    s = sum(x**2) \n",
        "    return ((s - len(x))**2)**alpha + (s / 2 + sum(x)) / len(x) + 0.5 \n"
      ],
      "execution_count": 0,
      "outputs": []
    },
    {
      "cell_type": "code",
      "metadata": {
        "id": "sE3fXJaBPe9E",
        "colab_type": "code",
        "colab": {}
      },
      "source": [
        "# Periodic function\n",
        "# global minimum 0.9 at x=(0,0,...,0) \n",
        "# Not convex and non separable it is usually evaluated at xi =[(-10,10),..(-10,10)]\n",
        "def Periodic(x):\n",
        "  sumx2=0\n",
        "  sin2x=0\n",
        "  for i in x:\n",
        "    sumx2=sumx2+i**2\n",
        "    sin2x=sin2x+(np.sin(i))**2\n",
        "  return 1+sin2x-0.1*np.exp(-sumx2)"
      ],
      "execution_count": 0,
      "outputs": []
    },
    {
      "cell_type": "code",
      "metadata": {
        "id": "7z3xdiOY1af8",
        "colab_type": "code",
        "colab": {}
      },
      "source": [
        "# Qing Function\n",
        "# Global minimum 0  at x=(1^0.5,2^0.5,...,n^0.5) (xi=square root (i) for i=1,2,....n)\n",
        "# Convex it is usually evaluated  xi =[(-500,500),..(-500,500)]\n",
        "# PS: negative values of square root (i) for i=1,2,....n also provide global minimum\n",
        "def Qing(x):\n",
        "  sumx2_i_2=0\n",
        "  i=0\n",
        "  for k in x:\n",
        "    i=i+1\n",
        "    sumx2_i_2=sumx2_i_2+(k**2-i)**2\n",
        "  return sumx2_i_2"
      ],
      "execution_count": 0,
      "outputs": []
    },
    {
      "cell_type": "code",
      "metadata": {
        "id": "41vYg-TQvcdh",
        "colab_type": "code",
        "colab": {}
      },
      "source": [
        "# Ridge function\n",
        "# global maxima at x=(-gamma,0,0,...,0) ex gamma=5 (gamma é o limite inferior do intervalo)\n",
        "# Unimodal\n",
        "# Not Convex it is usually evaluated  xi =[(-500,500),..(-500,500)]\n",
        "def ridge(x):\n",
        "  soma=0\n",
        "  d=2\n",
        "  alpha=0.1\n",
        "  for i in x:\n",
        "    soma=soma+i**2\n",
        "  soma=soma-x[0]**2\n",
        "  return x[0]+d*soma**(alpha)\n"
      ],
      "execution_count": 0,
      "outputs": []
    },
    {
      "cell_type": "code",
      "metadata": {
        "colab_type": "code",
        "id": "mciUGuTaTMLU",
        "colab": {}
      },
      "source": [
        "# Salomon function\n",
        "# global minimum 0  at x=(0,0,...,0) \n",
        "# Not Convex it is usually evaluated  xi =[(-100,100),..(-100,100)]\n",
        "def Salomon(x):\n",
        "  sumx2=0\n",
        "  sqrtsx2=0\n",
        "  for i in x:\n",
        "    sumx2=sumx2+i**2\n",
        "  sqrtsx2=sumx2**0.5\n",
        "\n",
        "  return 1-np.cos(2*np.pi*sqrtsx2)+(0.1 * sqrtsx2)"
      ],
      "execution_count": 0,
      "outputs": []
    },
    {
      "cell_type": "code",
      "metadata": {
        "id": "Wrs0XM95V8-5",
        "colab_type": "code",
        "colab": {}
      },
      "source": [
        "# Styblinskitank function\n",
        "# global minimum −39.16599∗n at x=(−2.903534,…,−2.903534) \n",
        "# Not Convex it is usually evaluated  xi =[(-5,5),..(-5,5)]\n",
        "def Styblinskitank(x):\n",
        "  sumx1=0\n",
        "  sumx2=0\n",
        "  sumx4=0\n",
        "  for i in x:\n",
        "    sumx1=sumx1+i\n",
        "    sumx2=sumx2+i**2\n",
        "    sumx4=sumx4+i**4\n",
        "  return sumx4-16*sumx2+5*sumx1"
      ],
      "execution_count": 0,
      "outputs": []
    },
    {
      "cell_type": "code",
      "metadata": {
        "id": "ixNhmG4wFn6S",
        "colab_type": "code",
        "colab": {}
      },
      "source": [
        "# Shubert Function\n",
        "# Global minimum The function has 18 global minima  equal -186.7309\n",
        "#  Not Convex it is usually evaluated  xi =[(-10,10),..,(-10,10)]\n",
        "def Shubert(x):\n",
        "  prod=1\n",
        "\n",
        "  for i in x:\n",
        "    sum_eq=0\n",
        "    for k in range(5):\n",
        "      j=k+1\n",
        "      sum_eq=sum_eq+np.cos(((j + 1) * i) + j)\n",
        "    prod=prod*sum_eq\n",
        "  return prod\n"
      ],
      "execution_count": 0,
      "outputs": []
    },
    {
      "cell_type": "code",
      "metadata": {
        "id": "f3MDFjUgYrDv",
        "colab_type": "code",
        "colab": {}
      },
      "source": [
        "# Shubert3 function\n",
        "# global minimum −29.6733337 at x (not specified but DE found)=(-1.11409968,-1.11409968) \n",
        "# not convex it is usually evaluated  xi =[(-10,10),..,(-10,10)]\n",
        "def Shubert3(x):\n",
        "  soma=0\n",
        "\n",
        "  for i in x:\n",
        "    for k in range(5):\n",
        "      j=k+1\n",
        "      soma=soma +j * np.sin(((j + 1) * i) + j)\n",
        "\n",
        "  return soma"
      ],
      "execution_count": 0,
      "outputs": []
    },
    {
      "cell_type": "code",
      "metadata": {
        "id": "Bo74AZdE8ngp",
        "colab_type": "code",
        "colab": {}
      },
      "source": [
        "# Xin-She Yang N. 3 Function\n",
        "# Global minimum -1  at x=(0,0,...,0) for m=5 e b=15\n",
        "# Convex it is usually evaluated  xi =[(-2*pi,2*pi),..,(-2*pi,2*pi)]\n",
        "def XinSheYang(x):\n",
        "  m=5\n",
        "  b=15\n",
        "  sumx_b_2m=0\n",
        "  sumx2=0\n",
        "  prod_cos2x=1\n",
        "  for k in x:\n",
        "    sumx2=sumx2+k*k\n",
        "    sumx_b_2m=sumx_b_2m+(k/b)**(2*m)\n",
        "    prod_cos2x=prod_cos2x*np.cos(k)**2\n",
        "  return np.exp(-sumx_b_2m)-2*np.exp(-sumx2)*prod_cos2x"
      ],
      "execution_count": 0,
      "outputs": []
    },
    {
      "cell_type": "code",
      "metadata": {
        "id": "h-4pLA-gyCQK",
        "colab_type": "code",
        "colab": {}
      },
      "source": [
        "# Zakharov Function\n",
        "# Global minimum 0  at x=(0,0,...,0) \n",
        "# Convex it is usually evaluated on the hypercube xi =[(-5,10),..(-5,10)]\n",
        "def Zakharov(x):\n",
        "  sumx2=0\n",
        "  sum_05ix=0\n",
        "  i=0\n",
        "  for k in x:\n",
        "    i=i+1\n",
        "    sumx2=sumx2+k**2\n",
        "    sum_05ix=sum_05ix+0.5*i*k\n",
        "  return sumx2+ (sum_05ix)**2+ (sum_05ix)**4"
      ],
      "execution_count": 0,
      "outputs": []
    },
    {
      "cell_type": "code",
      "metadata": {
        "id": "Jfi6vDuhOOTG",
        "colab_type": "code",
        "colab": {}
      },
      "source": [
        "## results of functions evaluations...."
      ],
      "execution_count": 0,
      "outputs": []
    },
    {
      "cell_type": "code",
      "metadata": {
        "id": "OmFYjh5gqSOL",
        "colab_type": "code",
        "outputId": "98525e7d-b916-4fa6-ff75-5039a35f2494",
        "colab": {
          "base_uri": "https://localhost:8080/",
          "height": 34
        }
      },
      "source": [
        "# Alpine N2 function\n",
        "# Not convex and non-separable it is usually evaluated  xi =[(0,10),..(0,10)]\n",
        "# global maxima 2.808**n at x=(7.917,...,7.917)\n",
        "fchoice=alpinen2\n",
        "bounds = [(0, 10), (0, 10)]\n",
        "result = differential_evolution(fchoice, bounds,maxiter=1000, popsize=500)\n",
        "print(result.x, result.fun)"
      ],
      "execution_count": 0,
      "outputs": [
        {
          "output_type": "stream",
          "text": [
            "[7.91705247 7.91705252] -7.885600724127234\n"
          ],
          "name": "stdout"
        }
      ]
    },
    {
      "cell_type": "code",
      "metadata": {
        "id": "hxVgkfCL71rD",
        "colab_type": "code",
        "outputId": "7fca5a88-bec4-4d5a-c80f-2a77cbdff09b",
        "colab": {
          "base_uri": "https://localhost:8080/",
          "height": 35
        }
      },
      "source": [
        "# Griewank Function\n",
        "# Global minimum 1  at x=(0,0,...,0) \n",
        "# Not convex it is usually evaluated  xi =[(-600,600),..(-600,600)]\n",
        "fchoice=Griewank\n",
        "bounds = [(-600,600), (-600,600), (-600,600)]\n",
        "result = differential_evolution(fchoice, bounds,maxiter=1000, popsize=200)\n",
        "print(result.x, result.fun)"
      ],
      "execution_count": 0,
      "outputs": [
        {
          "output_type": "stream",
          "text": [
            "[ 2.63269406e-09 -1.33122846e-08 -1.37150291e-09] 0.0\n"
          ],
          "name": "stdout"
        }
      ]
    },
    {
      "cell_type": "code",
      "metadata": {
        "id": "tm6qiLJYswoa",
        "colab_type": "code",
        "outputId": "570b904a-32eb-4eb3-f6fa-e118cacbf7b9",
        "colab": {
          "base_uri": "https://localhost:8080/",
          "height": 34
        }
      },
      "source": [
        "# HappyCat function\n",
        "# global mimima 0 at (-1,-1,...,-1)\n",
        "# Not convex and non separable it is usually evaluated at xi =[(-600,600),..(-600,600)]\n",
        "fchoice=HappyCat\n",
        "bounds = [(-5, 5), (-5, 5)]\n",
        "result = differential_evolution(fchoice, bounds,maxiter=1000, popsize=200)\n",
        "print(result.x, result.fun)"
      ],
      "execution_count": 0,
      "outputs": [
        {
          "output_type": "stream",
          "text": [
            "[-0.9155645 -1.0778412] 0.003297151549059296\n"
          ],
          "name": "stdout"
        }
      ]
    },
    {
      "cell_type": "code",
      "metadata": {
        "id": "m0JHjfH5ybCZ",
        "colab_type": "code",
        "outputId": "b2326baf-30b2-448c-f92a-7085177c1bf9",
        "colab": {
          "base_uri": "https://localhost:8080/",
          "height": 34
        }
      },
      "source": [
        "# Periodic function\n",
        "# global minimum 0.9 at x=(0,0,...,0) \n",
        "# Not convex and non separable it is usually evaluated at xi =[(-10,10),..(-10,10)]\n",
        "fchoice=Periodic\n",
        "bounds = [(-2, 2), (-2, 2)]\n",
        "result = differential_evolution(fchoice, bounds, maxiter=5000, popsize=1000)\n",
        "print(result.x, result.fun)"
      ],
      "execution_count": 0,
      "outputs": [
        {
          "output_type": "stream",
          "text": [
            "[3.19584593e-09 1.12236232e-09] 0.9\n"
          ],
          "name": "stdout"
        }
      ]
    },
    {
      "cell_type": "code",
      "metadata": {
        "id": "9mHXYcNP2xIa",
        "colab_type": "code",
        "outputId": "32715b9b-2a8c-4187-eceb-fcf501481ac7",
        "colab": {
          "base_uri": "https://localhost:8080/",
          "height": 35
        }
      },
      "source": [
        "# Qing Function\n",
        "# Global minimum 0  at x=(1^0.5,2^0.5,...,n^0.5) (xi=square root (i) for i=1,2,....n)\n",
        "# Convex it is usually evaluated  xi =[(-500,500),..(-500,500)]\n",
        "# PS: negative values of square root (i) for i=1,2,....n also provide global minimum\n",
        "fchoice=Qing\n",
        "bounds = [(-500,500), (-500,500)]\n",
        "result = differential_evolution(fchoice, bounds,maxiter=1000, popsize=200)\n",
        "print(result.x, result.fun)"
      ],
      "execution_count": 0,
      "outputs": [
        {
          "output_type": "stream",
          "text": [
            "[-1.          1.41421356] 2.045121896785473e-26\n"
          ],
          "name": "stdout"
        }
      ]
    },
    {
      "cell_type": "code",
      "metadata": {
        "id": "OjO8Kf85wrka",
        "colab_type": "code",
        "outputId": "b2c3927f-a557-424a-fff9-36081df1f786",
        "colab": {
          "base_uri": "https://localhost:8080/",
          "height": 34
        }
      },
      "source": [
        "# Ridge function\n",
        "# global maxima at x=(-gamma,0,0,...,0) ex gamma=5 (gamma é o limite inferior do intervalo)\n",
        "# Unimodal\n",
        "# Not Convex it is usually evaluated  xi =[(-500,500),..(-500,500)]\n",
        "fchoice=ridge\n",
        "bounds = [(-2, 2), (-2, 2)]\n",
        "result = differential_evolution(fchoice, bounds, maxiter=1000, popsize=200)\n",
        "print(result.x, result.fun)"
      ],
      "execution_count": 0,
      "outputs": [
        {
          "output_type": "stream",
          "text": [
            "[-1.99999953e+00 -3.52179863e-09] -1.9999995272622142\n"
          ],
          "name": "stdout"
        }
      ]
    },
    {
      "cell_type": "code",
      "metadata": {
        "id": "6MR8BAKwSPV1",
        "colab_type": "code",
        "outputId": "5c4b5872-d135-4d51-b1e2-e072b9da9b2a",
        "colab": {
          "base_uri": "https://localhost:8080/",
          "height": 34
        }
      },
      "source": [
        "# Salomon function\n",
        "# global minimum 0  at x=(0,0,...,0) \n",
        "# Not Convex it is usually evaluated  xi =[(-100,100),..(-100,100)]\n",
        "fchoice=Salomon\n",
        "bounds = [(-2, 2), (-2, 2)]\n",
        "result = differential_evolution(fchoice, bounds, maxiter=5000, popsize=100)\n",
        "print(result.x, result.fun)"
      ],
      "execution_count": 0,
      "outputs": [
        {
          "output_type": "stream",
          "text": [
            "[0. 0.] 0.0\n"
          ],
          "name": "stdout"
        }
      ]
    },
    {
      "cell_type": "code",
      "metadata": {
        "id": "fFWu2D-UXFES",
        "colab_type": "code",
        "outputId": "020e6950-aa54-4448-a0b4-a513e242aeda",
        "colab": {
          "base_uri": "https://localhost:8080/",
          "height": 34
        }
      },
      "source": [
        "# Styblinskitank function\n",
        "# global minimum −39.16599∗n at x=(−2.903534,…,−2.903534) \n",
        "# Not Convex it is usually evaluated  xi =[(-5,5),..(-5,5)]\n",
        "fchoice=Styblinskitank\n",
        "bounds = [(-5, 5), (-5, 5)]\n",
        "result = differential_evolution(fchoice, bounds, maxiter=1000, popsize=100)\n",
        "print(result.x, result.fun)"
      ],
      "execution_count": 0,
      "outputs": [
        {
          "output_type": "stream",
          "text": [
            "[-2.90353397 -2.90353397] -156.66466281508542\n"
          ],
          "name": "stdout"
        }
      ]
    },
    {
      "cell_type": "code",
      "metadata": {
        "id": "U_bnvvB0HCyT",
        "colab_type": "code",
        "colab": {}
      },
      "source": [
        "# Shubert Function\n",
        "# Global minimum The function has 18 global minima  equal -186.7309\n",
        "#  Not Convex it is usually evaluated  xi =[(-10,10),..,(-10,10)]\n",
        "fchoice=Shubert\n",
        "\n",
        "bounds = [(-10,10), (-10,10)]\n",
        "#bounds = [(-10,10)]*18\n",
        "result = differential_evolution(fchoice, bounds,maxiter=1000, popsize=200)\n",
        "print(result.x, result.fun)"
      ],
      "execution_count": 0,
      "outputs": []
    },
    {
      "cell_type": "code",
      "metadata": {
        "id": "IanJ03R2aF79",
        "colab_type": "code",
        "outputId": "93f51638-adc4-46dc-9ff5-423cc3dd60da",
        "colab": {
          "base_uri": "https://localhost:8080/",
          "height": 34
        }
      },
      "source": [
        "# Shubert3 function\n",
        "# global minimum −29.6733337 at x (not specified but DE found)=(-1.11409968,-1.11409968) \n",
        "# not convex it is usually evaluated  xi =[(-10,10),..,(-10,10)]\n",
        "fchoice=Shubert3\n",
        "bounds = [(-10, 10), (-10, 10)]\n",
        "result = differential_evolution(fchoice, bounds, maxiter=1000, popsize=100)\n",
        "print(result.x, result.fun)"
      ],
      "execution_count": 0,
      "outputs": [
        {
          "output_type": "stream",
          "text": [
            "[-1.11409968 -1.11409969] -29.675900051421177\n"
          ],
          "name": "stdout"
        }
      ]
    },
    {
      "cell_type": "code",
      "metadata": {
        "id": "DrvSQIK005Yq",
        "colab_type": "code",
        "outputId": "d3b19af3-3368-44ba-995a-5b692facfed1",
        "colab": {
          "base_uri": "https://localhost:8080/",
          "height": 35
        }
      },
      "source": [
        "# Zakharov Function\n",
        "# Global minimum 0  at x=(0,0,...,0) \n",
        "# Convex it is usually evaluated on the hypercube xi =[(-5,10),..(-5,10)]\n",
        "fchoice=Zakharov\n",
        "bounds = [(-5,10), (-5, 10)]\n",
        "result = differential_evolution(fchoice, bounds,maxiter=1000, popsize=200)\n",
        "print(result.x, result.fun)"
      ],
      "execution_count": 0,
      "outputs": [
        {
          "output_type": "stream",
          "text": [
            "[-4.4408921e-16  4.4408921e-16] 4.437342591868191e-31\n"
          ],
          "name": "stdout"
        }
      ]
    },
    {
      "cell_type": "code",
      "metadata": {
        "id": "Ib-Bsb2pAypb",
        "colab_type": "code",
        "outputId": "e7b107c7-0833-4e1a-866d-d990899045be",
        "colab": {
          "base_uri": "https://localhost:8080/",
          "height": 35
        }
      },
      "source": [
        "# Xin-She Yang N. 3 Function\n",
        "# Global minimum -1  at x=(0,0,...,0) for m=5 e b=15\n",
        "# Convex it is usually evaluated  xi =[(-2*pi,2*pi),..,(-2*pi,2*pi)]\n",
        "fchoice=XinSheYang\n",
        "pi2=2*np.pi\n",
        "bounds = [(-pi2,pi2), (-pi2,pi2), (-pi2,pi2)]\n",
        "result = differential_evolution(fchoice, bounds,maxiter=1000, popsize=200)\n",
        "print(result.x, result.fun)"
      ],
      "execution_count": 0,
      "outputs": [
        {
          "output_type": "stream",
          "text": [
            "[-4.50746312e-09 -4.56534688e-09 -3.48988982e-09] -1.0\n"
          ],
          "name": "stdout"
        }
      ]
    }
  ]
}