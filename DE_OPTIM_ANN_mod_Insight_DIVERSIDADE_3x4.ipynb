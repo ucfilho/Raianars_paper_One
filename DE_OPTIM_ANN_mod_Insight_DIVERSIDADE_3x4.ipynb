{
  "nbformat": 4,
  "nbformat_minor": 0,
  "metadata": {
    "colab": {
      "name": "DE_OPTIM_ANN_mod_Insight_DIVERSIDADE_3x4.ipynb",
      "provenance": [],
      "collapsed_sections": [],
      "include_colab_link": true
    },
    "kernelspec": {
      "name": "python3",
      "display_name": "Python 3"
    },
    "language_info": {
      "codemirror_mode": {
        "name": "ipython",
        "version": 3
      },
      "file_extension": ".py",
      "mimetype": "text/x-python",
      "name": "python",
      "nbconvert_exporter": "python",
      "pygments_lexer": "ipython3",
      "version": "3.7.3"
    },
    "accelerator": "GPU"
  },
  "cells": [
    {
      "cell_type": "markdown",
      "metadata": {
        "id": "view-in-github",
        "colab_type": "text"
      },
      "source": [
        "<a href=\"https://colab.research.google.com/github/ucfilho/Raianars_paper_One/blob/master/DE_OPTIM_ANN_mod_Insight_DIVERSIDADE_3x4.ipynb\" target=\"_parent\"><img src=\"https://colab.research.google.com/assets/colab-badge.svg\" alt=\"Open In Colab\"/></a>"
      ]
    },
    {
      "cell_type": "code",
      "metadata": {
        "id": "Va-6Xios8RjU",
        "colab_type": "code",
        "outputId": "bc135c4c-159f-4ca6-f002-688214b9f336",
        "colab": {
          "base_uri": "https://localhost:8080/",
          "height": 163
        }
      },
      "source": [
        "!git clone https://github.com/ucfilho/Raianars_paper_One #clonar do Github\n",
        "%cd Raianars_paper_One"
      ],
      "execution_count": 22,
      "outputs": [
        {
          "output_type": "stream",
          "text": [
            "Cloning into 'Raianars_paper_One'...\n",
            "remote: Enumerating objects: 119, done.\u001b[K\n",
            "remote: Counting objects:   0% (1/119)\u001b[K\rremote: Counting objects:   1% (2/119)\u001b[K\rremote: Counting objects:   2% (3/119)\u001b[K\rremote: Counting objects:   3% (4/119)\u001b[K\rremote: Counting objects:   4% (5/119)\u001b[K\rremote: Counting objects:   5% (6/119)\u001b[K\rremote: Counting objects:   6% (8/119)\u001b[K\rremote: Counting objects:   7% (9/119)\u001b[K\rremote: Counting objects:   8% (10/119)\u001b[K\rremote: Counting objects:   9% (11/119)\u001b[K\rremote: Counting objects:  10% (12/119)\u001b[K\rremote: Counting objects:  11% (14/119)\u001b[K\rremote: Counting objects:  12% (15/119)\u001b[K\rremote: Counting objects:  13% (16/119)\u001b[K\rremote: Counting objects:  14% (17/119)\u001b[K\rremote: Counting objects:  15% (18/119)\u001b[K\rremote: Counting objects:  16% (20/119)\u001b[K\rremote: Counting objects:  17% (21/119)\u001b[K\rremote: Counting objects:  18% (22/119)\u001b[K\rremote: Counting objects:  19% (23/119)\u001b[K\rremote: Counting objects:  20% (24/119)\u001b[K\rremote: Counting objects:  21% (25/119)\u001b[K\rremote: Counting objects:  22% (27/119)\u001b[K\rremote: Counting objects:  23% (28/119)\u001b[K\rremote: Counting objects:  24% (29/119)\u001b[K\rremote: Counting objects:  25% (30/119)\u001b[K\rremote: Counting objects:  26% (31/119)\u001b[K\rremote: Counting objects:  27% (33/119)\u001b[K\rremote: Counting objects:  28% (34/119)\u001b[K\rremote: Counting objects:  29% (35/119)\u001b[K\rremote: Counting objects:  30% (36/119)\u001b[K\rremote: Counting objects:  31% (37/119)\u001b[K\rremote: Counting objects:  32% (39/119)\u001b[K\rremote: Counting objects:  33% (40/119)\u001b[K\rremote: Counting objects:  34% (41/119)\u001b[K\rremote: Counting objects:  35% (42/119)\u001b[K\rremote: Counting objects:  36% (43/119)\u001b[K\rremote: Counting objects:  37% (45/119)\u001b[K\rremote: Counting objects:  38% (46/119)\u001b[K\rremote: Counting objects:  39% (47/119)\u001b[K\rremote: Counting objects:  40% (48/119)\u001b[K\rremote: Counting objects:  41% (49/119)\u001b[K\rremote: Counting objects:  42% (50/119)\u001b[K\rremote: Counting objects:  43% (52/119)\u001b[K\rremote: Counting objects:  44% (53/119)\u001b[K\rremote: Counting objects:  45% (54/119)\u001b[K\rremote: Counting objects:  46% (55/119)\u001b[K\rremote: Counting objects:  47% (56/119)\u001b[K\rremote: Counting objects:  48% (58/119)\u001b[K\rremote: Counting objects:  49% (59/119)\u001b[K\rremote: Counting objects:  50% (60/119)\u001b[K\rremote: Counting objects:  51% (61/119)\u001b[K\rremote: Counting objects:  52% (62/119)\u001b[K\rremote: Counting objects:  53% (64/119)\u001b[K\rremote: Counting objects:  54% (65/119)\u001b[K\rremote: Counting objects:  55% (66/119)\u001b[K\rremote: Counting objects:  56% (67/119)\u001b[K\rremote: Counting objects:  57% (68/119)\u001b[K\rremote: Counting objects:  58% (70/119)\u001b[K\rremote: Counting objects:  59% (71/119)\u001b[K\rremote: Counting objects:  60% (72/119)\u001b[K\rremote: Counting objects:  61% (73/119)\u001b[K\rremote: Counting objects:  62% (74/119)\u001b[K\rremote: Counting objects:  63% (75/119)\u001b[K\rremote: Counting objects:  64% (77/119)\u001b[K\rremote: Counting objects:  65% (78/119)\u001b[K\rremote: Counting objects:  66% (79/119)\u001b[K\rremote: Counting objects:  67% (80/119)\u001b[K\rremote: Counting objects:  68% (81/119)\u001b[K\rremote: Counting objects:  69% (83/119)\u001b[K\rremote: Counting objects:  70% (84/119)\u001b[K\rremote: Counting objects:  71% (85/119)\u001b[K\rremote: Counting objects:  72% (86/119)\u001b[K\rremote: Counting objects:  73% (87/119)\u001b[K\rremote: Counting objects:  74% (89/119)\u001b[K\rremote: Counting objects:  75% (90/119)\u001b[K\rremote: Counting objects:  76% (91/119)\u001b[K\rremote: Counting objects:  77% (92/119)\u001b[K\rremote: Counting objects:  78% (93/119)\u001b[K\rremote: Counting objects:  79% (95/119)\u001b[K\rremote: Counting objects:  80% (96/119)\u001b[K\rremote: Counting objects:  81% (97/119)\u001b[K\rremote: Counting objects:  82% (98/119)\u001b[K\rremote: Counting objects:  83% (99/119)\u001b[K\rremote: Counting objects:  84% (100/119)\u001b[K\rremote: Counting objects:  85% (102/119)\u001b[K\rremote: Counting objects:  86% (103/119)\u001b[K\rremote: Counting objects:  87% (104/119)\u001b[K\rremote: Counting objects:  88% (105/119)\u001b[K\rremote: Counting objects:  89% (106/119)\u001b[K\rremote: Counting objects:  90% (108/119)\u001b[K\rremote: Counting objects:  91% (109/119)\u001b[K\rremote: Counting objects:  92% (110/119)\u001b[K\rremote: Counting objects:  93% (111/119)\u001b[K\rremote: Counting objects:  94% (112/119)\u001b[K\rremote: Counting objects:  95% (114/119)\u001b[K\rremote: Counting objects:  96% (115/119)\u001b[K\rremote: Counting objects:  97% (116/119)\u001b[K\rremote: Counting objects:  98% (117/119)\u001b[K\rremote: Counting objects:  99% (118/119)\u001b[K\rremote: Counting objects: 100% (119/119)\u001b[K\rremote: Counting objects: 100% (119/119), done.\u001b[K\n",
            "remote: Compressing objects:   0% (1/117)\u001b[K\rremote: Compressing objects:   1% (2/117)\u001b[K\rremote: Compressing objects:   2% (3/117)\u001b[K\rremote: Compressing objects:   3% (4/117)\u001b[K\rremote: Compressing objects:   4% (5/117)\u001b[K\rremote: Compressing objects:   5% (6/117)\u001b[K\rremote: Compressing objects:   6% (8/117)\u001b[K\rremote: Compressing objects:   7% (9/117)\u001b[K\rremote: Compressing objects:   8% (10/117)\u001b[K\rremote: Compressing objects:   9% (11/117)\u001b[K\rremote: Compressing objects:  10% (12/117)\u001b[K\rremote: Compressing objects:  11% (13/117)\u001b[K\rremote: Compressing objects:  12% (15/117)\u001b[K\rremote: Compressing objects:  13% (16/117)\u001b[K\rremote: Compressing objects:  14% (17/117)\u001b[K\rremote: Compressing objects:  15% (18/117)\u001b[K\rremote: Compressing objects:  16% (19/117)\u001b[K\rremote: Compressing objects:  17% (20/117)\u001b[K\rremote: Compressing objects:  18% (22/117)\u001b[K\rremote: Compressing objects:  19% (23/117)\u001b[K\rremote: Compressing objects:  20% (24/117)\u001b[K\rremote: Compressing objects:  21% (25/117)\u001b[K\rremote: Compressing objects:  22% (26/117)\u001b[K\rremote: Compressing objects:  23% (27/117)\u001b[K\rremote: Compressing objects:  24% (29/117)\u001b[K\rremote: Compressing objects:  25% (30/117)\u001b[K\rremote: Compressing objects:  26% (31/117)\u001b[K\rremote: Compressing objects:  27% (32/117)\u001b[K\rremote: Compressing objects:  28% (33/117)\u001b[K\rremote: Compressing objects:  29% (34/117)\u001b[K\rremote: Compressing objects:  30% (36/117)\u001b[K\rremote: Compressing objects:  31% (37/117)\u001b[K\rremote: Compressing objects:  32% (38/117)\u001b[K\rremote: Compressing objects:  33% (39/117)\u001b[K\rremote: Compressing objects:  34% (40/117)\u001b[K\rremote: Compressing objects:  35% (41/117)\u001b[K\rremote: Compressing objects:  36% (43/117)\u001b[K\rremote: Compressing objects:  37% (44/117)\u001b[K\rremote: Compressing objects:  38% (45/117)\u001b[K\rremote: Compressing objects:  39% (46/117)\u001b[K\rremote: Compressing objects:  40% (47/117)\u001b[K\rremote: Compressing objects:  41% (48/117)\u001b[K\rremote: Compressing objects:  42% (50/117)\u001b[K\rremote: Compressing objects:  43% (51/117)\u001b[K\rremote: Compressing objects:  44% (52/117)\u001b[K\rremote: Compressing objects:  45% (53/117)\u001b[K\rremote: Compressing objects:  46% (54/117)\u001b[K\rremote: Compressing objects:  47% (55/117)\u001b[K\rremote: Compressing objects:  48% (57/117)\u001b[K\rremote: Compressing objects:  49% (58/117)\u001b[K\rremote: Compressing objects:  50% (59/117)\u001b[K\rremote: Compressing objects:  51% (60/117)\u001b[K\rremote: Compressing objects:  52% (61/117)\u001b[K\rremote: Compressing objects:  53% (63/117)\u001b[K\rremote: Compressing objects:  54% (64/117)\u001b[K\rremote: Compressing objects:  55% (65/117)\u001b[K\rremote: Compressing objects:  56% (66/117)\u001b[K\rremote: Compressing objects:  57% (67/117)\u001b[K\rremote: Compressing objects:  58% (68/117)\u001b[K\rremote: Compressing objects:  59% (70/117)\u001b[K\rremote: Compressing objects:  60% (71/117)\u001b[K\rremote: Compressing objects:  61% (72/117)\u001b[K\rremote: Compressing objects:  62% (73/117)\u001b[K\rremote: Compressing objects:  63% (74/117)\u001b[K\rremote: Compressing objects:  64% (75/117)\u001b[K\rremote: Compressing objects:  65% (77/117)\u001b[K\rremote: Compressing objects:  66% (78/117)\u001b[K\rremote: Compressing objects:  67% (79/117)\u001b[K\rremote: Compressing objects:  68% (80/117)\u001b[K\rremote: Compressing objects:  69% (81/117)\u001b[K\rremote: Compressing objects:  70% (82/117)\u001b[K\rremote: Compressing objects:  71% (84/117)\u001b[K\rremote: Compressing objects:  72% (85/117)\u001b[K\rremote: Compressing objects:  73% (86/117)\u001b[K\rremote: Compressing objects:  74% (87/117)\u001b[K\rremote: Compressing objects:  75% (88/117)\u001b[K\rremote: Compressing objects:  76% (89/117)\u001b[K\rremote: Compressing objects:  77% (91/117)\u001b[K\rremote: Compressing objects:  78% (92/117)\u001b[K\rremote: Compressing objects:  79% (93/117)\u001b[K\rremote: Compressing objects:  80% (94/117)\u001b[K\rremote: Compressing objects:  81% (95/117)\u001b[K\rremote: Compressing objects:  82% (96/117)\u001b[K\rremote: Compressing objects:  83% (98/117)\u001b[K\rremote: Compressing objects:  84% (99/117)\u001b[K\rremote: Compressing objects:  85% (100/117)\u001b[K\rremote: Compressing objects:  86% (101/117)\u001b[K\rremote: Compressing objects:  87% (102/117)\u001b[K\rremote: Compressing objects:  88% (103/117)\u001b[K\rremote: Compressing objects:  89% (105/117)\u001b[K\rremote: Compressing objects:  90% (106/117)\u001b[K\rremote: Compressing objects:  91% (107/117)\u001b[K\rremote: Compressing objects:  92% (108/117)\u001b[K\rremote: Compressing objects:  93% (109/117)\u001b[K\rremote: Compressing objects:  94% (110/117)\u001b[K\rremote: Compressing objects:  95% (112/117)\u001b[K\rremote: Compressing objects:  96% (113/117)\u001b[K\rremote: Compressing objects:  97% (114/117)\u001b[K\rremote: Compressing objects:  98% (115/117)\u001b[K\rremote: Compressing objects:  99% (116/117)\u001b[K\rremote: Compressing objects: 100% (117/117)\u001b[K\rremote: Compressing objects: 100% (117/117), done.\u001b[K\n",
            "Receiving objects:   0% (1/119)   \rReceiving objects:   1% (2/119)   \rReceiving objects:   2% (3/119)   \rReceiving objects:   3% (4/119)   \rReceiving objects:   4% (5/119)   \rReceiving objects:   5% (6/119)   \rReceiving objects:   6% (8/119)   \rReceiving objects:   7% (9/119)   \rReceiving objects:   8% (10/119)   \rReceiving objects:   9% (11/119)   \rReceiving objects:  10% (12/119)   \rReceiving objects:  11% (14/119)   \rReceiving objects:  12% (15/119)   \rReceiving objects:  13% (16/119)   \rReceiving objects:  14% (17/119)   \rReceiving objects:  15% (18/119)   \rReceiving objects:  16% (20/119)   \rReceiving objects:  17% (21/119)   \rReceiving objects:  18% (22/119)   \rReceiving objects:  19% (23/119)   \rReceiving objects:  20% (24/119)   \rReceiving objects:  21% (25/119)   \rReceiving objects:  22% (27/119)   \rReceiving objects:  23% (28/119)   \rReceiving objects:  24% (29/119)   \rReceiving objects:  25% (30/119)   \rReceiving objects:  26% (31/119)   \rReceiving objects:  27% (33/119)   \rReceiving objects:  28% (34/119)   \rReceiving objects:  29% (35/119)   \rReceiving objects:  30% (36/119)   \rReceiving objects:  31% (37/119)   \rReceiving objects:  32% (39/119)   \rReceiving objects:  33% (40/119)   \rReceiving objects:  34% (41/119)   \rReceiving objects:  35% (42/119)   \rReceiving objects:  36% (43/119)   \rReceiving objects:  37% (45/119)   \rReceiving objects:  38% (46/119)   \rReceiving objects:  39% (47/119)   \rremote: Total 119 (delta 67), reused 0 (delta 0), pack-reused 0\u001b[K\n",
            "Receiving objects:  40% (48/119)   \rReceiving objects:  41% (49/119)   \rReceiving objects:  42% (50/119)   \rReceiving objects:  43% (52/119)   \rReceiving objects:  44% (53/119)   \rReceiving objects:  45% (54/119)   \rReceiving objects:  46% (55/119)   \rReceiving objects:  47% (56/119)   \rReceiving objects:  48% (58/119)   \rReceiving objects:  49% (59/119)   \rReceiving objects:  50% (60/119)   \rReceiving objects:  51% (61/119)   \rReceiving objects:  52% (62/119)   \rReceiving objects:  53% (64/119)   \rReceiving objects:  54% (65/119)   \rReceiving objects:  55% (66/119)   \rReceiving objects:  56% (67/119)   \rReceiving objects:  57% (68/119)   \rReceiving objects:  58% (70/119)   \rReceiving objects:  59% (71/119)   \rReceiving objects:  60% (72/119)   \rReceiving objects:  61% (73/119)   \rReceiving objects:  62% (74/119)   \rReceiving objects:  63% (75/119)   \rReceiving objects:  64% (77/119)   \rReceiving objects:  65% (78/119)   \rReceiving objects:  66% (79/119)   \rReceiving objects:  67% (80/119)   \rReceiving objects:  68% (81/119)   \rReceiving objects:  69% (83/119)   \rReceiving objects:  70% (84/119)   \rReceiving objects:  71% (85/119)   \rReceiving objects:  72% (86/119)   \rReceiving objects:  73% (87/119)   \rReceiving objects:  74% (89/119)   \rReceiving objects:  75% (90/119)   \rReceiving objects:  76% (91/119)   \rReceiving objects:  77% (92/119)   \rReceiving objects:  78% (93/119)   \rReceiving objects:  79% (95/119)   \rReceiving objects:  80% (96/119)   \rReceiving objects:  81% (97/119)   \rReceiving objects:  82% (98/119)   \rReceiving objects:  83% (99/119)   \rReceiving objects:  84% (100/119)   \rReceiving objects:  85% (102/119)   \rReceiving objects:  86% (103/119)   \rReceiving objects:  87% (104/119)   \rReceiving objects:  88% (105/119)   \rReceiving objects:  89% (106/119)   \rReceiving objects:  90% (108/119)   \rReceiving objects:  91% (109/119)   \rReceiving objects:  92% (110/119)   \rReceiving objects:  93% (111/119)   \rReceiving objects:  94% (112/119)   \rReceiving objects:  95% (114/119)   \rReceiving objects:  96% (115/119)   \rReceiving objects:  97% (116/119)   \rReceiving objects:  98% (117/119)   \rReceiving objects:  99% (118/119)   \rReceiving objects: 100% (119/119)   \rReceiving objects: 100% (119/119), 252.05 KiB | 2.08 MiB/s, done.\n",
            "Resolving deltas:   0% (0/67)   \rResolving deltas:  76% (51/67)   \rResolving deltas:  80% (54/67)   \rResolving deltas:  86% (58/67)   \rResolving deltas: 100% (67/67)   \rResolving deltas: 100% (67/67), done.\n",
            "/content/Raianars_paper_One/ANN_read_matrix/Raianars_paper_One\n"
          ],
          "name": "stdout"
        }
      ]
    },
    {
      "cell_type": "code",
      "metadata": {
        "id": "_E15mKFURR6O",
        "colab_type": "code",
        "colab": {}
      },
      "source": [
        "import Go2Ann\n",
        "import de_soma_Insight\n",
        "import de_bounds_matriz\n",
        "import Function\n",
        "import Go2MinMax\n",
        "from AvaliaX import AvaliaX\n",
        "from GeraIndices import GeraIndices\n",
        "\n",
        "############################### DADOS DE ENTRADA \n",
        "RUNS=10 #NÚMERO DE RODADAS\n",
        "Fc=0.1 # fator de correcao parametros da ANN\n",
        "its=1 #10 # quantas vezes vai usar o NPAR antes de alterar de novo\n",
        "ITE=200 #10 # PONTOS quantas vezes vai alteral NPAR \n",
        "\n",
        "mut=0.5\n",
        "crossp=0.5\n",
        "Fi=mut;CRi=crossp;# para impressão\n",
        "############################### Função\n",
        "\n",
        "dim=10\n",
        "#fchoice='Rastrigin' #fchoice='Michalewicz'\n",
        "fchoice='Schwefel'\n",
        "\n",
        "MIN,MAX=Go2MinMax.Intervalo(dim,fchoice)\n",
        "Fun=Function.Rastrigin\n",
        "PAR=len(MAX) #NUM DE PARAMETROS A SER OTIMIZADOS"
      ],
      "execution_count": 0,
      "outputs": []
    },
    {
      "cell_type": "code",
      "metadata": {
        "colab_type": "code",
        "id": "v1OxgXboBKoG",
        "colab": {}
      },
      "source": [
        "import time\n",
        "import matplotlib.pyplot as plt\n",
        "import numpy as np\n",
        "from random import randint\n",
        "from scipy import optimize\n",
        "import pandas as pd\n",
        "from sklearn.metrics import confusion_matrix"
      ],
      "execution_count": 0,
      "outputs": []
    },
    {
      "cell_type": "code",
      "metadata": {
        "id": "5AtuY1ntQ7J2",
        "colab_type": "code",
        "colab": {}
      },
      "source": [
        "############################### DADOS DE ENTRADA \n",
        "RUNS=1 #NÚMERO DE RODADAS\n",
        "#mut=0.8\n",
        "#crossp=0.7\n",
        "  ############################### Função\n",
        "\n",
        "dim=10\n",
        "#fchoice='Rastrigin' #fchoice='Michalewicz' #fchoice='Schwefel'\n",
        "fchoice='Rastrigin'\n",
        "Fun=Function.Rastrigin\n",
        "\n",
        "MIN,MAX=Go2MinMax.Intervalo(dim,fchoice)\n",
        "PAR=len(MAX) #NUM DE PARAMETROS A SER OTIMIZADOS"
      ],
      "execution_count": 0,
      "outputs": []
    },
    {
      "cell_type": "code",
      "metadata": {
        "id": "qTINtQ1cosZK",
        "colab_type": "code",
        "outputId": "e5527e63-2965-4694-e4c7-bc370bd85e5e",
        "colab": {
          "base_uri": "https://localhost:8080/",
          "height": 145
        }
      },
      "source": [
        "!git clone https://github.com/ucfilho/ANN_read_matrix #clonar do Github\n",
        "%cd ANN_read_matrix"
      ],
      "execution_count": 26,
      "outputs": [
        {
          "output_type": "stream",
          "text": [
            "Cloning into 'ANN_read_matrix'...\n",
            "remote: Enumerating objects: 20, done.\u001b[K\n",
            "remote: Counting objects:   5% (1/20)\u001b[K\rremote: Counting objects:  10% (2/20)\u001b[K\rremote: Counting objects:  15% (3/20)\u001b[K\rremote: Counting objects:  20% (4/20)\u001b[K\rremote: Counting objects:  25% (5/20)\u001b[K\rremote: Counting objects:  30% (6/20)\u001b[K\rremote: Counting objects:  35% (7/20)\u001b[K\rremote: Counting objects:  40% (8/20)\u001b[K\rremote: Counting objects:  45% (9/20)\u001b[K\rremote: Counting objects:  50% (10/20)\u001b[K\rremote: Counting objects:  55% (11/20)\u001b[K\rremote: Counting objects:  60% (12/20)\u001b[K\rremote: Counting objects:  65% (13/20)\u001b[K\rremote: Counting objects:  70% (14/20)\u001b[K\rremote: Counting objects:  75% (15/20)\u001b[K\rremote: Counting objects:  80% (16/20)\u001b[K\rremote: Counting objects:  85% (17/20)\u001b[K\rremote: Counting objects:  90% (18/20)\u001b[K\rremote: Counting objects:  95% (19/20)\u001b[K\rremote: Counting objects: 100% (20/20)\u001b[K\rremote: Counting objects: 100% (20/20), done.\u001b[K\n",
            "remote: Compressing objects:   5% (1/18)\u001b[K\rremote: Compressing objects:  11% (2/18)\u001b[K\rremote: Compressing objects:  16% (3/18)\u001b[K\rremote: Compressing objects:  22% (4/18)\u001b[K\rremote: Compressing objects:  27% (5/18)\u001b[K\rremote: Compressing objects:  33% (6/18)\u001b[K\rremote: Compressing objects:  38% (7/18)\u001b[K\rremote: Compressing objects:  44% (8/18)\u001b[K\rremote: Compressing objects:  50% (9/18)\u001b[K\rremote: Compressing objects:  55% (10/18)\u001b[K\rremote: Compressing objects:  61% (11/18)\u001b[K\rremote: Compressing objects:  66% (12/18)\u001b[K\rremote: Compressing objects:  72% (13/18)\u001b[K\rremote: Compressing objects:  77% (14/18)\u001b[K\rremote: Compressing objects:  83% (15/18)\u001b[K\rremote: Compressing objects:  88% (16/18)\u001b[K\rremote: Compressing objects:  94% (17/18)\u001b[K\rremote: Compressing objects: 100% (18/18)\u001b[K\rremote: Compressing objects: 100% (18/18), done.\u001b[K\n",
            "remote: Total 20 (delta 5), reused 0 (delta 0), pack-reused 0\u001b[K\n",
            "Unpacking objects:   5% (1/20)   \rUnpacking objects:  10% (2/20)   \rUnpacking objects:  15% (3/20)   \rUnpacking objects:  20% (4/20)   \rUnpacking objects:  25% (5/20)   \rUnpacking objects:  30% (6/20)   \rUnpacking objects:  35% (7/20)   \rUnpacking objects:  40% (8/20)   \rUnpacking objects:  45% (9/20)   \rUnpacking objects:  50% (10/20)   \rUnpacking objects:  55% (11/20)   \rUnpacking objects:  60% (12/20)   \rUnpacking objects:  65% (13/20)   \rUnpacking objects:  70% (14/20)   \rUnpacking objects:  75% (15/20)   \rUnpacking objects:  80% (16/20)   \rUnpacking objects:  85% (17/20)   \rUnpacking objects:  90% (18/20)   \rUnpacking objects:  95% (19/20)   \rUnpacking objects: 100% (20/20)   \rUnpacking objects: 100% (20/20), done.\n",
            "/content/Raianars_paper_One/ANN_read_matrix/Raianars_paper_One/ANN_read_matrix\n"
          ],
          "name": "stdout"
        }
      ]
    },
    {
      "cell_type": "code",
      "metadata": {
        "id": "QiQLYOoNoyCw",
        "colab_type": "code",
        "colab": {}
      },
      "source": [
        "ANN_F=pd.read_csv('ANN_INSIGHT_Valor_F.csv')"
      ],
      "execution_count": 0,
      "outputs": []
    },
    {
      "cell_type": "code",
      "metadata": {
        "id": "uHtW2amaDzFv",
        "colab_type": "code",
        "colab": {}
      },
      "source": [
        "ANN_CR=pd.read_csv('ANN_INSIGHT_CR.csv')"
      ],
      "execution_count": 0,
      "outputs": []
    },
    {
      "cell_type": "code",
      "metadata": {
        "id": "EH6h_vke2yu1",
        "colab_type": "code",
        "colab": {}
      },
      "source": [
        "syn0_F,syn1_F,X_max_F,X_min_F=Go2Ann.GetMatriz(ANN_F)"
      ],
      "execution_count": 0,
      "outputs": []
    },
    {
      "cell_type": "code",
      "metadata": {
        "id": "WW_3ZWJXD60i",
        "colab_type": "code",
        "colab": {}
      },
      "source": [
        "syn0_CR,syn1_CR,X_max_CR,X_min_CR=Go2Ann.GetMatriz(ANN_CR)"
      ],
      "execution_count": 0,
      "outputs": []
    },
    {
      "cell_type": "code",
      "metadata": {
        "id": "b4gwBvVTyaXh",
        "colab_type": "code",
        "colab": {}
      },
      "source": [
        "ANN_CR=pd.read_csv('ANN_INSIGHT_CR.csv')"
      ],
      "execution_count": 0,
      "outputs": []
    },
    {
      "cell_type": "code",
      "metadata": {
        "id": "6jL8MxpHvk-Y",
        "colab_type": "code",
        "colab": {}
      },
      "source": [
        "fields = ['DI RELATIVO','FRAC Its','Fo','CRo']"
      ],
      "execution_count": 0,
      "outputs": []
    },
    {
      "cell_type": "code",
      "metadata": {
        "id": "Mb3LmbSmj9v7",
        "colab_type": "code",
        "colab": {}
      },
      "source": [
        "##################################### \n",
        "\n",
        "#TOTAL=7*dim*its*ITE\n",
        "TOTAL=10*dim*its*ITE\n",
        "\n",
        "dimensions=len(MAX)\n",
        "start_time = time.time() #INICIALIZA CONTAGEM DO TEMPO\n",
        "\n",
        "p=int(TOTAL/its/ITE) \n",
        "NPAR=p\n",
        "\n",
        "MAX_P=np.zeros(ITE) # ATENCAO para variar F e Cr MAX_P passa a ser 3 vezes maior\n",
        "MIN_P=np.zeros(ITE) # ATENCAO para variar F e Cr MIN_P passa a ser 3 vezes maior\n",
        "\n",
        "for i in range(dim):\n",
        "  MAX_P[i]=MAX[i] \n",
        "  MIN_P[i]=MIN[i]\n",
        "\n",
        "rodadas=1\n",
        "for i in range(rodadas):\n",
        "  SOMA=0\n",
        "  pop = np.random.rand(NPAR, dimensions)\n",
        "  diff=np.zeros(PAR)\n",
        "  for ii in range(PAR):\n",
        "    diff[ii] = MAX[ii]-MIN[ii]\n",
        "  X = MIN + pop * diff\n",
        "    \n",
        "  PONTOS=ITE # DIVISOES DA POPULACAO\n",
        " \n",
        " ############################################################\n",
        "  #bounds=[(5*dim, 15*dim)] * PONTOS # ITE\n",
        "  #bounds=[(3*dim, 12*dim)] * PONTOS # ITE\n",
        "  #bounds=[(4*dim, 16*dim)] * PONTOS\n",
        "  \n",
        "  # nao pode ser assim pq o bounds vale p o DE nao dos parametros\n",
        "  #p=int(TOTAL/its/ITE) \n",
        "  bounds=[(p, p)] * PONTOS\n",
        "\n",
        "\n",
        "  DIo=1e99\n",
        "  \n",
        "  CRo=crossp;Fo=mut;\n",
        "  Fitness = np.asarray([Fun(ind) for ind in X])\n",
        "  XY,BEST_XY,BESTo,FOBESTo=AvaliaX(X,Fitness)\n",
        "  nrow,ncol=X.shape\n",
        "\n",
        "  QUANT=17;MAT_INDo=np.zeros((1,QUANT)); # quantos indices esta fazendo\n",
        "  MAT_INDo[0,5]=nrow  # VALOR NP\n",
        "  MAT_INDo[0,6]=Fo    # VALOR Fo   \n",
        "  MAT_INDo[0,7]=CRo   # VALOR CRo\n",
        "  \n",
        "  MAT_INDo=GeraIndices(X,BESTo,FOBESTo,DIo,MAT_INDo,SOMA,TOTAL,syn0_F,\n",
        "                       syn1_F,X_max_F,X_min_F,syn0_CR,syn1_CR,X_max_CR,\n",
        "                       X_min_CR,Fc,fields,Fun)\n",
        "  \n",
        "  DIo=np.copy(MAT_INDo[0,0])\n",
        "  pd.set_option('display.max_columns', 30)  \n",
        "  MAT_INDo[0,15]=Fo    # VALOR Fo   \n",
        "  MAT_INDo[0,16]=CRo   # VALOR CRo\n",
        "  MAT=[]\n",
        "  for loop in range(ITE):\n",
        "    X,BEST,FOBEST,XY,BEST_XY,SOMA= de_soma_Insight.de(MAX,MIN, mut, crossp,NPAR,its,Fun,X,SOMA,TOTAL)\n",
        "  \n",
        "    MAT_IND=GeraIndices(X,BESTo,FOBESTo,DIo,MAT_INDo,SOMA,TOTAL,syn0_F,\n",
        "                        syn1_F,X_max_F,X_min_F,syn0_CR,syn1_CR,X_max_CR,\n",
        "                        X_min_CR,Fc,fields,Fun)\n",
        "    \n",
        "    BESTo=np.copy(BEST);FOBESTo=np.copy(FOBEST);\n",
        "    MAT.append(MAT_IND.ravel())\n",
        "    \n",
        "    MAT_INDo[0,6]=MAT_IND[0,15]   # VALOR Fo   \n",
        "    MAT_INDo[0,7]=MAT_IND[0,16]   # VALOR CRo\n",
        "    mut=MAT_IND[0,15]\n",
        "    crossp=MAT_IND[0,16]\n",
        " \n",
        "NOMES=['DIVERSIDADE (DI)',  'DI RELATIVO','FRAC Its',\n",
        "           'VELOC FOBJ','VELOC X','NP','Fo','CRo','fmin','fmax',\n",
        "           'AD_fmin','AD_fmax','DELTA FOBJ','DELTA VX','r_fitness',\n",
        "           'F','CR']\n",
        "df  = pd.DataFrame(MAT, columns=NOMES)\n",
        "pd.set_option('display.max_columns', 30)\n",
        "pd.set_option('display.max_rows', 30)\n"
      ],
      "execution_count": 0,
      "outputs": []
    },
    {
      "cell_type": "code",
      "metadata": {
        "id": "UbdQjLezmAyt",
        "colab_type": "code",
        "colab": {
          "base_uri": "https://localhost:8080/",
          "height": 35
        },
        "outputId": "f2fc0f5e-c07b-46aa-df00-fb4d8513f979"
      },
      "source": [
        "print('FOBEST: ',FOBEST)  # FOBEST:  5.233917411171049"
      ],
      "execution_count": 34,
      "outputs": [
        {
          "output_type": "stream",
          "text": [
            "FOBEST:  6.824958217066524e-05\n"
          ],
          "name": "stdout"
        }
      ]
    },
    {
      "cell_type": "code",
      "metadata": {
        "id": "ecSjNzAvXzKH",
        "colab_type": "code",
        "colab": {
          "base_uri": "https://localhost:8080/",
          "height": 745
        },
        "outputId": "7cf6e22d-379c-4b96-8cd2-7deab4f6436c"
      },
      "source": [
        "print(df)"
      ],
      "execution_count": 35,
      "outputs": [
        {
          "output_type": "stream",
          "text": [
            "     DIVERSIDADE (DI)  DI RELATIVO  FRAC Its  VELOC FOBJ  VELOC X     NP  \\\n",
            "0            9.090356     0.969851     0.005         1.0      2.0  100.0   \n",
            "1            8.738109     0.932270     0.010         1.0      2.0  100.0   \n",
            "2            8.555658     0.912804     0.015         1.0      2.0  100.0   \n",
            "3            8.304662     0.886025     0.020         0.0      0.0  100.0   \n",
            "4            8.000815     0.853608     0.025         0.0      0.0  100.0   \n",
            "..                ...          ...       ...         ...      ...    ...   \n",
            "195          0.099588     0.010625     0.980         1.0      1.0  100.0   \n",
            "196          0.099579     0.010624     0.985         1.0      1.0  100.0   \n",
            "197          0.099526     0.010618     0.990         0.0      0.0  100.0   \n",
            "198          0.099508     0.010616     0.995         0.0      0.0  100.0   \n",
            "199          0.099500     0.010616     1.000         0.0      0.0  100.0   \n",
            "\n",
            "           Fo       CRo        fmin        fmax  AD_fmin  AD_fmax  DELTA FOBJ  \\\n",
            "0    0.500000  0.500000  114.157633  259.417835      1.0      1.0         0.0   \n",
            "1    0.257537  0.338358  103.365254  235.602125      1.0      1.0         0.0   \n",
            "2    0.437608  0.233211   92.635385  214.356566      1.0      1.0         0.0   \n",
            "3    0.237883  0.162252   92.635385  214.356566      1.0      1.0         0.0   \n",
            "4    0.395960  0.234132   92.635385  199.304241      1.0      1.0         0.0   \n",
            "..        ...       ...         ...         ...      ...      ...         ...   \n",
            "195  0.203955  0.006836    0.000077    1.003096      1.0      1.0         0.0   \n",
            "196  0.205580  0.006854    0.000068    1.003087      1.0      1.0         0.0   \n",
            "197  0.207218  0.006872    0.000068    1.003087      1.0      1.0         0.0   \n",
            "198  0.205018  0.006890    0.000068    1.003085      1.0      1.0         0.0   \n",
            "199  0.206650  0.006908    0.000068    1.003085      1.0      1.0         0.0   \n",
            "\n",
            "     DELTA VX  r_fitness         F        CR  \n",
            "0         0.0   0.559947  0.257537  0.338358  \n",
            "1         0.0   0.561272  0.437608  0.233211  \n",
            "2         0.0   0.567844  0.237883  0.162252  \n",
            "3         0.0   0.567844  0.395960  0.234132  \n",
            "4         0.0   0.535206  0.649457  0.167513  \n",
            "..        ...        ...       ...       ...  \n",
            "195       0.0   0.999923  0.205580  0.006854  \n",
            "196       0.0   0.999932  0.207218  0.006872  \n",
            "197       0.0   0.999932  0.205018  0.006890  \n",
            "198       0.0   0.999932  0.206650  0.006908  \n",
            "199       0.0   0.999932  0.204457  0.006927  \n",
            "\n",
            "[200 rows x 17 columns]\n"
          ],
          "name": "stdout"
        }
      ]
    },
    {
      "cell_type": "code",
      "metadata": {
        "id": "YfCxDfpqZfQV",
        "colab_type": "code",
        "colab": {}
      },
      "source": [
        ""
      ],
      "execution_count": 0,
      "outputs": []
    },
    {
      "cell_type": "code",
      "metadata": {
        "id": "htooaGpDia_0",
        "colab_type": "code",
        "outputId": "01fd5db3-235c-4ff5-b1ea-a5ad0b36dffb",
        "colab": {
          "base_uri": "https://localhost:8080/",
          "height": 314
        }
      },
      "source": [
        "f, axarr = plt.subplots(2, sharex=True)\n",
        "axarr[0].plot(df['FRAC Its'],df['F'])\n",
        "axarr[0].set_ylabel('F')\n",
        "axarr[1].plot(df['FRAC Its'],df['CR'])\n",
        "axarr[1].set_ylabel('CR')\n",
        "axarr[1].set_xlabel('Iteração/Total')\n",
        "nome=Fun.__name__+'_Diversidade_'+ 'D='+str(dim)\n",
        "axarr[0].set_title(nome)"
      ],
      "execution_count": 36,
      "outputs": [
        {
          "output_type": "execute_result",
          "data": {
            "text/plain": [
              "Text(0.5, 1.0, 'Rastrigin_Diversidade_D=10')"
            ]
          },
          "metadata": {
            "tags": []
          },
          "execution_count": 36
        },
        {
          "output_type": "display_data",
          "data": {
            "image/png": "[encoded data removed]",
            "text/plain": [
              "<Figure size 432x288 with 2 Axes>"
            ]
          },
          "metadata": {
            "tags": []
          }
        }
      ]
    },
    {
      "cell_type": "code",
      "metadata": {
        "id": "BvPFvbDvteDC",
        "colab_type": "code",
        "outputId": "62df60ea-5978-4b62-a274-12b0d23236d1",
        "colab": {
          "base_uri": "https://localhost:8080/",
          "height": 295
        }
      },
      "source": [
        "fig, ax = plt.subplots()\n",
        "ax.plot(df['FRAC Its'],df['F'],label='F')\n",
        "ax.set_xlabel('Iteração/Total')\n",
        "ax.set_ylabel('Parâmetros')\n",
        "ax.plot(df['FRAC Its'],df['CR'],'-r', label='CR')\n",
        "nome=Fun.__name__+'  M=Diversidade'+ '  D='+str(dim)\n",
        "ax.set_title(nome)\n",
        "leg = ax.legend()"
      ],
      "execution_count": 37,
      "outputs": [
        {
          "output_type": "display_data",
          "data": {
            "image/png": "[encoded data removed]",
            "text/plain": [
              "<Figure size 432x288 with 1 Axes>"
            ]
          },
          "metadata": {
            "tags": []
          }
        }
      ]
    },
    {
      "cell_type": "code",
      "metadata": {
        "id": "LRYu0M6Bt9oM",
        "colab_type": "code",
        "outputId": "d74181b0-2157-4a2e-8ab6-502064dc696f",
        "colab": {
          "base_uri": "https://localhost:8080/",
          "height": 298
        }
      },
      "source": [
        "plt.plot(df['FRAC Its'],df['CR'])\n",
        "plt.xlabel('Iteração/Total')\n",
        "plt.ylabel('CR')"
      ],
      "execution_count": 38,
      "outputs": [
        {
          "output_type": "execute_result",
          "data": {
            "text/plain": [
              "Text(0, 0.5, 'CR')"
            ]
          },
          "metadata": {
            "tags": []
          },
          "execution_count": 38
        },
        {
          "output_type": "display_data",
          "data": {
            "image/png": "[encoded data removed]",
            "text/plain": [
              "<Figure size 432x288 with 1 Axes>"
            ]
          },
          "metadata": {
            "tags": []
          }
        }
      ]
    },
    {
      "cell_type": "code",
      "metadata": {
        "id": "gdrDbrxpoJce",
        "colab_type": "code",
        "colab": {}
      },
      "source": [
        "F=list(df['F'])\n",
        "CR=list(df['CR'])\n",
        "PARTIC=F+CR\n",
        "#print(PARTIC)\n",
        "#print(len(PARTIC))"
      ],
      "execution_count": 0,
      "outputs": []
    },
    {
      "cell_type": "code",
      "metadata": {
        "id": "c9WOFolTpODy",
        "colab_type": "code",
        "colab": {}
      },
      "source": [
        "m=10 # Multiplicador do número de avaliações FO\n",
        "NPAR=m*dim\n",
        "ITE=int((len(PARTIC))/2) # PONTOS quantas vezes vai alteral NPAR\n",
        "its=int(100/ITE) # quantas vezes vai usar o NPAR antes de alterar de novo\n",
        "TOTAL=m*dim*its*ITE # Avaliações FO"
      ],
      "execution_count": 0,
      "outputs": []
    },
    {
      "cell_type": "code",
      "metadata": {
        "id": "rnX8ttNopd1G",
        "colab_type": "code",
        "colab": {}
      },
      "source": [
        "NMAX=900 # maximo tamanho gerar populacao\n",
        "\n",
        "start_time = time.time()\n",
        "BEST_AGENTS=[]\n",
        "\n",
        "for i in range(RUNS):  \n",
        "    SOMA=0\n",
        "    pop = np.random.rand(NMAX, dim)\n",
        "    diff=np.zeros(PAR)\n",
        "    for ii in range(PAR):\n",
        "      diff[ii] = MAX[ii]-MIN[ii]\n",
        "    X = MIN + pop * diff\n",
        "   \n",
        "    ind_crossp=ITE-1\n",
        "    for k in range(ITE):\n",
        "      ind_crossp=ind_crossp+1\n",
        "      mut=np.copy(PARTIC[k])\n",
        "      crossp=np.copy(PARTIC[ind_crossp])\n",
        "      #print(crossp)\n",
        "      X,BEST,FOBEST,XY,BEST_XY,SOMA= de_soma_Insight.de(MAX,MIN, mut, crossp, NPAR, its,Fun,X,SOMA,TOTAL)\n",
        "     \n",
        "    BEST_AGENTS.append(BEST_XY)\n",
        "    #print(\"GlobalParam e Solucao:\", BEST,\"Funcao=\",FOBEST)\n",
        "    \n",
        "############################## Cálculo dos Parâmetros de Avaliação   \n",
        "TIME = (time.time() - start_time)/RUNS\n",
        "BEST_AGENTS=np.array(BEST_AGENTS)\n",
        "BEST_AGENTS_ST= BEST_AGENTS[BEST_AGENTS[:,-1].argsort()]\n",
        "BEST=BEST_AGENTS_ST[0]\n",
        "WORSE=BEST_AGENTS_ST[-1]\n",
        "MEAN=np.mean(BEST_AGENTS,axis=0)\n",
        "MAXFO=BEST_AGENTS[:,-1].max()\n",
        "MINFO=BEST_AGENTS[:,-1].min()\n",
        "STD=BEST_AGENTS[:,-1].std()"
      ],
      "execution_count": 0,
      "outputs": []
    },
    {
      "cell_type": "code",
      "metadata": {
        "id": "lNSN5X-wskcx",
        "colab_type": "code",
        "outputId": "7cfdc1d8-ea52-4e21-e6c5-b1efdfc648b9",
        "colab": {
          "base_uri": "https://localhost:8080/",
          "height": 254
        }
      },
      "source": [
        "nome='_ANN_Div3x4_Fo-'+str(Fi)+'_CRo-'+str(CRi)+'_D-'+str(dim)+'_Interv-'+str(ITE)\n",
        "print('DE_POP_VAR_F_CR','TOTAL=',TOTAL,'Iterações=',ITE*its,'Dim=', PAR,\"Min/Max=\",MIN[0],\"/\",MAX[0],'_',Fun.__name__)\n",
        "print(nome, '\\n')\n",
        "#print('BEST: ',BEST)\n",
        "#print('MÉDIA: ',MEAN)\n",
        "print('MÉDIA: ',MEAN[-1])\n",
        "print('MIN __:',MINFO)\n",
        "print('MAX__: ',MAXFO)\n",
        "print('STD __:',STD)\n",
        "print(\"Tempo Médio= %.3f segundos ---\" % (TIME))\n",
        "print(RUNS,'Rodadas') \n",
        "print()\n",
        "print('BEST: ',BEST)"
      ],
      "execution_count": 42,
      "outputs": [
        {
          "output_type": "stream",
          "text": [
            "DE_POP_VAR_F_CR TOTAL= 0 Iterações= 0 Dim= 10 Min/Max= -5.12 / 5.12 _ Rastrigin\n",
            "_ANN_Div3x4_Fo-0.5_CRo-0.5_D-10_Interv-200 \n",
            "\n",
            "MÉDIA:  102.44155989199055\n",
            "MIN __: 102.44155989199055\n",
            "MAX__:  102.44155989199055\n",
            "STD __: 0.0\n",
            "Tempo Médio= 2.344 segundos ---\n",
            "1 Rodadas\n",
            "\n",
            "BEST:  [  1.23245596  -0.23876222   0.75363065   0.97661021  -1.9007949\n",
            "   1.85469691   2.95404465   1.88936676   1.45160577  -1.55795504\n",
            " 102.44155989]\n"
          ],
          "name": "stdout"
        }
      ]
    }
  ]
}