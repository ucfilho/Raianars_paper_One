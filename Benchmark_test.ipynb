{
  "nbformat": 4,
  "nbformat_minor": 0,
  "metadata": {
    "colab": {
      "name": "Benchmark test.ipynb",
      "provenance": [],
      "include_colab_link": true
    },
    "kernelspec": {
      "name": "python3",
      "display_name": "Python 3"
    }
  },
  "cells": [
    {
      "cell_type": "markdown",
      "metadata": {
        "id": "view-in-github",
        "colab_type": "text"
      },
      "source": [
        "<a href=\"https://colab.research.google.com/github/ucfilho/Raianars_paper_One/blob/master/Benchmark_test.ipynb\" target=\"_parent\"><img src=\"https://colab.research.google.com/assets/colab-badge.svg\" alt=\"Open In Colab\"/></a>"
      ]
    },
    {
      "cell_type": "code",
      "metadata": {
        "id": "jg1OTMlxsowQ",
        "colab_type": "code",
        "colab": {}
      },
      "source": [
        "import numpy as np\n",
        "from scipy.optimize import differential_evolution"
      ],
      "execution_count": 0,
      "outputs": []
    },
    {
      "cell_type": "code",
      "metadata": {
        "id": "DSzPOBeTi06r",
        "colab_type": "code",
        "colab": {}
      },
      "source": [
        "# HappyCat function\n",
        "# global mimima at (-1,-1,...,-1)\n",
        "\n",
        "def HappyCat(x): \n",
        "    alpha=1. / 8\n",
        "    s = sum(x**2) \n",
        "    return ((s - len(x))**2)**alpha + (s / 2 + sum(x)) / len(x) + 0.5 \n"
      ],
      "execution_count": 0,
      "outputs": []
    },
    {
      "cell_type": "code",
      "metadata": {
        "id": "v4RTVURptFCa",
        "colab_type": "code",
        "colab": {}
      },
      "source": [
        "# Alpine N2 function\n",
        "# global maxima at x=(7.917,...,7.917)\n",
        "\n",
        "def alpinen2(x):\n",
        "  prod=1\n",
        "  for i in x:\n",
        "    prod=prod*(i**0.5*np.sin(i))\n",
        "  return prod*(-1)\n",
        "\n"
      ],
      "execution_count": 0,
      "outputs": []
    },
    {
      "cell_type": "code",
      "metadata": {
        "id": "41vYg-TQvcdh",
        "colab_type": "code",
        "colab": {}
      },
      "source": [
        "# Ridge function\n",
        "# global maxima at x=(-gamma,0,0,...,0) ex gamma=5 (gamma é o limite inferior do intervalo)\n",
        "def ridge(x):\n",
        "  soma=0\n",
        "  d=2\n",
        "  alpha=0.1\n",
        "  for i in x:\n",
        "    soma=soma+i\n",
        "  return x[1]+d*soma**(alpha)\n"
      ],
      "execution_count": 0,
      "outputs": []
    },
    {
      "cell_type": "code",
      "metadata": {
        "id": "tm6qiLJYswoa",
        "colab_type": "code",
        "colab": {
          "base_uri": "https://localhost:8080/",
          "height": 35
        },
        "outputId": "672fd57d-2f32-42b6-8488-ec5885817052"
      },
      "source": [
        "fchoice=HappyCat\n",
        "bounds = [(-5, 5), (-5, 5)]\n",
        "result = differential_evolution(fchoice, bounds,maxiter=1000, popsize=200)\n",
        "print(result.x, result.fun)"
      ],
      "execution_count": 5,
      "outputs": [
        {
          "output_type": "stream",
          "text": [
            "[-1.08816039 -0.90327568] 0.004281962193252387\n"
          ],
          "name": "stdout"
        }
      ]
    },
    {
      "cell_type": "code",
      "metadata": {
        "id": "OmFYjh5gqSOL",
        "colab_type": "code",
        "colab": {
          "base_uri": "https://localhost:8080/",
          "height": 35
        },
        "outputId": "0c48d5d4-62be-4224-9a2a-1bc7473b8e74"
      },
      "source": [
        "fchoice=alpinen2\n",
        "bounds = [(0, 10), (0, 10)]\n",
        "result = differential_evolution(fchoice, bounds,maxiter=1000, popsize=500)\n",
        "print(result.x, result.fun)"
      ],
      "execution_count": 6,
      "outputs": [
        {
          "output_type": "stream",
          "text": [
            "[7.91705271 7.9170527 ] -7.8856007241275305\n"
          ],
          "name": "stdout"
        }
      ]
    },
    {
      "cell_type": "code",
      "metadata": {
        "id": "OjO8Kf85wrka",
        "colab_type": "code",
        "colab": {
          "base_uri": "https://localhost:8080/",
          "height": 72
        },
        "outputId": "3256eee7-7060-4ed7-be36-2505c5603012"
      },
      "source": [
        "fchoice=ridge\n",
        "bounds = [(-2, 2), (-2, 2)]\n",
        "result = differential_evolution(fchoice, bounds, maxiter=1000, popsize=200)\n",
        "print(result.x, result.fun)"
      ],
      "execution_count": 7,
      "outputs": [
        {
          "output_type": "stream",
          "text": [
            "/usr/local/lib/python3.6/dist-packages/ipykernel_launcher.py:7: RuntimeWarning: invalid value encountered in double_scalars\n",
            "  import sys\n"
          ],
          "name": "stderr"
        },
        {
          "output_type": "stream",
          "text": [
            "[-0.98547932  0.44928743] nan\n"
          ],
          "name": "stdout"
        }
      ]
    },
    {
      "cell_type": "code",
      "metadata": {
        "id": "m0JHjfH5ybCZ",
        "colab_type": "code",
        "colab": {}
      },
      "source": [
        ""
      ],
      "execution_count": 0,
      "outputs": []
    }
  ]
}