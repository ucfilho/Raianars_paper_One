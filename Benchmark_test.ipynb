{
  "nbformat": 4,
  "nbformat_minor": 0,
  "metadata": {
    "colab": {
      "name": "Benchmark test.ipynb",
      "provenance": [],
      "include_colab_link": true
    },
    "kernelspec": {
      "name": "python3",
      "display_name": "Python 3"
    }
  },
  "cells": [
    {
      "cell_type": "markdown",
      "metadata": {
        "id": "view-in-github",
        "colab_type": "text"
      },
      "source": [
        "<a href=\"https://colab.research.google.com/github/ucfilho/Raianars_paper_One/blob/master/Benchmark_test.ipynb\" target=\"_parent\"><img src=\"https://colab.research.google.com/assets/colab-badge.svg\" alt=\"Open In Colab\"/></a>"
      ]
    },
    {
      "cell_type": "code",
      "metadata": {
        "id": "jg1OTMlxsowQ",
        "colab_type": "code",
        "colab": {}
      },
      "source": [
        "import numpy as np\n",
        "from scipy.optimize import differential_evolution"
      ],
      "execution_count": 0,
      "outputs": []
    },
    {
      "cell_type": "code",
      "metadata": {
        "id": "DSzPOBeTi06r",
        "colab_type": "code",
        "colab": {}
      },
      "source": [
        "# HappyCat function\n",
        "# global mimima at (-1,-1,...,-1)\n",
        "\n",
        "def HappyCat(x): \n",
        "    alpha=1. / 8\n",
        "    s = sum(x**2) \n",
        "    return ((s - len(x))**2)**alpha + (s / 2 + sum(x)) / len(x) + 0.5 \n"
      ],
      "execution_count": 0,
      "outputs": []
    },
    {
      "cell_type": "code",
      "metadata": {
        "id": "v4RTVURptFCa",
        "colab_type": "code",
        "colab": {}
      },
      "source": [
        "# Alpine N2 function\n",
        "# global maxima at x=(7.917,...,7.917)\n",
        "\n",
        "def alpinen2(x):\n",
        "  prod=1\n",
        "  for i in x:\n",
        "    prod=prod*(i**0.5*np.sin(i))\n",
        "  return prod*(-1)\n",
        "\n"
      ],
      "execution_count": 0,
      "outputs": []
    },
    {
      "cell_type": "code",
      "metadata": {
        "id": "41vYg-TQvcdh",
        "colab_type": "code",
        "colab": {}
      },
      "source": [
        "# Ridge function\n",
        "# global maxima at x=(-gamma,0,0,...,0) ex gamma=5 (gamma é o limite inferior do intervalo)\n",
        "def ridge(x):\n",
        "  soma=0\n",
        "  d=2\n",
        "  alpha=0.1\n",
        "  for i in x:\n",
        "    soma=soma+i**2\n",
        "  soma=soma-x[0]**2\n",
        "  return x[0]+d*soma**(alpha)\n"
      ],
      "execution_count": 0,
      "outputs": []
    },
    {
      "cell_type": "code",
      "metadata": {
        "id": "sE3fXJaBPe9E",
        "colab_type": "code",
        "colab": {}
      },
      "source": [
        "# Periodic function\n",
        "# global minimum 0.9 at x=(0,0,...,0) \n",
        "def Periodic(x):\n",
        "  sumx2=0\n",
        "  sin2x=0\n",
        "  for i in x:\n",
        "    sumx2=sumx2+i**2\n",
        "    sin2x=sin2x+(np.sin(i))**2\n",
        "  return 1+sin2x-0.1*np.exp(-sumx2)"
      ],
      "execution_count": 0,
      "outputs": []
    },
    {
      "cell_type": "code",
      "metadata": {
        "colab_type": "code",
        "id": "mciUGuTaTMLU",
        "colab": {}
      },
      "source": [
        "# Salomon function\n",
        "# global minimum 0  at x=(0,0,...,0) \n",
        "def Salomon(x):\n",
        "  sumx2=0\n",
        "  sqrtsx2=0\n",
        "  for i in x:\n",
        "    sumx2=sumx2+i**2\n",
        "  sqrtsx2=sumx2**0.5\n",
        "\n",
        "  return 1-np.cos(2*np.pi*sqrtsx2)+(0.1 * sqrtsx2)"
      ],
      "execution_count": 0,
      "outputs": []
    },
    {
      "cell_type": "code",
      "metadata": {
        "id": "Wrs0XM95V8-5",
        "colab_type": "code",
        "colab": {}
      },
      "source": [
        "# Styblinskitank function\n",
        "# global minimum −39.16599∗n at x=(−2.903534,…,−2.903534) \n",
        "def Styblinskitank(x):\n",
        "  sumx1=0\n",
        "  sumx2=0\n",
        "  sumx4=0\n",
        "  for i in x:\n",
        "    sumx1=sumx1+i\n",
        "    sumx2=sumx2+i**2\n",
        "    sumx4=sumx4+i**4\n",
        "  return sumx4-16*sumx2+5*sumx1"
      ],
      "execution_count": 0,
      "outputs": []
    },
    {
      "cell_type": "code",
      "metadata": {
        "id": "f3MDFjUgYrDv",
        "colab_type": "code",
        "colab": {}
      },
      "source": [
        "# Shubert3 function\n",
        "# global minimum −29.6733337 at x (not specified but DE found)=(-1.11409968,-1.11409968) \n",
        "def Shubert3(x):\n",
        "  soma=0\n",
        "\n",
        "  for i in x:\n",
        "    for k in range(5):\n",
        "      j=k+1\n",
        "      soma=soma +j * np.sin(((j + 1) * i) + j)\n",
        "\n",
        "  return soma"
      ],
      "execution_count": 0,
      "outputs": []
    },
    {
      "cell_type": "code",
      "metadata": {
        "id": "tm6qiLJYswoa",
        "colab_type": "code",
        "outputId": "570b904a-32eb-4eb3-f6fa-e118cacbf7b9",
        "colab": {
          "base_uri": "https://localhost:8080/",
          "height": 34
        }
      },
      "source": [
        "fchoice=HappyCat\n",
        "bounds = [(-5, 5), (-5, 5)]\n",
        "result = differential_evolution(fchoice, bounds,maxiter=1000, popsize=200)\n",
        "print(result.x, result.fun)"
      ],
      "execution_count": 9,
      "outputs": [
        {
          "output_type": "stream",
          "text": [
            "[-0.9155645 -1.0778412] 0.003297151549059296\n"
          ],
          "name": "stdout"
        }
      ]
    },
    {
      "cell_type": "code",
      "metadata": {
        "id": "OmFYjh5gqSOL",
        "colab_type": "code",
        "outputId": "98525e7d-b916-4fa6-ff75-5039a35f2494",
        "colab": {
          "base_uri": "https://localhost:8080/",
          "height": 34
        }
      },
      "source": [
        "fchoice=alpinen2\n",
        "bounds = [(0, 10), (0, 10)]\n",
        "result = differential_evolution(fchoice, bounds,maxiter=1000, popsize=500)\n",
        "print(result.x, result.fun)"
      ],
      "execution_count": 10,
      "outputs": [
        {
          "output_type": "stream",
          "text": [
            "[7.91705247 7.91705252] -7.885600724127234\n"
          ],
          "name": "stdout"
        }
      ]
    },
    {
      "cell_type": "code",
      "metadata": {
        "id": "OjO8Kf85wrka",
        "colab_type": "code",
        "outputId": "b2c3927f-a557-424a-fff9-36081df1f786",
        "colab": {
          "base_uri": "https://localhost:8080/",
          "height": 34
        }
      },
      "source": [
        "fchoice=ridge\n",
        "bounds = [(-2, 2), (-2, 2)]\n",
        "result = differential_evolution(fchoice, bounds, maxiter=1000, popsize=200)\n",
        "print(result.x, result.fun)"
      ],
      "execution_count": 11,
      "outputs": [
        {
          "output_type": "stream",
          "text": [
            "[-1.99999953e+00 -3.52179863e-09] -1.9999995272622142\n"
          ],
          "name": "stdout"
        }
      ]
    },
    {
      "cell_type": "code",
      "metadata": {
        "id": "m0JHjfH5ybCZ",
        "colab_type": "code",
        "colab": {
          "base_uri": "https://localhost:8080/",
          "height": 34
        },
        "outputId": "b2326baf-30b2-448c-f92a-7085177c1bf9"
      },
      "source": [
        "fchoice=Periodic\n",
        "bounds = [(-2, 2), (-2, 2)]\n",
        "result = differential_evolution(fchoice, bounds, maxiter=5000, popsize=1000)\n",
        "print(result.x, result.fun)"
      ],
      "execution_count": 12,
      "outputs": [
        {
          "output_type": "stream",
          "text": [
            "[3.19584593e-09 1.12236232e-09] 0.9\n"
          ],
          "name": "stdout"
        }
      ]
    },
    {
      "cell_type": "code",
      "metadata": {
        "id": "6MR8BAKwSPV1",
        "colab_type": "code",
        "colab": {
          "base_uri": "https://localhost:8080/",
          "height": 34
        },
        "outputId": "5c4b5872-d135-4d51-b1e2-e072b9da9b2a"
      },
      "source": [
        "fchoice=Salomon\n",
        "bounds = [(-2, 2), (-2, 2)]\n",
        "result = differential_evolution(fchoice, bounds, maxiter=5000, popsize=100)\n",
        "print(result.x, result.fun)"
      ],
      "execution_count": 13,
      "outputs": [
        {
          "output_type": "stream",
          "text": [
            "[0. 0.] 0.0\n"
          ],
          "name": "stdout"
        }
      ]
    },
    {
      "cell_type": "code",
      "metadata": {
        "id": "fFWu2D-UXFES",
        "colab_type": "code",
        "colab": {
          "base_uri": "https://localhost:8080/",
          "height": 34
        },
        "outputId": "020e6950-aa54-4448-a0b4-a513e242aeda"
      },
      "source": [
        "fchoice=Styblinskitank\n",
        "bounds = [(-5, 5), (-5, 5)]\n",
        "result = differential_evolution(fchoice, bounds, maxiter=1000, popsize=100)\n",
        "print(result.x, result.fun)"
      ],
      "execution_count": 14,
      "outputs": [
        {
          "output_type": "stream",
          "text": [
            "[-2.90353397 -2.90353397] -156.66466281508542\n"
          ],
          "name": "stdout"
        }
      ]
    },
    {
      "cell_type": "code",
      "metadata": {
        "id": "IanJ03R2aF79",
        "colab_type": "code",
        "colab": {
          "base_uri": "https://localhost:8080/",
          "height": 34
        },
        "outputId": "93f51638-adc4-46dc-9ff5-423cc3dd60da"
      },
      "source": [
        "fchoice=Shubert3\n",
        "bounds = [(-10, 10), (-10, 10)]\n",
        "result = differential_evolution(fchoice, bounds, maxiter=1000, popsize=100)\n",
        "print(result.x, result.fun)"
      ],
      "execution_count": 15,
      "outputs": [
        {
          "output_type": "stream",
          "text": [
            "[-1.11409968 -1.11409969] -29.675900051421177\n"
          ],
          "name": "stdout"
        }
      ]
    }
  ]
}