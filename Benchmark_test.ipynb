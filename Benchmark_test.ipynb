{
  "nbformat": 4,
  "nbformat_minor": 0,
  "metadata": {
    "colab": {
      "name": "Benchmark test.ipynb",
      "provenance": [],
      "include_colab_link": true
    },
    "kernelspec": {
      "name": "python3",
      "display_name": "Python 3"
    }
  },
  "cells": [
    {
      "cell_type": "markdown",
      "metadata": {
        "id": "view-in-github",
        "colab_type": "text"
      },
      "source": [
        "<a href=\"https://colab.research.google.com/github/ucfilho/Raianars_paper_One/blob/master/Benchmark_test.ipynb\" target=\"_parent\"><img src=\"https://colab.research.google.com/assets/colab-badge.svg\" alt=\"Open In Colab\"/></a>"
      ]
    },
    {
      "cell_type": "code",
      "metadata": {
        "id": "jg1OTMlxsowQ",
        "colab_type": "code",
        "colab": {}
      },
      "source": [
        "import numpy as np\n",
        "from scipy.optimize import differential_evolution"
      ],
      "execution_count": 0,
      "outputs": []
    },
    {
      "cell_type": "code",
      "metadata": {
        "id": "DSzPOBeTi06r",
        "colab_type": "code",
        "colab": {}
      },
      "source": [
        "# HappyCat function\n",
        "# global mimima at (-1,-1,...,-1)\n",
        "\n",
        "def HappyCat(x): \n",
        "    alpha=1. / 8\n",
        "    s = sum(x**2) \n",
        "    return ((s - len(x))**2)**alpha + (s / 2 + sum(x)) / len(x) + 0.5 \n"
      ],
      "execution_count": 0,
      "outputs": []
    },
    {
      "cell_type": "code",
      "metadata": {
        "id": "v4RTVURptFCa",
        "colab_type": "code",
        "colab": {}
      },
      "source": [
        "# Alpine N2 function\n",
        "# global maxima at x=(7.917,...,7.917)\n",
        "\n",
        "def alpinen2(x):\n",
        "  prod=1\n",
        "  for i in x:\n",
        "    prod=prod*(i**0.5*np.sin(i))\n",
        "  return prod*(-1)\n",
        "\n"
      ],
      "execution_count": 0,
      "outputs": []
    },
    {
      "cell_type": "code",
      "metadata": {
        "id": "41vYg-TQvcdh",
        "colab_type": "code",
        "colab": {}
      },
      "source": [
        "# Ridge function\n",
        "# global maxima at x=(-gamma,0,0,...,0) ex gamma=5 (gamma é o limite inferior do intervalo)\n",
        "def ridge(x):\n",
        "  soma=0\n",
        "  d=2\n",
        "  alpha=0.1\n",
        "  for i in x:\n",
        "    soma=soma+i**2\n",
        "  soma=soma-x[0]**2\n",
        "  return x[0]+d*soma**(alpha)\n"
      ],
      "execution_count": 0,
      "outputs": []
    },
    {
      "cell_type": "code",
      "metadata": {
        "id": "sE3fXJaBPe9E",
        "colab_type": "code",
        "colab": {}
      },
      "source": [
        "# Periodic function\n",
        "# global minimum 0.9 at x=(0,0,...,0) \n",
        "def Periodic(x):\n",
        "  sumx2=0\n",
        "  sin2x=0\n",
        "  for i in x:\n",
        "    sumx2=sumx2+i**2\n",
        "    sin2x=sin2x+(np.sin(i))**2\n",
        "  return 1+sin2x-0.1*np.exp(-sumx2)"
      ],
      "execution_count": 0,
      "outputs": []
    },
    {
      "cell_type": "code",
      "metadata": {
        "id": "tm6qiLJYswoa",
        "colab_type": "code",
        "outputId": "b18282d6-ad8e-4a03-f42e-501b92844901",
        "colab": {
          "base_uri": "https://localhost:8080/",
          "height": 34
        }
      },
      "source": [
        "fchoice=HappyCat\n",
        "bounds = [(-5, 5), (-5, 5)]\n",
        "result = differential_evolution(fchoice, bounds,maxiter=1000, popsize=200)\n",
        "print(result.x, result.fun)"
      ],
      "execution_count": 5,
      "outputs": [
        {
          "output_type": "stream",
          "text": [
            "[-0.99612127 -1.00386374] 7.49326050897281e-06\n"
          ],
          "name": "stdout"
        }
      ]
    },
    {
      "cell_type": "code",
      "metadata": {
        "id": "OmFYjh5gqSOL",
        "colab_type": "code",
        "outputId": "2464c629-1c7a-4ac6-9011-f298b4729c91",
        "colab": {
          "base_uri": "https://localhost:8080/",
          "height": 34
        }
      },
      "source": [
        "fchoice=alpinen2\n",
        "bounds = [(0, 10), (0, 10)]\n",
        "result = differential_evolution(fchoice, bounds,maxiter=1000, popsize=500)\n",
        "print(result.x, result.fun)"
      ],
      "execution_count": 6,
      "outputs": [
        {
          "output_type": "stream",
          "text": [
            "[7.91705269 7.91705266] -7.8856007241275305\n"
          ],
          "name": "stdout"
        }
      ]
    },
    {
      "cell_type": "code",
      "metadata": {
        "id": "OjO8Kf85wrka",
        "colab_type": "code",
        "outputId": "9cd75f97-cd42-412a-c80f-e3021e911c00",
        "colab": {
          "base_uri": "https://localhost:8080/",
          "height": 34
        }
      },
      "source": [
        "fchoice=ridge\n",
        "bounds = [(-2, 2), (-2, 2)]\n",
        "result = differential_evolution(fchoice, bounds, maxiter=1000, popsize=200)\n",
        "print(result.x, result.fun)"
      ],
      "execution_count": 9,
      "outputs": [
        {
          "output_type": "stream",
          "text": [
            "[-1.99999882e+00 -5.49083090e-09] -1.9999988162694429\n"
          ],
          "name": "stdout"
        }
      ]
    },
    {
      "cell_type": "code",
      "metadata": {
        "id": "m0JHjfH5ybCZ",
        "colab_type": "code",
        "colab": {
          "base_uri": "https://localhost:8080/",
          "height": 34
        },
        "outputId": "3e4c28d0-5a2f-4b8d-d420-3ff69ec538f6"
      },
      "source": [
        "fchoice=Periodic\n",
        "bounds = [(-2, 2), (-2, 2)]\n",
        "result = differential_evolution(fchoice, bounds, maxiter=5000, popsize=1000)\n",
        "print(result.x, result.fun)"
      ],
      "execution_count": 20,
      "outputs": [
        {
          "output_type": "stream",
          "text": [
            "[-6.26468643e-10  4.24832483e-09] 0.9\n"
          ],
          "name": "stdout"
        }
      ]
    },
    {
      "cell_type": "code",
      "metadata": {
        "id": "6MR8BAKwSPV1",
        "colab_type": "code",
        "colab": {}
      },
      "source": [
        ""
      ],
      "execution_count": 0,
      "outputs": []
    }
  ]
}