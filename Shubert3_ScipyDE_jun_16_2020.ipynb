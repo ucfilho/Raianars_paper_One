{
  "nbformat": 4,
  "nbformat_minor": 0,
  "metadata": {
    "colab": {
      "name": "Shubert3_ScipyDE_jun_16_2020.ipynb",
      "provenance": [],
      "collapsed_sections": [],
      "authorship_tag": "ABX9TyMiSVD43zCtisbaL9gyqxwj",
      "include_colab_link": true
    },
    "kernelspec": {
      "name": "python3",
      "display_name": "Python 3"
    }
  },
  "cells": [
    {
      "cell_type": "markdown",
      "metadata": {
        "id": "view-in-github",
        "colab_type": "text"
      },
      "source": [
        "<a href=\"https://colab.research.google.com/github/ucfilho/Raianars_paper_One/blob/master/Shubert3_ScipyDE_jun_16_2020.ipynb\" target=\"_parent\"><img src=\"https://colab.research.google.com/assets/colab-badge.svg\" alt=\"Open In Colab\"/></a>"
      ]
    },
    {
      "cell_type": "code",
      "metadata": {
        "id": "Es8PhSUedYDe",
        "colab_type": "code",
        "colab": {}
      },
      "source": [
        "import numpy as np\n",
        "from scipy.optimize import differential_evolution"
      ],
      "execution_count": 0,
      "outputs": []
    },
    {
      "cell_type": "code",
      "metadata": {
        "id": "FB_sK_qkdcNI",
        "colab_type": "code",
        "colab": {}
      },
      "source": [
        "# Shubert3 function\n",
        "# global minimum −29.6733337 at x (not specified but DE found)=(-1.11409968,-1.11409968) \n",
        "# not convex it is usually evaluated  xi =[(-10,10),..,(-10,10)]\n",
        "def Shubert3(x):\n",
        "  soma=0\n",
        "\n",
        "  for i in x:\n",
        "    for k in range(5):\n",
        "      j=k+1\n",
        "      soma=soma +j * np.sin(((j + 1) * i) + j)\n",
        "\n",
        "  return soma"
      ],
      "execution_count": 0,
      "outputs": []
    },
    {
      "cell_type": "code",
      "metadata": {
        "id": "yCjOrpUZdoob",
        "colab_type": "code",
        "colab": {
          "base_uri": "https://localhost:8080/",
          "height": 52
        },
        "outputId": "178ab8b3-9e89-4114-d9f6-b11599c23bcb"
      },
      "source": [
        "fchoice=Shubert3\n",
        "D=10\n",
        "bounds = [(-10, 10)]*D\n",
        "result = differential_evolution(fchoice, bounds, maxiter=1000, popsize=100)\n",
        "print(result.x, result.fun)"
      ],
      "execution_count": 3,
      "outputs": [
        {
          "output_type": "stream",
          "text": [
            "[-7.39728501 -1.1140997  -1.1140997  -1.1140997  -7.397285   -1.1140997\n",
            "  5.16908561 -1.11409969  5.16908561  5.16908561] -148.37950025710572\n"
          ],
          "name": "stdout"
        }
      ]
    },
    {
      "cell_type": "code",
      "metadata": {
        "id": "v_HkQL2dhLp7",
        "colab_type": "code",
        "colab": {
          "base_uri": "https://localhost:8080/",
          "height": 34
        },
        "outputId": "631602d9-e3e6-4578-aae1-062929859e7a"
      },
      "source": [
        "ref=-29.675900051421088\n",
        "print(result.fun/ref)"
      ],
      "execution_count": 4,
      "outputs": [
        {
          "output_type": "stream",
          "text": [
            "5.00000000000001\n"
          ],
          "name": "stdout"
        }
      ]
    },
    {
      "cell_type": "code",
      "metadata": {
        "id": "-KjQEA58eASo",
        "colab_type": "code",
        "colab": {
          "base_uri": "https://localhost:8080/",
          "height": 34
        },
        "outputId": "0c0ff407-4020-40d0-9075-c748a96815c5"
      },
      "source": [
        "fchoice=Shubert3\n",
        "D=1\n",
        "bounds = [(-10, 10)]*D\n",
        "result = differential_evolution(fchoice, bounds, maxiter=1000, popsize=100)\n",
        "print(result.x, result.fun)"
      ],
      "execution_count": 5,
      "outputs": [
        {
          "output_type": "stream",
          "text": [
            "[-1.11409969] -14.837950025710587\n"
          ],
          "name": "stdout"
        }
      ]
    },
    {
      "cell_type": "code",
      "metadata": {
        "id": "aainD4FVhQhu",
        "colab_type": "code",
        "colab": {
          "base_uri": "https://localhost:8080/",
          "height": 34
        },
        "outputId": "246f29df-8023-44a1-e363-45cd216de9d0"
      },
      "source": [
        "ref=-29.675900051421088\n",
        "print(result.fun/ref)"
      ],
      "execution_count": 6,
      "outputs": [
        {
          "output_type": "stream",
          "text": [
            "0.5000000000000014\n"
          ],
          "name": "stdout"
        }
      ]
    },
    {
      "cell_type": "code",
      "metadata": {
        "id": "9HptqkymeGLG",
        "colab_type": "code",
        "colab": {
          "base_uri": "https://localhost:8080/",
          "height": 34
        },
        "outputId": "f45fcaa7-1846-4515-fb39-3b78482c99fb"
      },
      "source": [
        "fchoice=Shubert3\n",
        "D=2\n",
        "bounds = [(-10, 10)]*D\n",
        "result = differential_evolution(fchoice, bounds, maxiter=1000, popsize=100)\n",
        "print(result.x, result.fun)"
      ],
      "execution_count": 7,
      "outputs": [
        {
          "output_type": "stream",
          "text": [
            "[-7.39728499 -1.11409969] -29.675900051421177\n"
          ],
          "name": "stdout"
        }
      ]
    },
    {
      "cell_type": "code",
      "metadata": {
        "id": "ahaT3ubTe6Ex",
        "colab_type": "code",
        "colab": {
          "base_uri": "https://localhost:8080/",
          "height": 34
        },
        "outputId": "0be1d02f-a5b8-43b8-86ba-286ebd172996"
      },
      "source": [
        "ref=-29.675900051421088\n",
        "print(result.fun/ref)"
      ],
      "execution_count": 8,
      "outputs": [
        {
          "output_type": "stream",
          "text": [
            "1.0000000000000029\n"
          ],
          "name": "stdout"
        }
      ]
    },
    {
      "cell_type": "code",
      "metadata": {
        "id": "ZDnCozGkgYsP",
        "colab_type": "code",
        "colab": {
          "base_uri": "https://localhost:8080/",
          "height": 86
        },
        "outputId": "b9a1f374-34e6-4668-8f59-e153514e0302"
      },
      "source": [
        "fchoice=Shubert3\n",
        "D=20\n",
        "bounds = [(-10, 10)]*D\n",
        "result = differential_evolution(fchoice, bounds, maxiter=1000, popsize=100)\n",
        "print(result.x, result.fun)\n"
      ],
      "execution_count": 9,
      "outputs": [
        {
          "output_type": "stream",
          "text": [
            "[-2.26658026 -1.11409956 -7.39728485 -1.11409991  5.16908536 -7.39728482\n",
            "  2.05151798 -7.39728482  5.16908536 -7.39728601 -7.39728528 -7.39728485\n",
            " -1.11409965 -3.25262512  5.16908514 -8.54976417 -9.53581078 -4.23167034\n",
            " -7.39728488 -1.1140994 ] -228.09161192303714\n"
          ],
          "name": "stdout"
        }
      ]
    },
    {
      "cell_type": "code",
      "metadata": {
        "id": "NUjZHcMvgwT3",
        "colab_type": "code",
        "colab": {
          "base_uri": "https://localhost:8080/",
          "height": 34
        },
        "outputId": "0a5c3e09-ee7b-4a21-e48b-389a93ef9984"
      },
      "source": [
        "ref=-29.675900051421088\n",
        "print(result.fun/ref)"
      ],
      "execution_count": 10,
      "outputs": [
        {
          "output_type": "stream",
          "text": [
            "7.686089100172533\n"
          ],
          "name": "stdout"
        }
      ]
    },
    {
      "cell_type": "code",
      "metadata": {
        "id": "GHNzVxndfF9C",
        "colab_type": "code",
        "colab": {
          "base_uri": "https://localhost:8080/",
          "height": 52
        },
        "outputId": "3afeb41b-17ef-4ad7-a767-2b6035cc820b"
      },
      "source": [
        "fchoice=Shubert3\n",
        "D=8\n",
        "bounds = [(-10, 10)]*D\n",
        "result = differential_evolution(fchoice, bounds, maxiter=1000, popsize=100)\n",
        "print(result.x, result.fun)"
      ],
      "execution_count": 11,
      "outputs": [
        {
          "output_type": "stream",
          "text": [
            "[-7.397285    5.16908561 -1.11409969  5.16908561 -1.11409969 -1.1140997\n",
            " -7.397285   -7.397285  ] -118.70360020568468\n"
          ],
          "name": "stdout"
        }
      ]
    },
    {
      "cell_type": "code",
      "metadata": {
        "id": "8qH4NLvBfOPU",
        "colab_type": "code",
        "colab": {
          "base_uri": "https://localhost:8080/",
          "height": 34
        },
        "outputId": "a611ef89-71ae-4da8-e885-9b694e303b9e"
      },
      "source": [
        "ref=-29.675900051421088\n",
        "print(result.fun/ref)"
      ],
      "execution_count": 12,
      "outputs": [
        {
          "output_type": "stream",
          "text": [
            "4.000000000000011\n"
          ],
          "name": "stdout"
        }
      ]
    }
  ]
}