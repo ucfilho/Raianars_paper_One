{
  "nbformat": 4,
  "nbformat_minor": 0,
  "metadata": {
    "colab": {
      "name": "DE_OPTIM_ANN_Insight_DIVERSIDADE_3x4.ipynb",
      "provenance": [],
      "collapsed_sections": [],
      "include_colab_link": true
    },
    "kernelspec": {
      "name": "python3",
      "display_name": "Python 3"
    },
    "language_info": {
      "codemirror_mode": {
        "name": "ipython",
        "version": 3
      },
      "file_extension": ".py",
      "mimetype": "text/x-python",
      "name": "python",
      "nbconvert_exporter": "python",
      "pygments_lexer": "ipython3",
      "version": "3.7.3"
    },
    "accelerator": "GPU"
  },
  "cells": [
    {
      "cell_type": "markdown",
      "metadata": {
        "id": "view-in-github",
        "colab_type": "text"
      },
      "source": [
        "<a href=\"https://colab.research.google.com/github/ucfilho/Raianars_paper_One/blob/master/DE_OPTIM_ANN_Insight_DIVERSIDADE_3x4.ipynb\" target=\"_parent\"><img src=\"https://colab.research.google.com/assets/colab-badge.svg\" alt=\"Open In Colab\"/></a>"
      ]
    },
    {
      "cell_type": "code",
      "metadata": {
        "id": "qyA7a-1Tq5Fr",
        "colab_type": "code",
        "colab": {}
      },
      "source": [
        "import time\n",
        "import matplotlib.pyplot as plt\n",
        "import numpy as np\n",
        "from random import randint\n",
        "from scipy import optimize\n",
        "import pandas as pd\n",
        "from sklearn.metrics import confusion_matrix\n",
        "\n",
        "#global syn0_F,syn1_F,X_max_F,X_min_F"
      ],
      "execution_count": 0,
      "outputs": []
    },
    {
      "cell_type": "code",
      "metadata": {
        "id": "h_TDOErSs_Fi",
        "colab_type": "code",
        "colab": {}
      },
      "source": [
        "Fc=0.1 # fator de correcao parametros da ANN\n",
        "its=1 #10 # quantas vezes vai usar o NPAR antes de alterar de novo\n",
        "ITE=100 #10 # PONTOS quantas vezes vai alteral NPAR \n",
        "\n",
        "mut=0.75\n",
        "crossp=0.5;"
      ],
      "execution_count": 0,
      "outputs": []
    },
    {
      "cell_type": "code",
      "metadata": {
        "id": "Va-6Xios8RjU",
        "colab_type": "code",
        "outputId": "c11c6559-3f9a-49c3-d42e-bf6e3c5c175a",
        "colab": {
          "base_uri": "https://localhost:8080/",
          "height": 163
        }
      },
      "source": [
        "!git clone https://github.com/ucfilho/Raianars_paper_One #clonar do Github\n",
        "%cd Raianars_paper_One"
      ],
      "execution_count": 3,
      "outputs": [
        {
          "output_type": "stream",
          "text": [
            "Cloning into 'Raianars_paper_One'...\n",
            "remote: Enumerating objects: 101, done.\u001b[K\n",
            "remote: Counting objects: 100% (101/101), done.\u001b[K\n",
            "remote: Compressing objects: 100% (99/99), done.\u001b[K\n",
            "remote: Total 101 (delta 58), reused 0 (delta 0), pack-reused 0\u001b[K\n",
            "Receiving objects: 100% (101/101), 84.96 KiB | 1.29 MiB/s, done.\n",
            "Resolving deltas: 100% (58/58), done.\n",
            "/content/Raianars_paper_One\n"
          ],
          "name": "stdout"
        }
      ]
    },
    {
      "cell_type": "code",
      "metadata": {
        "id": "75o_QgSH8fKw",
        "colab_type": "code",
        "colab": {}
      },
      "source": [
        "import Go2Ann"
      ],
      "execution_count": 0,
      "outputs": []
    },
    {
      "cell_type": "code",
      "metadata": {
        "id": "qTINtQ1cosZK",
        "colab_type": "code",
        "outputId": "23338485-bedc-4872-ee83-88dbe9ff13ba",
        "colab": {
          "base_uri": "https://localhost:8080/",
          "height": 145
        }
      },
      "source": [
        "!git clone https://github.com/ucfilho/ANN_read_matrix #clonar do Github\n",
        "%cd ANN_read_matrix"
      ],
      "execution_count": 5,
      "outputs": [
        {
          "output_type": "stream",
          "text": [
            "Cloning into 'ANN_read_matrix'...\n",
            "remote: Enumerating objects: 20, done.\u001b[K\n",
            "remote: Counting objects:   5% (1/20)\u001b[K\rremote: Counting objects:  10% (2/20)\u001b[K\rremote: Counting objects:  15% (3/20)\u001b[K\rremote: Counting objects:  20% (4/20)\u001b[K\rremote: Counting objects:  25% (5/20)\u001b[K\rremote: Counting objects:  30% (6/20)\u001b[K\rremote: Counting objects:  35% (7/20)\u001b[K\rremote: Counting objects:  40% (8/20)\u001b[K\rremote: Counting objects:  45% (9/20)\u001b[K\rremote: Counting objects:  50% (10/20)\u001b[K\rremote: Counting objects:  55% (11/20)\u001b[K\rremote: Counting objects:  60% (12/20)\u001b[K\rremote: Counting objects:  65% (13/20)\u001b[K\rremote: Counting objects:  70% (14/20)\u001b[K\rremote: Counting objects:  75% (15/20)\u001b[K\rremote: Counting objects:  80% (16/20)\u001b[K\rremote: Counting objects:  85% (17/20)\u001b[K\rremote: Counting objects:  90% (18/20)\u001b[K\rremote: Counting objects:  95% (19/20)\u001b[K\rremote: Counting objects: 100% (20/20)\u001b[K\rremote: Counting objects: 100% (20/20), done.\u001b[K\n",
            "remote: Compressing objects:   5% (1/18)\u001b[K\rremote: Compressing objects:  11% (2/18)\u001b[K\rremote: Compressing objects:  16% (3/18)\u001b[K\rremote: Compressing objects:  22% (4/18)\u001b[K\rremote: Compressing objects:  27% (5/18)\u001b[K\rremote: Compressing objects:  33% (6/18)\u001b[K\rremote: Compressing objects:  38% (7/18)\u001b[K\rremote: Compressing objects:  44% (8/18)\u001b[K\rremote: Compressing objects:  50% (9/18)\u001b[K\rremote: Compressing objects:  55% (10/18)\u001b[K\rremote: Compressing objects:  61% (11/18)\u001b[K\rremote: Compressing objects:  66% (12/18)\u001b[K\rremote: Compressing objects:  72% (13/18)\u001b[K\rremote: Compressing objects:  77% (14/18)\u001b[K\rremote: Compressing objects:  83% (15/18)\u001b[K\rremote: Compressing objects:  88% (16/18)\u001b[K\rremote: Compressing objects:  94% (17/18)\u001b[K\rremote: Compressing objects: 100% (18/18)\u001b[K\rremote: Compressing objects: 100% (18/18), done.\u001b[K\n",
            "remote: Total 20 (delta 5), reused 0 (delta 0), pack-reused 0\u001b[K\n",
            "Unpacking objects:   5% (1/20)   \rUnpacking objects:  10% (2/20)   \rUnpacking objects:  15% (3/20)   \rUnpacking objects:  20% (4/20)   \rUnpacking objects:  25% (5/20)   \rUnpacking objects:  30% (6/20)   \rUnpacking objects:  35% (7/20)   \rUnpacking objects:  40% (8/20)   \rUnpacking objects:  45% (9/20)   \rUnpacking objects:  50% (10/20)   \rUnpacking objects:  55% (11/20)   \rUnpacking objects:  60% (12/20)   \rUnpacking objects:  65% (13/20)   \rUnpacking objects:  70% (14/20)   \rUnpacking objects:  75% (15/20)   \rUnpacking objects:  80% (16/20)   \rUnpacking objects:  85% (17/20)   \rUnpacking objects:  90% (18/20)   \rUnpacking objects:  95% (19/20)   \rUnpacking objects: 100% (20/20)   \rUnpacking objects: 100% (20/20), done.\n",
            "/content/Raianars_paper_One/ANN_read_matrix\n"
          ],
          "name": "stdout"
        }
      ]
    },
    {
      "cell_type": "code",
      "metadata": {
        "id": "QiQLYOoNoyCw",
        "colab_type": "code",
        "colab": {}
      },
      "source": [
        "ANN_F=pd.read_csv('ANN_INSIGHT_Valor_F.csv')"
      ],
      "execution_count": 0,
      "outputs": []
    },
    {
      "cell_type": "code",
      "metadata": {
        "id": "uHtW2amaDzFv",
        "colab_type": "code",
        "colab": {}
      },
      "source": [
        "ANN_CR=pd.read_csv('ANN_INSIGHT_CR.csv')"
      ],
      "execution_count": 0,
      "outputs": []
    },
    {
      "cell_type": "code",
      "metadata": {
        "id": "EH6h_vke2yu1",
        "colab_type": "code",
        "colab": {}
      },
      "source": [
        "syn0_F,syn1_F,X_max_F,X_min_F=Go2Ann.GetMatriz(ANN_F)"
      ],
      "execution_count": 0,
      "outputs": []
    },
    {
      "cell_type": "code",
      "metadata": {
        "id": "WW_3ZWJXD60i",
        "colab_type": "code",
        "colab": {}
      },
      "source": [
        "syn0_CR,syn1_CR,X_max_CR,X_min_CR=Go2Ann.GetMatriz(ANN_CR)"
      ],
      "execution_count": 0,
      "outputs": []
    },
    {
      "cell_type": "code",
      "metadata": {
        "id": "b4gwBvVTyaXh",
        "colab_type": "code",
        "colab": {}
      },
      "source": [
        "ANN_CR=pd.read_csv('ANN_INSIGHT_CR.csv')"
      ],
      "execution_count": 0,
      "outputs": []
    },
    {
      "cell_type": "code",
      "metadata": {
        "id": "z7H0bUMdqY-t",
        "colab_type": "code",
        "outputId": "631c205a-c7cb-418c-a918-dc144642307e",
        "colab": {
          "base_uri": "https://localhost:8080/",
          "height": 163
        }
      },
      "source": [
        "############################### Importar códigos\n",
        "!git clone https://github.com/ucfilho/Raianars_paper_One/ #clonar do Github\n",
        "%cd Raianars_paper_One\n",
        "import de_soma_Insight\n",
        "import de_bounds_matriz\n",
        "import Function\n",
        "import Go2MinMax\n",
        "from AvaliaX import AvaliaX\n",
        "from GeraIndices import GeraIndices"
      ],
      "execution_count": 11,
      "outputs": [
        {
          "output_type": "stream",
          "text": [
            "Cloning into 'Raianars_paper_One'...\n",
            "remote: Enumerating objects: 101, done.\u001b[K\n",
            "remote: Counting objects:   0% (1/101)\u001b[K\rremote: Counting objects:   1% (2/101)\u001b[K\rremote: Counting objects:   2% (3/101)\u001b[K\rremote: Counting objects:   3% (4/101)\u001b[K\rremote: Counting objects:   4% (5/101)\u001b[K\rremote: Counting objects:   5% (6/101)\u001b[K\rremote: Counting objects:   6% (7/101)\u001b[K\rremote: Counting objects:   7% (8/101)\u001b[K\rremote: Counting objects:   8% (9/101)\u001b[K\rremote: Counting objects:   9% (10/101)\u001b[K\rremote: Counting objects:  10% (11/101)\u001b[K\rremote: Counting objects:  11% (12/101)\u001b[K\rremote: Counting objects:  12% (13/101)\u001b[K\rremote: Counting objects:  13% (14/101)\u001b[K\rremote: Counting objects:  14% (15/101)\u001b[K\rremote: Counting objects:  15% (16/101)\u001b[K\rremote: Counting objects:  16% (17/101)\u001b[K\rremote: Counting objects:  17% (18/101)\u001b[K\rremote: Counting objects:  18% (19/101)\u001b[K\rremote: Counting objects:  19% (20/101)\u001b[K\rremote: Counting objects:  20% (21/101)\u001b[K\rremote: Counting objects:  21% (22/101)\u001b[K\rremote: Counting objects:  22% (23/101)\u001b[K\rremote: Counting objects:  23% (24/101)\u001b[K\rremote: Counting objects:  24% (25/101)\u001b[K\rremote: Counting objects:  25% (26/101)\u001b[K\rremote: Counting objects:  26% (27/101)\u001b[K\rremote: Counting objects:  27% (28/101)\u001b[K\rremote: Counting objects:  28% (29/101)\u001b[K\rremote: Counting objects:  29% (30/101)\u001b[K\rremote: Counting objects:  30% (31/101)\u001b[K\rremote: Counting objects:  31% (32/101)\u001b[K\rremote: Counting objects:  32% (33/101)\u001b[K\rremote: Counting objects:  33% (34/101)\u001b[K\rremote: Counting objects:  34% (35/101)\u001b[K\rremote: Counting objects:  35% (36/101)\u001b[K\rremote: Counting objects:  36% (37/101)\u001b[K\rremote: Counting objects:  37% (38/101)\u001b[K\rremote: Counting objects:  38% (39/101)\u001b[K\rremote: Counting objects:  39% (40/101)\u001b[K\rremote: Counting objects:  40% (41/101)\u001b[K\rremote: Counting objects:  41% (42/101)\u001b[K\rremote: Counting objects:  42% (43/101)\u001b[K\rremote: Counting objects:  43% (44/101)\u001b[K\rremote: Counting objects:  44% (45/101)\u001b[K\rremote: Counting objects:  45% (46/101)\u001b[K\rremote: Counting objects:  46% (47/101)\u001b[K\rremote: Counting objects:  47% (48/101)\u001b[K\rremote: Counting objects:  48% (49/101)\u001b[K\rremote: Counting objects:  49% (50/101)\u001b[K\rremote: Counting objects:  50% (51/101)\u001b[K\rremote: Counting objects:  51% (52/101)\u001b[K\rremote: Counting objects:  52% (53/101)\u001b[K\rremote: Counting objects:  53% (54/101)\u001b[K\rremote: Counting objects:  54% (55/101)\u001b[K\rremote: Counting objects:  55% (56/101)\u001b[K\rremote: Counting objects:  56% (57/101)\u001b[K\rremote: Counting objects:  57% (58/101)\u001b[K\rremote: Counting objects:  58% (59/101)\u001b[K\rremote: Counting objects:  59% (60/101)\u001b[K\rremote: Counting objects:  60% (61/101)\u001b[K\rremote: Counting objects:  61% (62/101)\u001b[K\rremote: Counting objects:  62% (63/101)\u001b[K\rremote: Counting objects:  63% (64/101)\u001b[K\rremote: Counting objects:  64% (65/101)\u001b[K\rremote: Counting objects:  65% (66/101)\u001b[K\rremote: Counting objects:  66% (67/101)\u001b[K\rremote: Counting objects:  67% (68/101)\u001b[K\rremote: Counting objects:  68% (69/101)\u001b[K\rremote: Counting objects:  69% (70/101)\u001b[K\rremote: Counting objects:  70% (71/101)\u001b[K\rremote: Counting objects:  71% (72/101)\u001b[K\rremote: Counting objects:  72% (73/101)\u001b[K\rremote: Counting objects:  73% (74/101)\u001b[K\rremote: Counting objects:  74% (75/101)\u001b[K\rremote: Counting objects:  75% (76/101)\u001b[K\rremote: Counting objects:  76% (77/101)\u001b[K\rremote: Counting objects:  77% (78/101)\u001b[K\rremote: Counting objects:  78% (79/101)\u001b[K\rremote: Counting objects:  79% (80/101)\u001b[K\rremote: Counting objects:  80% (81/101)\u001b[K\rremote: Counting objects:  81% (82/101)\u001b[K\rremote: Counting objects:  82% (83/101)\u001b[K\rremote: Counting objects:  83% (84/101)\u001b[K\rremote: Counting objects:  84% (85/101)\u001b[K\rremote: Counting objects:  85% (86/101)\u001b[K\rremote: Counting objects:  86% (87/101)\u001b[K\rremote: Counting objects:  87% (88/101)\u001b[K\rremote: Counting objects:  88% (89/101)\u001b[K\rremote: Counting objects:  89% (90/101)\u001b[K\rremote: Counting objects:  90% (91/101)\u001b[K\rremote: Counting objects:  91% (92/101)\u001b[K\rremote: Counting objects:  92% (93/101)\u001b[K\rremote: Counting objects:  93% (94/101)\u001b[K\rremote: Counting objects:  94% (95/101)\u001b[K\rremote: Counting objects:  95% (96/101)\u001b[K\rremote: Counting objects:  96% (97/101)\u001b[K\rremote: Counting objects:  97% (98/101)\u001b[K\rremote: Counting objects:  98% (99/101)\u001b[K\rremote: Counting objects:  99% (100/101)\u001b[K\rremote: Counting objects: 100% (101/101)\u001b[K\rremote: Counting objects: 100% (101/101), done.\u001b[K\n",
            "remote: Compressing objects:   1% (1/99)\u001b[K\rremote: Compressing objects:   2% (2/99)\u001b[K\rremote: Compressing objects:   3% (3/99)\u001b[K\rremote: Compressing objects:   4% (4/99)\u001b[K\rremote: Compressing objects:   5% (5/99)\u001b[K\rremote: Compressing objects:   6% (6/99)\u001b[K\rremote: Compressing objects:   7% (7/99)\u001b[K\rremote: Compressing objects:   8% (8/99)\u001b[K\rremote: Compressing objects:   9% (9/99)\u001b[K\rremote: Compressing objects:  10% (10/99)\u001b[K\rremote: Compressing objects:  11% (11/99)\u001b[K\rremote: Compressing objects:  12% (12/99)\u001b[K\rremote: Compressing objects:  13% (13/99)\u001b[K\rremote: Compressing objects:  14% (14/99)\u001b[K\rremote: Compressing objects:  15% (15/99)\u001b[K\rremote: Compressing objects:  16% (16/99)\u001b[K\rremote: Compressing objects:  17% (17/99)\u001b[K\rremote: Compressing objects:  18% (18/99)\u001b[K\rremote: Compressing objects:  19% (19/99)\u001b[K\rremote: Compressing objects:  20% (20/99)\u001b[K\rremote: Compressing objects:  21% (21/99)\u001b[K\rremote: Compressing objects:  22% (22/99)\u001b[K\rremote: Compressing objects:  23% (23/99)\u001b[K\rremote: Compressing objects:  24% (24/99)\u001b[K\rremote: Compressing objects:  25% (25/99)\u001b[K\rremote: Compressing objects:  26% (26/99)\u001b[K\rremote: Compressing objects:  27% (27/99)\u001b[K\rremote: Compressing objects:  28% (28/99)\u001b[K\rremote: Compressing objects:  29% (29/99)\u001b[K\rremote: Compressing objects:  30% (30/99)\u001b[K\rremote: Compressing objects:  31% (31/99)\u001b[K\rremote: Compressing objects:  32% (32/99)\u001b[K\rremote: Compressing objects:  33% (33/99)\u001b[K\rremote: Compressing objects:  34% (34/99)\u001b[K\rremote: Compressing objects:  35% (35/99)\u001b[K\rremote: Compressing objects:  36% (36/99)\u001b[K\rremote: Compressing objects:  37% (37/99)\u001b[K\rremote: Compressing objects:  38% (38/99)\u001b[K\rremote: Compressing objects:  39% (39/99)\u001b[K\rremote: Compressing objects:  40% (40/99)\u001b[K\rremote: Compressing objects:  41% (41/99)\u001b[K\rremote: Compressing objects:  42% (42/99)\u001b[K\rremote: Compressing objects:  43% (43/99)\u001b[K\rremote: Compressing objects:  44% (44/99)\u001b[K\rremote: Compressing objects:  45% (45/99)\u001b[K\rremote: Compressing objects:  46% (46/99)\u001b[K\rremote: Compressing objects:  47% (47/99)\u001b[K\rremote: Compressing objects:  48% (48/99)\u001b[K\rremote: Compressing objects:  49% (49/99)\u001b[K\rremote: Compressing objects:  50% (50/99)\u001b[K\rremote: Compressing objects:  51% (51/99)\u001b[K\rremote: Compressing objects:  52% (52/99)\u001b[K\rremote: Compressing objects:  53% (53/99)\u001b[K\rremote: Compressing objects:  54% (54/99)\u001b[K\rremote: Compressing objects:  55% (55/99)\u001b[K\rremote: Compressing objects:  56% (56/99)\u001b[K\rremote: Compressing objects:  57% (57/99)\u001b[K\rremote: Compressing objects:  58% (58/99)\u001b[K\rremote: Compressing objects:  59% (59/99)\u001b[K\rremote: Compressing objects:  60% (60/99)\u001b[K\rremote: Compressing objects:  61% (61/99)\u001b[K\rremote: Compressing objects:  62% (62/99)\u001b[K\rremote: Compressing objects:  63% (63/99)\u001b[K\rremote: Compressing objects:  64% (64/99)\u001b[K\rremote: Compressing objects:  65% (65/99)\u001b[K\rremote: Compressing objects:  66% (66/99)\u001b[K\rremote: Compressing objects:  67% (67/99)\u001b[K\rremote: Compressing objects:  68% (68/99)\u001b[K\rremote: Compressing objects:  69% (69/99)\u001b[K\rremote: Compressing objects:  70% (70/99)\u001b[K\rremote: Compressing objects:  71% (71/99)\u001b[K\rremote: Compressing objects:  72% (72/99)\u001b[K\rremote: Compressing objects:  73% (73/99)\u001b[K\rremote: Compressing objects:  74% (74/99)\u001b[K\rremote: Compressing objects:  75% (75/99)\u001b[K\rremote: Compressing objects:  76% (76/99)\u001b[K\rremote: Compressing objects:  77% (77/99)\u001b[K\rremote: Compressing objects:  78% (78/99)\u001b[K\rremote: Compressing objects:  79% (79/99)\u001b[K\rremote: Compressing objects:  80% (80/99)\u001b[K\rremote: Compressing objects:  81% (81/99)\u001b[K\rremote: Compressing objects:  82% (82/99)\u001b[K\rremote: Compressing objects:  83% (83/99)\u001b[K\rremote: Compressing objects:  84% (84/99)\u001b[K\rremote: Compressing objects:  85% (85/99)\u001b[K\rremote: Compressing objects:  86% (86/99)\u001b[K\rremote: Compressing objects:  87% (87/99)\u001b[K\rremote: Compressing objects:  88% (88/99)\u001b[K\rremote: Compressing objects:  89% (89/99)\u001b[K\rremote: Compressing objects:  90% (90/99)\u001b[K\rremote: Compressing objects:  91% (91/99)\u001b[K\rremote: Compressing objects:  92% (92/99)\u001b[K\rremote: Compressing objects:  93% (93/99)\u001b[K\rremote: Compressing objects:  94% (94/99)\u001b[K\rremote: Compressing objects:  95% (95/99)\u001b[K\rremote: Compressing objects:  96% (96/99)\u001b[K\rremote: Compressing objects:  97% (97/99)\u001b[K\rremote: Compressing objects:  98% (98/99)\u001b[K\rremote: Compressing objects: 100% (99/99)\u001b[K\rremote: Compressing objects: 100% (99/99), done.\u001b[K\n",
            "Receiving objects:   0% (1/101)   \rReceiving objects:   1% (2/101)   \rReceiving objects:   2% (3/101)   \rReceiving objects:   3% (4/101)   \rReceiving objects:   4% (5/101)   \rReceiving objects:   5% (6/101)   \rReceiving objects:   6% (7/101)   \rReceiving objects:   7% (8/101)   \rReceiving objects:   8% (9/101)   \rReceiving objects:   9% (10/101)   \rReceiving objects:  10% (11/101)   \rReceiving objects:  11% (12/101)   \rReceiving objects:  12% (13/101)   \rReceiving objects:  13% (14/101)   \rReceiving objects:  14% (15/101)   \rReceiving objects:  15% (16/101)   \rReceiving objects:  16% (17/101)   \rReceiving objects:  17% (18/101)   \rReceiving objects:  18% (19/101)   \rReceiving objects:  19% (20/101)   \rReceiving objects:  20% (21/101)   \rReceiving objects:  21% (22/101)   \rReceiving objects:  22% (23/101)   \rReceiving objects:  23% (24/101)   \rReceiving objects:  24% (25/101)   \rReceiving objects:  25% (26/101)   \rReceiving objects:  26% (27/101)   \rReceiving objects:  27% (28/101)   \rReceiving objects:  28% (29/101)   \rReceiving objects:  29% (30/101)   \rReceiving objects:  30% (31/101)   \rReceiving objects:  31% (32/101)   \rReceiving objects:  32% (33/101)   \rReceiving objects:  33% (34/101)   \rReceiving objects:  34% (35/101)   \rReceiving objects:  35% (36/101)   \rReceiving objects:  36% (37/101)   \rReceiving objects:  37% (38/101)   \rremote: Total 101 (delta 58), reused 0 (delta 0), pack-reused 0\u001b[K\n",
            "Receiving objects:  38% (39/101)   \rReceiving objects:  39% (40/101)   \rReceiving objects:  40% (41/101)   \rReceiving objects:  41% (42/101)   \rReceiving objects:  42% (43/101)   \rReceiving objects:  43% (44/101)   \rReceiving objects:  44% (45/101)   \rReceiving objects:  45% (46/101)   \rReceiving objects:  46% (47/101)   \rReceiving objects:  47% (48/101)   \rReceiving objects:  48% (49/101)   \rReceiving objects:  49% (50/101)   \rReceiving objects:  50% (51/101)   \rReceiving objects:  51% (52/101)   \rReceiving objects:  52% (53/101)   \rReceiving objects:  53% (54/101)   \rReceiving objects:  54% (55/101)   \rReceiving objects:  55% (56/101)   \rReceiving objects:  56% (57/101)   \rReceiving objects:  57% (58/101)   \rReceiving objects:  58% (59/101)   \rReceiving objects:  59% (60/101)   \rReceiving objects:  60% (61/101)   \rReceiving objects:  61% (62/101)   \rReceiving objects:  62% (63/101)   \rReceiving objects:  63% (64/101)   \rReceiving objects:  64% (65/101)   \rReceiving objects:  65% (66/101)   \rReceiving objects:  66% (67/101)   \rReceiving objects:  67% (68/101)   \rReceiving objects:  68% (69/101)   \rReceiving objects:  69% (70/101)   \rReceiving objects:  70% (71/101)   \rReceiving objects:  71% (72/101)   \rReceiving objects:  72% (73/101)   \rReceiving objects:  73% (74/101)   \rReceiving objects:  74% (75/101)   \rReceiving objects:  75% (76/101)   \rReceiving objects:  76% (77/101)   \rReceiving objects:  77% (78/101)   \rReceiving objects:  78% (79/101)   \rReceiving objects:  79% (80/101)   \rReceiving objects:  80% (81/101)   \rReceiving objects:  81% (82/101)   \rReceiving objects:  82% (83/101)   \rReceiving objects:  83% (84/101)   \rReceiving objects:  84% (85/101)   \rReceiving objects:  85% (86/101)   \rReceiving objects:  86% (87/101)   \rReceiving objects:  87% (88/101)   \rReceiving objects:  88% (89/101)   \rReceiving objects:  89% (90/101)   \rReceiving objects:  90% (91/101)   \rReceiving objects:  91% (92/101)   \rReceiving objects:  92% (93/101)   \rReceiving objects:  93% (94/101)   \rReceiving objects:  94% (95/101)   \rReceiving objects:  95% (96/101)   \rReceiving objects:  96% (97/101)   \rReceiving objects:  97% (98/101)   \rReceiving objects:  98% (99/101)   \rReceiving objects:  99% (100/101)   \rReceiving objects: 100% (101/101)   \rReceiving objects: 100% (101/101), 84.96 KiB | 1.33 MiB/s, done.\n",
            "Resolving deltas:   0% (0/58)   \rResolving deltas:  65% (38/58)   \rResolving deltas:  70% (41/58)   \rResolving deltas:  77% (45/58)   \rResolving deltas: 100% (58/58)   \rResolving deltas: 100% (58/58), done.\n",
            "/content/Raianars_paper_One/ANN_read_matrix/Raianars_paper_One\n"
          ],
          "name": "stdout"
        }
      ]
    },
    {
      "cell_type": "code",
      "metadata": {
        "colab_type": "code",
        "id": "v1OxgXboBKoG",
        "colab": {}
      },
      "source": [
        "############################### DADOS DE ENTRADA \n",
        "RUNS=1 #NÚMERO DE RODADAS\n",
        "#mut=0.8\n",
        "#crossp=0.7\n",
        "  ############################### Função\n",
        "\n",
        "dim=10\n",
        "fchoice='Rastrigin'\n",
        "MIN,MAX=Go2MinMax.Intervalo(dim,fchoice)\n",
        "Fun=Function.Rastrigin\n",
        "PAR=len(MAX) #NUM DE PARAMETROS A SER OTIMIZADOS\n"
      ],
      "execution_count": 0,
      "outputs": []
    },
    {
      "cell_type": "code",
      "metadata": {
        "id": "6jL8MxpHvk-Y",
        "colab_type": "code",
        "colab": {}
      },
      "source": [
        "fields = ['DI RELATIVO','FRAC Its','Fo','CRo']\n",
        "\n",
        "#MAT_IND=GeraIndices(X,BESTo,FOBESTo,DIo,MAT_INDo,SOMA,TOTAL,Fun)\n"
      ],
      "execution_count": 0,
      "outputs": []
    },
    {
      "cell_type": "code",
      "metadata": {
        "id": "Mb3LmbSmj9v7",
        "colab_type": "code",
        "colab": {}
      },
      "source": [
        "##################################### \n",
        "\n",
        "#TOTAL=7*dim*its*ITE\n",
        "TOTAL=10*dim*its*ITE\n",
        "\n",
        "dimensions=len(MAX)\n",
        "start_time = time.time() #INICIALIZA CONTAGEM DO TEMPO\n",
        "\n",
        "p=int(TOTAL/its/ITE) \n",
        "NPAR=p\n",
        "\n",
        "MAX_P=np.zeros(ITE) # ATENCAO para variar F e Cr MAX_P passa a ser 3 vezes maior\n",
        "MIN_P=np.zeros(ITE) # ATENCAO para variar F e Cr MIN_P passa a ser 3 vezes maior\n",
        "\n",
        "for i in range(dim):\n",
        "  MAX_P[i]=MAX[i] \n",
        "  MIN_P[i]=MIN[i]\n",
        "\n",
        "\n",
        "for i in range(RUNS):\n",
        "  SOMA=0\n",
        "  pop = np.random.rand(NPAR, dimensions)\n",
        "  diff=np.zeros(PAR)\n",
        "  for ii in range(PAR):\n",
        "    diff[ii] = MAX[ii]-MIN[ii]\n",
        "  X = MIN + pop * diff\n",
        "    \n",
        "  PONTOS=ITE # DIVISOES DA POPULACAO\n",
        " \n",
        " ############################################################\n",
        "  #bounds=[(5*dim, 15*dim)] * PONTOS # ITE\n",
        "  #bounds=[(3*dim, 12*dim)] * PONTOS # ITE\n",
        "  #bounds=[(4*dim, 16*dim)] * PONTOS\n",
        "  \n",
        "  # nao pode ser assim pq o bounds vale p o DE nao dos parametros\n",
        "  #p=int(TOTAL/its/ITE) \n",
        "  bounds=[(p, p)] * PONTOS\n",
        "\n",
        "\n",
        "  DIo=1e99\n",
        "  \n",
        "  CRo=crossp;Fo=mut;\n",
        "  Fitness = np.asarray([Fun(ind) for ind in X])\n",
        "  XY,BEST_XY,BESTo,FOBESTo=AvaliaX(X,Fitness)\n",
        "  nrow,ncol=X.shape\n",
        "\n",
        "  QUANT=17;MAT_INDo=np.zeros((1,QUANT)); # quantos indices esta fazendo\n",
        "  MAT_INDo[0,5]=nrow  # VALOR NP\n",
        "  MAT_INDo[0,6]=Fo    # VALOR Fo   \n",
        "  MAT_INDo[0,7]=CRo   # VALOR CRo\n",
        "  \n",
        "  MAT_INDo=GeraIndices(X,BESTo,FOBESTo,DIo,MAT_INDo,SOMA,TOTAL,syn0_F,\n",
        "                       syn1_F,X_max_F,X_min_F,syn0_CR,syn1_CR,X_max_CR,\n",
        "                       X_min_CR,Fc,fields,Fun)\n",
        "  \n",
        "  DIo=np.copy(MAT_INDo[0,0])\n",
        "  pd.set_option('display.max_columns', 30)  \n",
        "  MAT_INDo[0,15]=Fo    # VALOR Fo   \n",
        "  MAT_INDo[0,16]=CRo   # VALOR CRo\n",
        "  MAT=[]\n",
        "  for loop in range(ITE):\n",
        "    X,BEST,FOBEST,XY,BEST_XY,SOMA= de_soma_Insight.de(MAX,MIN, mut, crossp,NPAR,\n",
        "                                                      its,Fun,X,SOMA,TOTAL)\n",
        "    \n",
        "    MAT_IND=GeraIndices(X,BESTo,FOBESTo,DIo,MAT_INDo,SOMA,TOTAL,syn0_F,\n",
        "                        syn1_F,X_max_F,X_min_F,syn0_CR,syn1_CR,X_max_CR,\n",
        "                        X_min_CR,Fc,fields,Fun)\n",
        "    \n",
        "    BESTo=np.copy(BEST);FOBESTo=np.copy(FOBEST);\n",
        "    MAT.append(MAT_IND.ravel())\n",
        "    \n",
        "    MAT_INDo[0,6]=MAT_IND[0,15]   # VALOR Fo   \n",
        "    MAT_INDo[0,7]=MAT_IND[0,16]   # VALOR CRo\n",
        "    \n",
        "NOMES=['DIVERSIDADE (DI)',  'DI RELATIVO','FRAC Its',\n",
        "           'VELOC FOBJ','VELOC X','NP','Fo','CRo','fmin','fmax',\n",
        "           'AD_fmin','AD_fmax','DELTA FOBJ','DELTA VX','r_fitness',\n",
        "           'F','CR']\n",
        "df  = pd.DataFrame(MAT, columns=NOMES)\n",
        "pd.set_option('display.max_columns', 30)\n",
        "pd.set_option('display.max_rows', 30)\n"
      ],
      "execution_count": 0,
      "outputs": []
    },
    {
      "cell_type": "code",
      "metadata": {
        "id": "91j45UP5k7nA",
        "colab_type": "code",
        "colab": {
          "base_uri": "https://localhost:8080/",
          "height": 54
        },
        "outputId": "807ffb3e-c0ef-44f3-84e8-2c0742d16d0b"
      },
      "source": [
        "print(BEST)"
      ],
      "execution_count": 15,
      "outputs": [
        {
          "output_type": "stream",
          "text": [
            "[-0.89056836 -0.19310537 -0.01364291  0.9775386  -0.98291474 -0.80153837\n",
            " -0.04365822  0.02244727  0.8695963   0.16807803]\n"
          ],
          "name": "stdout"
        }
      ]
    },
    {
      "cell_type": "code",
      "metadata": {
        "id": "p3O105eHiwI2",
        "colab_type": "code",
        "colab": {}
      },
      "source": [
        "XY,BEST_XY,BEST,FOBEST=AvaliaX(X,Fitness)"
      ],
      "execution_count": 0,
      "outputs": []
    },
    {
      "cell_type": "code",
      "metadata": {
        "id": "VlPXi3YciFT-",
        "colab_type": "code",
        "colab": {
          "base_uri": "https://localhost:8080/",
          "height": 35
        },
        "outputId": "aa79a405-d71a-401c-d51a-821a4decd854"
      },
      "source": [
        "print(FOBEST)"
      ],
      "execution_count": 17,
      "outputs": [
        {
          "output_type": "stream",
          "text": [
            "116.29918811729016\n"
          ],
          "name": "stdout"
        }
      ]
    },
    {
      "cell_type": "code",
      "metadata": {
        "id": "79QBcEEgqNVm",
        "colab_type": "code",
        "outputId": "72db36dd-d014-458b-cdb1-a97466ca2b93",
        "colab": {
          "base_uri": "https://localhost:8080/",
          "height": 745
        }
      },
      "source": [
        "print(df)"
      ],
      "execution_count": 18,
      "outputs": [
        {
          "output_type": "stream",
          "text": [
            "    DIVERSIDADE (DI)  DI RELATIVO  FRAC Its  VELOC FOBJ  VELOC X     NP  \\\n",
            "0           9.203191     0.990428      0.01         1.0      2.0  100.0   \n",
            "1           8.951540     0.963346      0.02         0.0      0.0  100.0   \n",
            "2           8.737912     0.940356      0.03         0.0      0.0  100.0   \n",
            "3           8.742724     0.940874      0.04         0.0      0.0  100.0   \n",
            "4           8.570384     0.922327      0.05         1.0      2.0  100.0   \n",
            "..               ...          ...       ...         ...      ...    ...   \n",
            "95          4.295242     0.462245      0.96         0.0      0.0  100.0   \n",
            "96          4.290421     0.461726      0.97         0.0      0.0  100.0   \n",
            "97          4.282651     0.460890      0.98         0.0      0.0  100.0   \n",
            "98          4.262066     0.458675      0.99         0.0      0.0  100.0   \n",
            "99          4.204714     0.452502      1.00         0.0      0.0  100.0   \n",
            "\n",
            "          Fo       CRo        fmin        fmax  AD_fmin  AD_fmax  DELTA FOBJ  \\\n",
            "0   0.750000  0.500000  110.148537  245.461903      1.0      1.0         0.0   \n",
            "1   0.262500  0.233333  110.148537  223.819390      1.0      1.0         0.0   \n",
            "2   0.452159  0.144444  110.148537  213.968596      1.0      1.0         0.0   \n",
            "3   0.188040  0.114815  110.148537  210.912907      1.0      1.0         0.0   \n",
            "4   0.320731  0.104938   89.825563  210.687368      1.0      1.0         0.0   \n",
            "..       ...       ...         ...         ...      ...      ...         ...   \n",
            "95  0.370314  0.180211   28.689593   89.219276      1.0      1.0         0.0   \n",
            "96  0.498696  0.126737   28.689593   89.219276      1.0      1.0         0.0   \n",
            "97  0.326000  0.108912   28.689593   89.219276      1.0      1.0         0.0   \n",
            "98  0.213312  0.142377   28.689593   89.219276      1.0      1.0         0.0   \n",
            "99  0.286693  0.185913   28.689593   89.219276      1.0      1.0         0.0   \n",
            "\n",
            "    DELTA VX  r_fitness         F        CR  \n",
            "0        0.0   0.551260  0.262500  0.233333  \n",
            "1        0.0   0.507869  0.452159  0.144444  \n",
            "2        0.0   0.485212  0.188040  0.114815  \n",
            "3        0.0   0.477753  0.320731  0.104938  \n",
            "4        0.0   0.573655  0.155183  0.169463  \n",
            "..       ...        ...       ...       ...  \n",
            "95       0.0   0.678437  0.498696  0.126737  \n",
            "96       0.0   0.678437  0.326000  0.108912  \n",
            "97       0.0   0.678437  0.213312  0.142377  \n",
            "98       0.0   0.678437  0.286693  0.185913  \n",
            "99       0.0   0.678437  0.383990  0.241997  \n",
            "\n",
            "[100 rows x 17 columns]\n"
          ],
          "name": "stdout"
        }
      ]
    },
    {
      "cell_type": "code",
      "metadata": {
        "id": "BvPFvbDvteDC",
        "colab_type": "code",
        "outputId": "1ea58e70-f62a-48ba-c849-63b6d2a0cadb",
        "colab": {
          "base_uri": "https://localhost:8080/",
          "height": 284
        }
      },
      "source": [
        "plt.plot(df['FRAC Its'],df['F'])"
      ],
      "execution_count": 19,
      "outputs": [
        {
          "output_type": "execute_result",
          "data": {
            "text/plain": [
              "[<matplotlib.lines.Line2D at 0x7f2580264f60>]"
            ]
          },
          "metadata": {
            "tags": []
          },
          "execution_count": 19
        },
        {
          "output_type": "display_data",
          "data": {
            "image/png": "[encoded data removed]",
            "text/plain": [
              "<Figure size 432x288 with 1 Axes>"
            ]
          },
          "metadata": {
            "tags": []
          }
        }
      ]
    },
    {
      "cell_type": "code",
      "metadata": {
        "id": "LRYu0M6Bt9oM",
        "colab_type": "code",
        "outputId": "33486170-4510-464f-c006-52cb1e0ca637",
        "colab": {
          "base_uri": "https://localhost:8080/",
          "height": 284
        }
      },
      "source": [
        "plt.plot(df['FRAC Its'],df['CR'])"
      ],
      "execution_count": 20,
      "outputs": [
        {
          "output_type": "execute_result",
          "data": {
            "text/plain": [
              "[<matplotlib.lines.Line2D at 0x7f257fda6b38>]"
            ]
          },
          "metadata": {
            "tags": []
          },
          "execution_count": 20
        },
        {
          "output_type": "display_data",
          "data": {
            "image/png": "[encoded data removed]",
            "text/plain": [
              "<Figure size 432x288 with 1 Axes>"
            ]
          },
          "metadata": {
            "tags": []
          }
        }
      ]
    },
    {
      "cell_type": "code",
      "metadata": {
        "id": "rBA1mAm08wJI",
        "colab_type": "code",
        "colab": {
          "base_uri": "https://localhost:8080/",
          "height": 35
        },
        "outputId": "6fac10bd-226b-469e-82ee-6ac953d040da"
      },
      "source": [
        "a=3\n",
        "b=1\n",
        "if (a >2): b=a+1\n",
        "print(b)"
      ],
      "execution_count": 21,
      "outputs": [
        {
          "output_type": "stream",
          "text": [
            "4\n"
          ],
          "name": "stdout"
        }
      ]
    }
  ]
}