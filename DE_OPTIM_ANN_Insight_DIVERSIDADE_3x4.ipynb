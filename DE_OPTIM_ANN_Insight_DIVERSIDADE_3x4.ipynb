{
  "nbformat": 4,
  "nbformat_minor": 0,
  "metadata": {
    "colab": {
      "name": "DE_OPTIM_ANN_Insight_DIVERSIDADE_3x4.ipynb",
      "provenance": [],
      "collapsed_sections": [],
      "include_colab_link": true
    },
    "kernelspec": {
      "name": "python3",
      "display_name": "Python 3"
    },
    "language_info": {
      "codemirror_mode": {
        "name": "ipython",
        "version": 3
      },
      "file_extension": ".py",
      "mimetype": "text/x-python",
      "name": "python",
      "nbconvert_exporter": "python",
      "pygments_lexer": "ipython3",
      "version": "3.7.3"
    },
    "accelerator": "GPU"
  },
  "cells": [
    {
      "cell_type": "markdown",
      "metadata": {
        "id": "view-in-github",
        "colab_type": "text"
      },
      "source": [
        "<a href=\"https://colab.research.google.com/github/ucfilho/Raianars_paper_One/blob/master/DE_OPTIM_ANN_Insight_DIVERSIDADE_3x4.ipynb\" target=\"_parent\"><img src=\"https://colab.research.google.com/assets/colab-badge.svg\" alt=\"Open In Colab\"/></a>"
      ]
    },
    {
      "cell_type": "code",
      "metadata": {
        "id": "qyA7a-1Tq5Fr",
        "colab_type": "code",
        "colab": {}
      },
      "source": [
        "import time\n",
        "import matplotlib.pyplot as plt\n",
        "import numpy as np\n",
        "from random import randint\n",
        "from scipy import optimize\n",
        "import pandas as pd\n",
        "from sklearn.metrics import confusion_matrix"
      ],
      "execution_count": 0,
      "outputs": []
    },
    {
      "cell_type": "code",
      "metadata": {
        "id": "h_TDOErSs_Fi",
        "colab_type": "code",
        "colab": {}
      },
      "source": [
        "Fc=0.1 # fator de correcao parametros da ANN\n",
        "its=1 #10 # quantas vezes vai usar o NPAR antes de alterar de novo\n",
        "ITE=100 #10 # PONTOS quantas vezes vai alteral NPAR \n",
        "\n",
        "mut=0.7\n",
        "crossp=0.5;"
      ],
      "execution_count": 0,
      "outputs": []
    },
    {
      "cell_type": "code",
      "metadata": {
        "id": "i5cteBfwoTrX",
        "colab_type": "code",
        "colab": {}
      },
      "source": [
        "\n",
        "def AvaliaX(X):\n",
        "  nrow,ncol=X.shape\n",
        "  fitness = np.asarray([Fun(ind) for ind in X])\n",
        "  best_idx = np.argmin(fitness)\n",
        "  best = X[best_idx]\n",
        "  fobj_best = fitness[best_idx]\n",
        "  y=fitness\n",
        "  BEST=best\n",
        "  FOBEST=fobj_best\n",
        "  XY= np.c_[X,y] #concatena x e y em 2 colunas            \n",
        "  XYsorted = XY[XY[:,-1].argsort()] #Ordena a partir da last col(Y) for all row\n",
        "  x=XYsorted[:,0:ncol]\n",
        "  XY=XYsorted\n",
        "  BEST_XY =np.append(BEST,FOBEST)\n",
        "  return XY,BEST_XY,BEST,FOBEST"
      ],
      "execution_count": 0,
      "outputs": []
    },
    {
      "cell_type": "code",
      "metadata": {
        "id": "Va-6Xios8RjU",
        "colab_type": "code",
        "outputId": "12603a27-44ba-4554-fec6-4bda8fd96701",
        "colab": {
          "base_uri": "https://localhost:8080/",
          "height": 54
        }
      },
      "source": [
        "!git clone https://github.com/ucfilho/optim_raianars_Insight #clonar do Github\n",
        "%cd optim_raianars_Insight"
      ],
      "execution_count": 4,
      "outputs": [
        {
          "output_type": "stream",
          "text": [
            "fatal: destination path 'optim_raianars_Insight' already exists and is not an empty directory.\n",
            "/content/optim_raianars_Insight\n"
          ],
          "name": "stdout"
        }
      ]
    },
    {
      "cell_type": "code",
      "metadata": {
        "id": "75o_QgSH8fKw",
        "colab_type": "code",
        "colab": {}
      },
      "source": [
        "import Go2Ann"
      ],
      "execution_count": 0,
      "outputs": []
    },
    {
      "cell_type": "code",
      "metadata": {
        "id": "qTINtQ1cosZK",
        "colab_type": "code",
        "outputId": "8b764556-f795-4c1f-d29b-51ddb334c075",
        "colab": {
          "base_uri": "https://localhost:8080/",
          "height": 54
        }
      },
      "source": [
        "!git clone https://github.com/ucfilho/ANN_read_matrix #clonar do Github\n",
        "%cd ANN_read_matrix"
      ],
      "execution_count": 6,
      "outputs": [
        {
          "output_type": "stream",
          "text": [
            "fatal: destination path 'ANN_read_matrix' already exists and is not an empty directory.\n",
            "/content/optim_raianars_Insight/ANN_read_matrix\n"
          ],
          "name": "stdout"
        }
      ]
    },
    {
      "cell_type": "code",
      "metadata": {
        "id": "QiQLYOoNoyCw",
        "colab_type": "code",
        "colab": {}
      },
      "source": [
        "ANN_F=pd.read_csv('ANN_INSIGHT_Valor_F.csv')"
      ],
      "execution_count": 0,
      "outputs": []
    },
    {
      "cell_type": "code",
      "metadata": {
        "id": "uHtW2amaDzFv",
        "colab_type": "code",
        "colab": {}
      },
      "source": [
        "ANN_CR=pd.read_csv('ANN_INSIGHT_CR.csv')"
      ],
      "execution_count": 0,
      "outputs": []
    },
    {
      "cell_type": "code",
      "metadata": {
        "id": "EH6h_vke2yu1",
        "colab_type": "code",
        "colab": {}
      },
      "source": [
        "syn0_F,syn1_F,X_max_F,X_min_F=Go2Ann.GetMatriz(ANN_F)"
      ],
      "execution_count": 0,
      "outputs": []
    },
    {
      "cell_type": "code",
      "metadata": {
        "id": "WW_3ZWJXD60i",
        "colab_type": "code",
        "colab": {}
      },
      "source": [
        "syn0_CR,syn1_CR,X_max_CR,X_min_CR=Go2Ann.GetMatriz(ANN_CR)"
      ],
      "execution_count": 0,
      "outputs": []
    },
    {
      "cell_type": "code",
      "metadata": {
        "id": "b4gwBvVTyaXh",
        "colab_type": "code",
        "colab": {}
      },
      "source": [
        "ANN_CR=pd.read_csv('ANN_INSIGHT_CR.csv')"
      ],
      "execution_count": 0,
      "outputs": []
    },
    {
      "cell_type": "code",
      "metadata": {
        "id": "z7H0bUMdqY-t",
        "colab_type": "code",
        "outputId": "34016d43-10e3-4e59-a7c8-953dbef91a05",
        "colab": {
          "base_uri": "https://localhost:8080/",
          "height": 54
        }
      },
      "source": [
        "############################### Importar códigos\n",
        "!git clone https://github.com/ucfilho/optim_raianars_Insight/ #clonar do Github\n",
        "%cd optim_raianars_Insight\n",
        "import de_soma_Insight\n",
        "import de_bounds_matriz"
      ],
      "execution_count": 12,
      "outputs": [
        {
          "output_type": "stream",
          "text": [
            "fatal: destination path 'optim_raianars_Insight' already exists and is not an empty directory.\n",
            "/content/optim_raianars_Insight/ANN_read_matrix/optim_raianars_Insight\n"
          ],
          "name": "stdout"
        }
      ]
    },
    {
      "cell_type": "code",
      "metadata": {
        "colab_type": "code",
        "id": "v1OxgXboBKoG",
        "colab": {}
      },
      "source": [
        "############################### DADOS DE ENTRADA \n",
        "RUNS=1 #NÚMERO DE RODADAS\n",
        "#mut=0.8\n",
        "#crossp=0.7\n",
        "  ############################### Função\n",
        "import Function\n",
        "\n",
        "\n",
        "'''\n",
        "Fun=Function.Rosenbrock\n",
        "dim=5\n",
        "MAX=np.repeat(10,dim)\n",
        "MIN=np.repeat(-10,dim)\n",
        "\n",
        "  #Global optimum: f(xi)= 0\n",
        "'''\n",
        "'''\n",
        "dim=10\n",
        "Fun=Function.Sphere\n",
        "MAX=np.repeat(5.12,dim)\n",
        "MIN=np.repeat(-5.12,dim)\n",
        "  # f(x)=0 x=(0,0) [-5.12,5.12]\n",
        "'''\n",
        "'''\n",
        "dim=10\n",
        "Fun=Function.Schwefel\n",
        "MAX=np.repeat(500,dim)\n",
        "MIN=np.repeat(-500,dim)\n",
        "  #Global optimum: f(xi)= 0 for xi = 420.968746 for i=1,...,n  ;  xi in [-500,500]  \n",
        "'''\n",
        "#'''\n",
        "dim=30\n",
        "Fun=Function.Rastrigin\n",
        "MAX=np.repeat(5.12,dim)\n",
        "MIN=np.repeat(-5.12,dim)\n",
        "  # f(x)=0 x=(0,0) [-5.12,5.12]\n",
        "#'''\n",
        "'''\n",
        "dim=30\n",
        "Fun=Function.Sum_of_different_powers\n",
        "MAX=np.repeat(1,dim)\n",
        "MIN=np.repeat(-1,dim)\n",
        "  # f(x)=0 x=(0,0)\n",
        "'''\n",
        "'''  \n",
        "dim=30\n",
        "Fun=Function.Ackley\n",
        "MAX=np.repeat(32,dim)\n",
        "MIN=np.repeat(-32,dim)\n",
        " # f(x)=0 x=(0,0) [-32, 32]\n",
        "'''\n",
        "'''  \n",
        "dim=30\n",
        "Fun=Function.Michalewicz\n",
        "MAX=np.repeat(np.pi,dim)\n",
        "MIN=np.repeat(0,dim)\n",
        " #fx=-9.66015 p/ d=10 [0,pi]\n",
        "'''\n",
        "'''  \n",
        "dim=30\n",
        "Fun=Function.\n",
        "MAX=np.repeat(1,dim)\n",
        "MIN=np.repeat(-1,dim)\n",
        "'''\n",
        "\n",
        "PAR=len(MAX) #NUM DE PARAMETROS A SER OTIMIZADOS\n"
      ],
      "execution_count": 0,
      "outputs": []
    },
    {
      "cell_type": "code",
      "metadata": {
        "colab_type": "code",
        "id": "BDMwd41C5ahQ",
        "colab": {}
      },
      "source": [
        "def GeraIndices(X,BESTo,FOBESTo,DIo,MAT_INDo,SOMA,TOTAL):\n",
        "  global fields, Go2Ann, Fc\n",
        "  global syn0_F,syn1_F,X_max_F,X_min_F\n",
        "  global syn0_CR,syn1_CR,X_max_CR,X_min_CR\n",
        "  nrow,ncol=X.shape\n",
        "  FOBESTm=1e99\n",
        "  Fo=MAT_INDo[0,6]    # VALOR Fo   \n",
        "  CRo=MAT_INDo[0,7]   # VALOR CRo\n",
        "  QUANT=17 # quantos indices esta fazendo\n",
        "  MAT_IND=np.zeros((1,QUANT))\n",
        "\n",
        "  REF=0.1 # REFERENCIA DE DIFERENCAS ENTRE OS ELEMENTOS\n",
        "  \n",
        "  XY,BEST_XY,BEST,FOBEST=AvaliaX(X)\n",
        "  soma=0\n",
        "  for j in range(ncol):\n",
        "    for i in range(nrow):\n",
        "        Xj=np.mean(X[:,j])\n",
        "        soma=soma+(X[i,j]-Xj)**2\n",
        "  DI=(soma/nrow)**0.5\n",
        "  DIr=DI/DIo\n",
        "  MAT_IND[0,0]=DI #dispersao\n",
        "  MAT_IND[0,1]=DIr # dispersao relativa\n",
        "  MAT_IND[0,2]=SOMA/TOTAL # fracao relativa\n",
        "\n",
        "  V1=FOBESTo\n",
        "  V2=FOBEST\n",
        "  A=2*V2\n",
        "  if(V1 > A):\n",
        "    MAT_IND[0,3]=2 # o valor de fobj torna pelo menos duas vezes melhor\n",
        "  elif (V2==V1):\n",
        "    MAT_IND[0,3]=0 # o valor de fobj nao altera\n",
        "  else:\n",
        "    MAT_IND[0,3]=1 # o valor de fobj melhora mas menos que duas vezes\n",
        "  \n",
        "  # MAT_IND[0,4]  # VELOC X\n",
        "  DELTA=np.amax(abs(BEST-BESTo))\n",
        "  if( DELTA >REF):\n",
        "    MAT_IND[0,4]=2 # difere  for i in range(1,len(PARTIC)):\n",
        "  elif ( DELTA == 0):\n",
        "    MAT_IND[0,4]=0 # sem diferenca entre as posicoes do xbest entre duas buscas\n",
        "  else:\n",
        "    MAT_IND[0,4]=1 # diferenca entre as posicoes  do xbest menor que ref\n",
        "  \n",
        "  MAT_IND[0,5]=nrow  # VALOR NP\n",
        "  nrow,ncol=XY.shape\n",
        "  MAT_IND[0,8]=XY[0,(ncol-1)] # VALOR fmin\n",
        "  MAT_IND[0,9]=XY[(nrow-1),(ncol-1)] # VALOR fmax\n",
        "  # MAT_IND[0,10] # Valor AD_fmin \n",
        "  if abs(MAT_IND[0,8]/MAT_IND[0,8])>1:\n",
        "    MAT_IND[0,10]=1/abs(MAT_IND[0,8])\n",
        "  else:\n",
        "    MAT_IND[0,10]=MAT_IND[0,8]/MAT_IND[0,8]\n",
        "  # MAT_IND[0,11] # Valor AD_fmax\n",
        "  if abs(MAT_IND[0,9]/MAT_IND[0,9])>1: # tem que pegar primeira\n",
        "    MAT_IND[0,11]=1/abs(MAT_IND[0,9]) # tem que pegar primeira\n",
        "  else:\n",
        "    MAT_IND[0,11]=MAT_IND[0,9]/MAT_IND[0,9] # tem que pegar do anterior\n",
        "\n",
        "  # MAT_IND[0,12] # DELTA Fobj\n",
        "  MAT_IND[0,12]=MAT_IND[0,3]-MAT_IND[0,3]  # tem que pegar do anterior\n",
        "  \n",
        "\n",
        "  # MAT_IND[0,13] # DELTA Vx\n",
        "  MAT_IND[0,13]=MAT_IND[0,4]-MAT_IND[0,4]  # tem que pegar do anterior\n",
        "\n",
        "  # MAT_IND[0,14] # r_fitness\n",
        "  Fmin=0.05\n",
        "  if (MAT_IND[0,8]==0):\n",
        "    MAT_IND[0,14]=Fmin\n",
        "  elif (MAT_IND[0,9]==0):\n",
        "    MAT_IND[0,14]=Fmin\n",
        "  else:\n",
        "    if abs(MAT_IND[0,9]/MAT_IND[0,8])<1:\n",
        "      MAT_IND[0,14]=1-abs(MAT_IND[0,9]/MAT_IND[0,8])\n",
        "    else:\n",
        "      MAT_IND[0,14]=1-abs(MAT_IND[0,8]/MAT_IND[0,9])\n",
        "\n",
        "  MAT_IND[0,6]=Fo\n",
        "  MAT_IND[0,7]=CRo\n",
        "\n",
        "  # comecando a rede!!!\n",
        "  #['DI RELATIVO', 'FRAC Its', 'Fo', 'CRo'] VALORES A USAR\n",
        "  #MAT_IND[0,1]=DIr # dispersao relativa\n",
        "  #MAT_IND[0,2]=SOMA/TOTAL # fracao relativa\n",
        "  #MAT_IND[0,6]=Fo\n",
        "  #MAT_IND[0,7]=CRo\n",
        "  \n",
        "  x_train=MAT_INDo[0,[1,2,6,7]]\n",
        "  x_train=pd.DataFrame(x_train).T\n",
        "\n",
        "  nrow,ncol=ANN_F.shape\n",
        "  x_train=Go2Ann.Normatiza(x_train,X_max_F,X_min_F)\n",
        "  y_calc_F=Go2Ann.ANN_ycal(syn0_F,syn1_F,x_train)\n",
        "  y_calc_CR=Go2Ann.ANN_ycal(syn0_CR,syn1_CR,x_train)\n",
        "  #print(x_train);\n",
        "  #print(y_calc);\n",
        "  y_cod_F=Go2Ann.Classifica(y_calc_F)\n",
        "  y_cod_CR=Go2Ann.Classifica(y_calc_CR)\n",
        "\n",
        "  Fd=DIr\n",
        "  CRa=np.copy(CRo)\n",
        "  Fa=np.copy(Fo)\n",
        "\n",
        "  if(y_cod_F>0):\n",
        "    Fo=Fo*(1+Fd) #Fo=Fo+Fc\n",
        "    Fo=(3*Fo+Fa)/4 # para suavizar\n",
        "    if(Fo<Fa):\n",
        "      Fo=Fa+0.05\n",
        "    if(Fo<Fa): # conferir a necessidade de melhorar \n",
        "      Fo=Fa+0.05\n",
        "  else:\n",
        "    Fo=Fo*(1-Fd) #Fo=Fo-Fc\n",
        "  \n",
        "  if(y_cod_CR>0):\n",
        "    CRo=CRo*(1+Fd) #CRo=CRo+Fc\n",
        "    CRo=(3*CRo+CRa)/4 # para suavizar\n",
        "    if(CRo<CRa):  # conferir a necessidade de melhorar \n",
        "      CRo=CRa+0.05\n",
        "  else:\n",
        "    CRo=CRo*(1-Fd);#CRo=CRo-Fc\n",
        "  \n",
        "  if(CRo<Fc):\n",
        "    CRo=(CRo+CRa)/2 # conferir a necessidade de melhorar\n",
        "  if(CRo> 1):\n",
        "    CRo=1\n",
        "\n",
        "  if(Fo<Fc):\n",
        "    Fo=(Fa+Fo)/2  # conferir a necessidade de melhorar\n",
        "  if(Fo> 1):\n",
        "    Fo=1\n",
        "  \n",
        "  CRo=(2*CRo+CRa)/3 # para suavizar\n",
        "  \n",
        "  MAT_IND[0,15]=Fo # valor de F que sai da rede\n",
        "  MAT_IND[0,16]=CRo # valor de CR que sai da rede\n",
        "  #print(confusion_matrix(y_quali,y_obs_test))\n",
        "  \n",
        "  return MAT_IND\n",
        "\n"
      ],
      "execution_count": 0,
      "outputs": []
    },
    {
      "cell_type": "code",
      "metadata": {
        "id": "6jL8MxpHvk-Y",
        "colab_type": "code",
        "colab": {}
      },
      "source": [
        "fields = ['DI RELATIVO','FRAC Its','Fo','CRo']\n",
        "\n",
        "\n"
      ],
      "execution_count": 0,
      "outputs": []
    },
    {
      "cell_type": "code",
      "metadata": {
        "id": "Mb3LmbSmj9v7",
        "colab_type": "code",
        "colab": {}
      },
      "source": [
        "##################################### \n",
        "\n",
        "#TOTAL=7*dim*its*ITE\n",
        "TOTAL=10*dim*its*ITE\n",
        "\n",
        "dimensions=len(MAX)\n",
        "start_time = time.time() #INICIALIZA CONTAGEM DO TEMPO\n",
        "\n",
        "p=int(TOTAL/its/ITE) \n",
        "NPAR=p\n",
        "\n",
        "MAX_P=np.zeros(ITE) # ATENCAO para variar F e Cr MAX_P passa a ser 3 vezes maior\n",
        "MIN_P=np.zeros(ITE) # ATENCAO para variar F e Cr MIN_P passa a ser 3 vezes maior\n",
        "\n",
        "for i in range(dim):\n",
        "  MAX_P[i]=MAX[i] \n",
        "  MIN_P[i]=MIN[i]\n",
        "\n",
        "\n",
        "for i in range(RUNS):\n",
        "  SOMA=0\n",
        "  pop = np.random.rand(NPAR, dimensions)\n",
        "  diff=np.zeros(PAR)\n",
        "  for ii in range(PAR):\n",
        "    diff[ii] = MAX[ii]-MIN[ii]\n",
        "  X = MIN + pop * diff\n",
        "    \n",
        "  PONTOS=ITE # DIVISOES DA POPULACAO\n",
        " \n",
        " ############################################################\n",
        "  #bounds=[(5*dim, 15*dim)] * PONTOS # ITE\n",
        "  #bounds=[(3*dim, 12*dim)] * PONTOS # ITE\n",
        "  #bounds=[(4*dim, 16*dim)] * PONTOS\n",
        "  \n",
        "  # nao pode ser assim pq o bounds vale p o DE nao dos parametros\n",
        "  #p=int(TOTAL/its/ITE) \n",
        "  bounds=[(p, p)] * PONTOS\n",
        "\n",
        "\n",
        "  DIo=1e99\n",
        "  \n",
        "  CRo=crossp;Fo=mut;\n",
        "  #Xo=np.copy(X)\n",
        "  XY,BEST_XY,BESTo,FOBESTo=AvaliaX(X)\n",
        "  nrow,ncol=X.shape\n",
        "\n",
        "  QUANT=17;MAT_INDo=np.zeros((1,QUANT)); # quantos indices esta fazendo\n",
        "  MAT_INDo[0,5]=nrow  # VALOR NP\n",
        "  MAT_INDo[0,6]=Fo    # VALOR Fo   \n",
        "  MAT_INDo[0,7]=CRo   # VALOR CRo\n",
        "  \n",
        "  MAT_INDo=GeraIndices(X,BESTo,FOBESTo,DIo,MAT_INDo,SOMA,TOTAL)\n",
        "  \n",
        "  DIo=np.copy(MAT_INDo[0,0])\n",
        "  pd.set_option('display.max_columns', 30)  \n",
        "  MAT_INDo[0,15]=Fo    # VALOR Fo   \n",
        "  MAT_INDo[0,16]=CRo   # VALOR CRo\n",
        "  MAT=[]\n",
        "  for loop in range(ITE):\n",
        "    X,BEST,FOBEST,XY,BEST_XY,SOMA= de_soma_Insight.de(MAX,MIN, mut, crossp,NPAR,\n",
        "                                                      its,Fun,X,SOMA,TOTAL)\n",
        "    \n",
        "    MAT_IND=GeraIndices(X,BESTo,FOBESTo,DIo,MAT_INDo,SOMA,TOTAL)\n",
        "    \n",
        "    BESTo=np.copy(BEST);FOBESTo=np.copy(FOBEST);\n",
        "    MAT.append(MAT_IND.ravel())\n",
        "    \n",
        "    MAT_INDo[0,6]=MAT_IND[0,15]   # VALOR Fo   \n",
        "    MAT_INDo[0,7]=MAT_IND[0,16]   # VALOR CRo\n",
        "    \n",
        "NOMES=['DIVERSIDADE (DI)',  'DI RELATIVO','FRAC Its',\n",
        "           'VELOC FOBJ','VELOC X','NP','Fo','CRo','fmin','fmax',\n",
        "           'AD_fmin','AD_fmax','DELTA FOBJ','DELTA VX','r_fitness',\n",
        "           'F','CR']\n",
        "df  = pd.DataFrame(MAT, columns=NOMES)\n",
        "pd.set_option('display.max_columns', 30)\n",
        "pd.set_option('display.max_rows', 30)\n"
      ],
      "execution_count": 0,
      "outputs": []
    },
    {
      "cell_type": "code",
      "metadata": {
        "id": "79QBcEEgqNVm",
        "colab_type": "code",
        "outputId": "d059e119-206a-4823-e258-14cd89ba9b48",
        "colab": {
          "base_uri": "https://localhost:8080/",
          "height": 745
        }
      },
      "source": [
        "print(df)"
      ],
      "execution_count": 17,
      "outputs": [
        {
          "output_type": "stream",
          "text": [
            "    DIVERSIDADE (DI)  DI RELATIVO  FRAC Its  VELOC FOBJ  VELOC X     NP  \\\n",
            "0          16.313747     1.006180      0.01         1.0      2.0  300.0   \n",
            "1          16.304587     1.005615      0.02         0.0      0.0  300.0   \n",
            "2          16.317152     1.006390      0.03         0.0      0.0  300.0   \n",
            "3          16.254004     1.002495      0.04         0.0      0.0  300.0   \n",
            "4          16.255091     1.002562      0.05         0.0      0.0  300.0   \n",
            "..               ...          ...       ...         ...      ...    ...   \n",
            "95         12.741783     0.785872      0.96         0.0      0.0  300.0   \n",
            "96         12.712122     0.784043      0.97         0.0      0.0  300.0   \n",
            "97         12.657794     0.780692      0.98         0.0      0.0  300.0   \n",
            "98         12.614054     0.777994      0.99         0.0      0.0  300.0   \n",
            "99         12.606605     0.777535      1.00         0.0      0.0  300.0   \n",
            "\n",
            "          Fo       CRo        fmin        fmax  AD_fmin  AD_fmax  DELTA FOBJ  \\\n",
            "0   0.700000  0.500000  363.894528  690.824192      1.0      1.0         0.0   \n",
            "1   0.347837  0.332303  363.894528  657.358302      1.0      1.0         0.0   \n",
            "2   0.610180  0.220914  363.894528  657.358302      1.0      1.0         0.0   \n",
            "3   0.303140  0.146805  363.894528  657.358302      1.0      1.0         0.0   \n",
            "4   0.531063  0.220391  363.894528  627.917999      1.0      1.0         0.0   \n",
            "..       ...       ...         ...         ...      ...      ...         ...   \n",
            "95  0.213418  0.081177  263.267314  435.224882      1.0      1.0         0.0   \n",
            "96  0.339208  0.113075  263.267314  435.224882      1.0      1.0         0.0   \n",
            "97  0.206231  0.157402  263.267314  435.224882      1.0      1.0         0.0   \n",
            "98  0.326984  0.218844  263.267314  435.224882      1.0      1.0         0.0   \n",
            "99  0.517777  0.162091  263.267314  430.415466      1.0      1.0         0.0   \n",
            "\n",
            "    DELTA VX  r_fitness         F        CR  \n",
            "0        0.0   0.473246  0.347837  0.332303  \n",
            "1        0.0   0.446429  0.610180  0.220914  \n",
            "2        0.0   0.446429  0.303140  0.146805  \n",
            "3        0.0   0.446429  0.531063  0.220391  \n",
            "4        0.0   0.420474  0.264851  0.146739  \n",
            "..       ...        ...       ...       ...  \n",
            "95       0.0   0.395100  0.339208  0.113075  \n",
            "96       0.0   0.395100  0.206231  0.157402  \n",
            "97       0.0   0.395100  0.326984  0.218844  \n",
            "98       0.0   0.395100  0.517777  0.162091  \n",
            "99       0.0   0.388341  0.115187  0.120080  \n",
            "\n",
            "[100 rows x 17 columns]\n"
          ],
          "name": "stdout"
        }
      ]
    },
    {
      "cell_type": "code",
      "metadata": {
        "id": "BvPFvbDvteDC",
        "colab_type": "code",
        "outputId": "dc01e987-8c7b-4745-aab2-2d9d7b4e4af4",
        "colab": {
          "base_uri": "https://localhost:8080/",
          "height": 284
        }
      },
      "source": [
        "plt.plot(df['FRAC Its'],df['F'])"
      ],
      "execution_count": 18,
      "outputs": [
        {
          "output_type": "execute_result",
          "data": {
            "text/plain": [
              "[<matplotlib.lines.Line2D at 0x7fc468f254a8>]"
            ]
          },
          "metadata": {
            "tags": []
          },
          "execution_count": 18
        },
        {
          "output_type": "display_data",
          "data": {
            "image/png": "[encoded data removed]",
            "text/plain": [
              "<Figure size 432x288 with 1 Axes>"
            ]
          },
          "metadata": {
            "tags": []
          }
        }
      ]
    },
    {
      "cell_type": "code",
      "metadata": {
        "id": "LRYu0M6Bt9oM",
        "colab_type": "code",
        "outputId": "f2155f72-130a-430f-baf3-2ee1038ee579",
        "colab": {
          "base_uri": "https://localhost:8080/",
          "height": 284
        }
      },
      "source": [
        "plt.plot(df['FRAC Its'],df['CR'])"
      ],
      "execution_count": 19,
      "outputs": [
        {
          "output_type": "execute_result",
          "data": {
            "text/plain": [
              "[<matplotlib.lines.Line2D at 0x7fc468a65518>]"
            ]
          },
          "metadata": {
            "tags": []
          },
          "execution_count": 19
        },
        {
          "output_type": "display_data",
          "data": {
            "image/png": "[encoded data removed]",
            "text/plain": [
              "<Figure size 432x288 with 1 Axes>"
            ]
          },
          "metadata": {
            "tags": []
          }
        }
      ]
    }
  ]
}